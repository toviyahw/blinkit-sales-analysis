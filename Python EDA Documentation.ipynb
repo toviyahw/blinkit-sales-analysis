{
 "cells": [
  {
   "cell_type": "markdown",
   "metadata": {},
   "source": [
    "# Blinkit Sales: Exploratory Data Analysis with Python"
   ]
  },
  {
   "cell_type": "code",
   "execution_count": 3,
   "metadata": {},
   "outputs": [],
   "source": [
    "# importing neccessary libraries\n",
    "import pandas as pd\n",
    "import matplotlib.pyplot as plt\n",
    "import numpy as np\n",
    "import seaborn as sns"
   ]
  },
  {
   "cell_type": "markdown",
   "metadata": {},
   "source": [
    "### File 1: Blinkit Products"
   ]
  },
  {
   "cell_type": "code",
   "execution_count": 5,
   "metadata": {},
   "outputs": [
    {
     "data": {
      "text/html": [
       "<div>\n",
       "<style scoped>\n",
       "    .dataframe tbody tr th:only-of-type {\n",
       "        vertical-align: middle;\n",
       "    }\n",
       "\n",
       "    .dataframe tbody tr th {\n",
       "        vertical-align: top;\n",
       "    }\n",
       "\n",
       "    .dataframe thead th {\n",
       "        text-align: right;\n",
       "    }\n",
       "</style>\n",
       "<table border=\"1\" class=\"dataframe\">\n",
       "  <thead>\n",
       "    <tr style=\"text-align: right;\">\n",
       "      <th></th>\n",
       "      <th>product_id</th>\n",
       "      <th>product_name</th>\n",
       "      <th>category</th>\n",
       "      <th>brand</th>\n",
       "      <th>price</th>\n",
       "      <th>mrp</th>\n",
       "      <th>margin_percentage</th>\n",
       "      <th>shelf_life_days</th>\n",
       "      <th>min_stock_level</th>\n",
       "      <th>max_stock_level</th>\n",
       "    </tr>\n",
       "  </thead>\n",
       "  <tbody>\n",
       "    <tr>\n",
       "      <th>0</th>\n",
       "      <td>153019</td>\n",
       "      <td>Onions</td>\n",
       "      <td>Fruits &amp; Vegetables</td>\n",
       "      <td>Aurora LLC</td>\n",
       "      <td>947.95</td>\n",
       "      <td>1263.93</td>\n",
       "      <td>25.0</td>\n",
       "      <td>3</td>\n",
       "      <td>13</td>\n",
       "      <td>88</td>\n",
       "    </tr>\n",
       "    <tr>\n",
       "      <th>1</th>\n",
       "      <td>11422</td>\n",
       "      <td>Potatoes</td>\n",
       "      <td>Fruits &amp; Vegetables</td>\n",
       "      <td>Ramaswamy-Tata</td>\n",
       "      <td>127.16</td>\n",
       "      <td>169.55</td>\n",
       "      <td>25.0</td>\n",
       "      <td>3</td>\n",
       "      <td>20</td>\n",
       "      <td>65</td>\n",
       "    </tr>\n",
       "    <tr>\n",
       "      <th>2</th>\n",
       "      <td>669378</td>\n",
       "      <td>Potatoes</td>\n",
       "      <td>Fruits &amp; Vegetables</td>\n",
       "      <td>Chadha and Sons</td>\n",
       "      <td>212.14</td>\n",
       "      <td>282.85</td>\n",
       "      <td>25.0</td>\n",
       "      <td>3</td>\n",
       "      <td>23</td>\n",
       "      <td>70</td>\n",
       "    </tr>\n",
       "    <tr>\n",
       "      <th>3</th>\n",
       "      <td>848226</td>\n",
       "      <td>Tomatoes</td>\n",
       "      <td>Fruits &amp; Vegetables</td>\n",
       "      <td>Barad and Sons</td>\n",
       "      <td>209.59</td>\n",
       "      <td>279.45</td>\n",
       "      <td>25.0</td>\n",
       "      <td>3</td>\n",
       "      <td>10</td>\n",
       "      <td>51</td>\n",
       "    </tr>\n",
       "    <tr>\n",
       "      <th>4</th>\n",
       "      <td>890623</td>\n",
       "      <td>Onions</td>\n",
       "      <td>Fruits &amp; Vegetables</td>\n",
       "      <td>Sangha, Nagar and Varty</td>\n",
       "      <td>354.52</td>\n",
       "      <td>472.69</td>\n",
       "      <td>25.0</td>\n",
       "      <td>3</td>\n",
       "      <td>27</td>\n",
       "      <td>55</td>\n",
       "    </tr>\n",
       "    <tr>\n",
       "      <th>...</th>\n",
       "      <td>...</td>\n",
       "      <td>...</td>\n",
       "      <td>...</td>\n",
       "      <td>...</td>\n",
       "      <td>...</td>\n",
       "      <td>...</td>\n",
       "      <td>...</td>\n",
       "      <td>...</td>\n",
       "      <td>...</td>\n",
       "      <td>...</td>\n",
       "    </tr>\n",
       "    <tr>\n",
       "      <th>263</th>\n",
       "      <td>444361</td>\n",
       "      <td>Pain Reliever</td>\n",
       "      <td>Pharmacy</td>\n",
       "      <td>Prakash, Bawa and Kale</td>\n",
       "      <td>822.63</td>\n",
       "      <td>1028.29</td>\n",
       "      <td>20.0</td>\n",
       "      <td>365</td>\n",
       "      <td>20</td>\n",
       "      <td>71</td>\n",
       "    </tr>\n",
       "    <tr>\n",
       "      <th>264</th>\n",
       "      <td>679284</td>\n",
       "      <td>Cough Syrup</td>\n",
       "      <td>Pharmacy</td>\n",
       "      <td>Pant LLC</td>\n",
       "      <td>877.89</td>\n",
       "      <td>1097.36</td>\n",
       "      <td>20.0</td>\n",
       "      <td>365</td>\n",
       "      <td>28</td>\n",
       "      <td>95</td>\n",
       "    </tr>\n",
       "    <tr>\n",
       "      <th>265</th>\n",
       "      <td>240179</td>\n",
       "      <td>Cough Syrup</td>\n",
       "      <td>Pharmacy</td>\n",
       "      <td>Ram-Suri</td>\n",
       "      <td>90.56</td>\n",
       "      <td>113.20</td>\n",
       "      <td>20.0</td>\n",
       "      <td>365</td>\n",
       "      <td>20</td>\n",
       "      <td>56</td>\n",
       "    </tr>\n",
       "    <tr>\n",
       "      <th>266</th>\n",
       "      <td>673058</td>\n",
       "      <td>Cough Syrup</td>\n",
       "      <td>Pharmacy</td>\n",
       "      <td>Balan-Madan</td>\n",
       "      <td>765.76</td>\n",
       "      <td>957.20</td>\n",
       "      <td>20.0</td>\n",
       "      <td>365</td>\n",
       "      <td>30</td>\n",
       "      <td>94</td>\n",
       "    </tr>\n",
       "    <tr>\n",
       "      <th>267</th>\n",
       "      <td>114414</td>\n",
       "      <td>Vitamins</td>\n",
       "      <td>Pharmacy</td>\n",
       "      <td>Kara-Golla</td>\n",
       "      <td>832.06</td>\n",
       "      <td>1040.07</td>\n",
       "      <td>20.0</td>\n",
       "      <td>365</td>\n",
       "      <td>26</td>\n",
       "      <td>66</td>\n",
       "    </tr>\n",
       "  </tbody>\n",
       "</table>\n",
       "<p>268 rows × 10 columns</p>\n",
       "</div>"
      ],
      "text/plain": [
       "     product_id   product_name             category                    brand  \\\n",
       "0        153019         Onions  Fruits & Vegetables               Aurora LLC   \n",
       "1         11422       Potatoes  Fruits & Vegetables           Ramaswamy-Tata   \n",
       "2        669378       Potatoes  Fruits & Vegetables          Chadha and Sons   \n",
       "3        848226       Tomatoes  Fruits & Vegetables           Barad and Sons   \n",
       "4        890623         Onions  Fruits & Vegetables  Sangha, Nagar and Varty   \n",
       "..          ...            ...                  ...                      ...   \n",
       "263      444361  Pain Reliever             Pharmacy   Prakash, Bawa and Kale   \n",
       "264      679284    Cough Syrup             Pharmacy                 Pant LLC   \n",
       "265      240179    Cough Syrup             Pharmacy                 Ram-Suri   \n",
       "266      673058    Cough Syrup             Pharmacy              Balan-Madan   \n",
       "267      114414       Vitamins             Pharmacy               Kara-Golla   \n",
       "\n",
       "      price      mrp  margin_percentage  shelf_life_days  min_stock_level  \\\n",
       "0    947.95  1263.93               25.0                3               13   \n",
       "1    127.16   169.55               25.0                3               20   \n",
       "2    212.14   282.85               25.0                3               23   \n",
       "3    209.59   279.45               25.0                3               10   \n",
       "4    354.52   472.69               25.0                3               27   \n",
       "..      ...      ...                ...              ...              ...   \n",
       "263  822.63  1028.29               20.0              365               20   \n",
       "264  877.89  1097.36               20.0              365               28   \n",
       "265   90.56   113.20               20.0              365               20   \n",
       "266  765.76   957.20               20.0              365               30   \n",
       "267  832.06  1040.07               20.0              365               26   \n",
       "\n",
       "     max_stock_level  \n",
       "0                 88  \n",
       "1                 65  \n",
       "2                 70  \n",
       "3                 51  \n",
       "4                 55  \n",
       "..               ...  \n",
       "263               71  \n",
       "264               95  \n",
       "265               56  \n",
       "266               94  \n",
       "267               66  \n",
       "\n",
       "[268 rows x 10 columns]"
      ]
     },
     "execution_count": 5,
     "metadata": {},
     "output_type": "execute_result"
    }
   ],
   "source": [
    "# loading csv into a dataframe\n",
    "product_df = pd.read_csv('/Users/tovi/Documents/blinkit_products.csv')\n",
    "product_df"
   ]
  },
  {
   "cell_type": "code",
   "execution_count": 6,
   "metadata": {},
   "outputs": [
    {
     "data": {
      "text/plain": [
       "(268, 10)"
      ]
     },
     "execution_count": 6,
     "metadata": {},
     "output_type": "execute_result"
    }
   ],
   "source": [
    "#checking the shape of df\n",
    "product_df.shape"
   ]
  },
  {
   "cell_type": "code",
   "execution_count": 7,
   "metadata": {},
   "outputs": [
    {
     "name": "stdout",
     "output_type": "stream",
     "text": [
      "<class 'pandas.core.frame.DataFrame'>\n",
      "RangeIndex: 268 entries, 0 to 267\n",
      "Data columns (total 10 columns):\n",
      " #   Column             Non-Null Count  Dtype  \n",
      "---  ------             --------------  -----  \n",
      " 0   product_id         268 non-null    int64  \n",
      " 1   product_name       268 non-null    object \n",
      " 2   category           268 non-null    object \n",
      " 3   brand              268 non-null    object \n",
      " 4   price              268 non-null    float64\n",
      " 5   mrp                268 non-null    float64\n",
      " 6   margin_percentage  268 non-null    float64\n",
      " 7   shelf_life_days    268 non-null    int64  \n",
      " 8   min_stock_level    268 non-null    int64  \n",
      " 9   max_stock_level    268 non-null    int64  \n",
      "dtypes: float64(3), int64(4), object(3)\n",
      "memory usage: 21.1+ KB\n"
     ]
    }
   ],
   "source": [
    "# general descriptive stats\n",
    "product_df.info()"
   ]
  },
  {
   "cell_type": "markdown",
   "metadata": {},
   "source": [
    "#### Data Cleaning"
   ]
  },
  {
   "cell_type": "code",
   "execution_count": 9,
   "metadata": {},
   "outputs": [
    {
     "data": {
      "text/plain": [
       "0"
      ]
     },
     "execution_count": 9,
     "metadata": {},
     "output_type": "execute_result"
    }
   ],
   "source": [
    "# checking for duplicates\n",
    "product_df.duplicated().sum()"
   ]
  },
  {
   "cell_type": "code",
   "execution_count": 10,
   "metadata": {},
   "outputs": [
    {
     "name": "stdout",
     "output_type": "stream",
     "text": [
      "product_id           0\n",
      "product_name         0\n",
      "category             0\n",
      "brand                0\n",
      "price                0\n",
      "mrp                  0\n",
      "margin_percentage    0\n",
      "shelf_life_days      0\n",
      "min_stock_level      0\n",
      "max_stock_level      0\n",
      "dtype: int64\n"
     ]
    }
   ],
   "source": [
    "# checking for null values\n",
    "null_check = product_df.isnull().sum()\n",
    "print(null_check)"
   ]
  },
  {
   "cell_type": "code",
   "execution_count": 11,
   "metadata": {},
   "outputs": [
    {
     "data": {
      "text/html": [
       "<div>\n",
       "<style scoped>\n",
       "    .dataframe tbody tr th:only-of-type {\n",
       "        vertical-align: middle;\n",
       "    }\n",
       "\n",
       "    .dataframe tbody tr th {\n",
       "        vertical-align: top;\n",
       "    }\n",
       "\n",
       "    .dataframe thead th {\n",
       "        text-align: right;\n",
       "    }\n",
       "</style>\n",
       "<table border=\"1\" class=\"dataframe\">\n",
       "  <thead>\n",
       "    <tr style=\"text-align: right;\">\n",
       "      <th></th>\n",
       "      <th>product_id</th>\n",
       "      <th>product_name</th>\n",
       "      <th>category</th>\n",
       "      <th>brand</th>\n",
       "      <th>price</th>\n",
       "      <th>mrp</th>\n",
       "      <th>margin_percentage</th>\n",
       "      <th>shelf_life_days</th>\n",
       "      <th>min_stock_level</th>\n",
       "      <th>max_stock_level</th>\n",
       "      <th>price_usd</th>\n",
       "    </tr>\n",
       "  </thead>\n",
       "  <tbody>\n",
       "    <tr>\n",
       "      <th>0</th>\n",
       "      <td>153019</td>\n",
       "      <td>Onions</td>\n",
       "      <td>Fruits &amp; Vegetables</td>\n",
       "      <td>Aurora LLC</td>\n",
       "      <td>947.95</td>\n",
       "      <td>1263.93</td>\n",
       "      <td>25.0</td>\n",
       "      <td>3</td>\n",
       "      <td>13</td>\n",
       "      <td>88</td>\n",
       "      <td>11.37540</td>\n",
       "    </tr>\n",
       "    <tr>\n",
       "      <th>1</th>\n",
       "      <td>11422</td>\n",
       "      <td>Potatoes</td>\n",
       "      <td>Fruits &amp; Vegetables</td>\n",
       "      <td>Ramaswamy-Tata</td>\n",
       "      <td>127.16</td>\n",
       "      <td>169.55</td>\n",
       "      <td>25.0</td>\n",
       "      <td>3</td>\n",
       "      <td>20</td>\n",
       "      <td>65</td>\n",
       "      <td>1.52592</td>\n",
       "    </tr>\n",
       "    <tr>\n",
       "      <th>2</th>\n",
       "      <td>669378</td>\n",
       "      <td>Potatoes</td>\n",
       "      <td>Fruits &amp; Vegetables</td>\n",
       "      <td>Chadha and Sons</td>\n",
       "      <td>212.14</td>\n",
       "      <td>282.85</td>\n",
       "      <td>25.0</td>\n",
       "      <td>3</td>\n",
       "      <td>23</td>\n",
       "      <td>70</td>\n",
       "      <td>2.54568</td>\n",
       "    </tr>\n",
       "    <tr>\n",
       "      <th>3</th>\n",
       "      <td>848226</td>\n",
       "      <td>Tomatoes</td>\n",
       "      <td>Fruits &amp; Vegetables</td>\n",
       "      <td>Barad and Sons</td>\n",
       "      <td>209.59</td>\n",
       "      <td>279.45</td>\n",
       "      <td>25.0</td>\n",
       "      <td>3</td>\n",
       "      <td>10</td>\n",
       "      <td>51</td>\n",
       "      <td>2.51508</td>\n",
       "    </tr>\n",
       "    <tr>\n",
       "      <th>4</th>\n",
       "      <td>890623</td>\n",
       "      <td>Onions</td>\n",
       "      <td>Fruits &amp; Vegetables</td>\n",
       "      <td>Sangha, Nagar and Varty</td>\n",
       "      <td>354.52</td>\n",
       "      <td>472.69</td>\n",
       "      <td>25.0</td>\n",
       "      <td>3</td>\n",
       "      <td>27</td>\n",
       "      <td>55</td>\n",
       "      <td>4.25424</td>\n",
       "    </tr>\n",
       "  </tbody>\n",
       "</table>\n",
       "</div>"
      ],
      "text/plain": [
       "   product_id product_name             category                    brand  \\\n",
       "0      153019       Onions  Fruits & Vegetables               Aurora LLC   \n",
       "1       11422     Potatoes  Fruits & Vegetables           Ramaswamy-Tata   \n",
       "2      669378     Potatoes  Fruits & Vegetables          Chadha and Sons   \n",
       "3      848226     Tomatoes  Fruits & Vegetables           Barad and Sons   \n",
       "4      890623       Onions  Fruits & Vegetables  Sangha, Nagar and Varty   \n",
       "\n",
       "    price      mrp  margin_percentage  shelf_life_days  min_stock_level  \\\n",
       "0  947.95  1263.93               25.0                3               13   \n",
       "1  127.16   169.55               25.0                3               20   \n",
       "2  212.14   282.85               25.0                3               23   \n",
       "3  209.59   279.45               25.0                3               10   \n",
       "4  354.52   472.69               25.0                3               27   \n",
       "\n",
       "   max_stock_level  price_usd  \n",
       "0               88   11.37540  \n",
       "1               65    1.52592  \n",
       "2               70    2.54568  \n",
       "3               51    2.51508  \n",
       "4               55    4.25424  "
      ]
     },
     "execution_count": 11,
     "metadata": {},
     "output_type": "execute_result"
    }
   ],
   "source": [
    "# creating new column that converts prices from the Indian Rupee to the US Dollar\n",
    "exchange_rate = 0.012\n",
    "product_df['price_usd'] = product_df['price'] * exchange_rate\n",
    "product_df.head()"
   ]
  },
  {
   "cell_type": "markdown",
   "metadata": {},
   "source": [
    "#### Pricing & Margins"
   ]
  },
  {
   "cell_type": "code",
   "execution_count": 13,
   "metadata": {},
   "outputs": [
    {
     "data": {
      "text/plain": [
       "price                488.356828\n",
       "margin_percentage     27.779851\n",
       "dtype: float64"
      ]
     },
     "execution_count": 13,
     "metadata": {},
     "output_type": "execute_result"
    }
   ],
   "source": [
    "# calculating average price and margin percentage\n",
    "product_df[['price', 'margin_percentage']].mean()"
   ]
  },
  {
   "cell_type": "code",
   "execution_count": 14,
   "metadata": {},
   "outputs": [
    {
     "data": {
      "text/plain": [
       "price_usd             5.860282\n",
       "margin_percentage    27.779851\n",
       "dtype: float64"
      ]
     },
     "execution_count": 14,
     "metadata": {},
     "output_type": "execute_result"
    }
   ],
   "source": [
    "# calculating average price and margin percentage\n",
    "product_df[['price_usd', 'margin_percentage']].mean()"
   ]
  },
  {
   "cell_type": "code",
   "execution_count": 15,
   "metadata": {},
   "outputs": [
    {
     "data": {
      "text/html": [
       "<div>\n",
       "<style scoped>\n",
       "    .dataframe tbody tr th:only-of-type {\n",
       "        vertical-align: middle;\n",
       "    }\n",
       "\n",
       "    .dataframe tbody tr th {\n",
       "        vertical-align: top;\n",
       "    }\n",
       "\n",
       "    .dataframe thead th {\n",
       "        text-align: right;\n",
       "    }\n",
       "</style>\n",
       "<table border=\"1\" class=\"dataframe\">\n",
       "  <thead>\n",
       "    <tr style=\"text-align: right;\">\n",
       "      <th></th>\n",
       "      <th>count</th>\n",
       "      <th>mean</th>\n",
       "      <th>std</th>\n",
       "      <th>min</th>\n",
       "      <th>25%</th>\n",
       "      <th>50%</th>\n",
       "      <th>75%</th>\n",
       "      <th>max</th>\n",
       "    </tr>\n",
       "    <tr>\n",
       "      <th>category</th>\n",
       "      <th></th>\n",
       "      <th></th>\n",
       "      <th></th>\n",
       "      <th></th>\n",
       "      <th></th>\n",
       "      <th></th>\n",
       "      <th></th>\n",
       "      <th></th>\n",
       "    </tr>\n",
       "  </thead>\n",
       "  <tbody>\n",
       "    <tr>\n",
       "      <th>Baby Care</th>\n",
       "      <td>16.0</td>\n",
       "      <td>30.0</td>\n",
       "      <td>0.0</td>\n",
       "      <td>30.0</td>\n",
       "      <td>30.0</td>\n",
       "      <td>30.0</td>\n",
       "      <td>30.0</td>\n",
       "      <td>30.0</td>\n",
       "    </tr>\n",
       "    <tr>\n",
       "      <th>Cold Drinks &amp; Juices</th>\n",
       "      <td>22.0</td>\n",
       "      <td>30.0</td>\n",
       "      <td>0.0</td>\n",
       "      <td>30.0</td>\n",
       "      <td>30.0</td>\n",
       "      <td>30.0</td>\n",
       "      <td>30.0</td>\n",
       "      <td>30.0</td>\n",
       "    </tr>\n",
       "    <tr>\n",
       "      <th>Dairy &amp; Breakfast</th>\n",
       "      <td>30.0</td>\n",
       "      <td>20.0</td>\n",
       "      <td>0.0</td>\n",
       "      <td>20.0</td>\n",
       "      <td>20.0</td>\n",
       "      <td>20.0</td>\n",
       "      <td>20.0</td>\n",
       "      <td>20.0</td>\n",
       "    </tr>\n",
       "    <tr>\n",
       "      <th>Fruits &amp; Vegetables</th>\n",
       "      <td>27.0</td>\n",
       "      <td>25.0</td>\n",
       "      <td>0.0</td>\n",
       "      <td>25.0</td>\n",
       "      <td>25.0</td>\n",
       "      <td>25.0</td>\n",
       "      <td>25.0</td>\n",
       "      <td>25.0</td>\n",
       "    </tr>\n",
       "    <tr>\n",
       "      <th>Grocery &amp; Staples</th>\n",
       "      <td>24.0</td>\n",
       "      <td>15.0</td>\n",
       "      <td>0.0</td>\n",
       "      <td>15.0</td>\n",
       "      <td>15.0</td>\n",
       "      <td>15.0</td>\n",
       "      <td>15.0</td>\n",
       "      <td>15.0</td>\n",
       "    </tr>\n",
       "    <tr>\n",
       "      <th>Household Care</th>\n",
       "      <td>27.0</td>\n",
       "      <td>25.0</td>\n",
       "      <td>0.0</td>\n",
       "      <td>25.0</td>\n",
       "      <td>25.0</td>\n",
       "      <td>25.0</td>\n",
       "      <td>25.0</td>\n",
       "      <td>25.0</td>\n",
       "    </tr>\n",
       "    <tr>\n",
       "      <th>Instant &amp; Frozen Food</th>\n",
       "      <td>20.0</td>\n",
       "      <td>40.0</td>\n",
       "      <td>0.0</td>\n",
       "      <td>40.0</td>\n",
       "      <td>40.0</td>\n",
       "      <td>40.0</td>\n",
       "      <td>40.0</td>\n",
       "      <td>40.0</td>\n",
       "    </tr>\n",
       "    <tr>\n",
       "      <th>Personal Care</th>\n",
       "      <td>25.0</td>\n",
       "      <td>35.0</td>\n",
       "      <td>0.0</td>\n",
       "      <td>35.0</td>\n",
       "      <td>35.0</td>\n",
       "      <td>35.0</td>\n",
       "      <td>35.0</td>\n",
       "      <td>35.0</td>\n",
       "    </tr>\n",
       "    <tr>\n",
       "      <th>Pet Care</th>\n",
       "      <td>25.0</td>\n",
       "      <td>35.0</td>\n",
       "      <td>0.0</td>\n",
       "      <td>35.0</td>\n",
       "      <td>35.0</td>\n",
       "      <td>35.0</td>\n",
       "      <td>35.0</td>\n",
       "      <td>35.0</td>\n",
       "    </tr>\n",
       "    <tr>\n",
       "      <th>Pharmacy</th>\n",
       "      <td>25.0</td>\n",
       "      <td>20.0</td>\n",
       "      <td>0.0</td>\n",
       "      <td>20.0</td>\n",
       "      <td>20.0</td>\n",
       "      <td>20.0</td>\n",
       "      <td>20.0</td>\n",
       "      <td>20.0</td>\n",
       "    </tr>\n",
       "    <tr>\n",
       "      <th>Snacks &amp; Munchies</th>\n",
       "      <td>27.0</td>\n",
       "      <td>35.0</td>\n",
       "      <td>0.0</td>\n",
       "      <td>35.0</td>\n",
       "      <td>35.0</td>\n",
       "      <td>35.0</td>\n",
       "      <td>35.0</td>\n",
       "      <td>35.0</td>\n",
       "    </tr>\n",
       "  </tbody>\n",
       "</table>\n",
       "</div>"
      ],
      "text/plain": [
       "                       count  mean  std   min   25%   50%   75%   max\n",
       "category                                                             \n",
       "Baby Care               16.0  30.0  0.0  30.0  30.0  30.0  30.0  30.0\n",
       "Cold Drinks & Juices    22.0  30.0  0.0  30.0  30.0  30.0  30.0  30.0\n",
       "Dairy & Breakfast       30.0  20.0  0.0  20.0  20.0  20.0  20.0  20.0\n",
       "Fruits & Vegetables     27.0  25.0  0.0  25.0  25.0  25.0  25.0  25.0\n",
       "Grocery & Staples       24.0  15.0  0.0  15.0  15.0  15.0  15.0  15.0\n",
       "Household Care          27.0  25.0  0.0  25.0  25.0  25.0  25.0  25.0\n",
       "Instant & Frozen Food   20.0  40.0  0.0  40.0  40.0  40.0  40.0  40.0\n",
       "Personal Care           25.0  35.0  0.0  35.0  35.0  35.0  35.0  35.0\n",
       "Pet Care                25.0  35.0  0.0  35.0  35.0  35.0  35.0  35.0\n",
       "Pharmacy                25.0  20.0  0.0  20.0  20.0  20.0  20.0  20.0\n",
       "Snacks & Munchies       27.0  35.0  0.0  35.0  35.0  35.0  35.0  35.0"
      ]
     },
     "execution_count": 15,
     "metadata": {},
     "output_type": "execute_result"
    }
   ],
   "source": [
    "# calcultaing margin percentage variation across categories\n",
    "product_df.groupby('category')['margin_percentage'].describe()"
   ]
  },
  {
   "cell_type": "code",
   "execution_count": 16,
   "metadata": {},
   "outputs": [
    {
     "data": {
      "image/png": "[encoded data removed]",
      "text/plain": [
       "<Figure size 1200x600 with 1 Axes>"
      ]
     },
     "metadata": {},
     "output_type": "display_data"
    }
   ],
   "source": [
    "# margin percentage distribution across categories visual\n",
    "plt.figure(figsize=(12,6))\n",
    "sns.histplot(data=product_df, x='category', y='margin_percentage')\n",
    "plt.xticks(rotation=90)\n",
    "plt.title(\"Margin Percentage by Category\")\n",
    "plt.show()\n"
   ]
  },
  {
   "cell_type": "code",
   "execution_count": 17,
   "metadata": {},
   "outputs": [
    {
     "data": {
      "text/plain": [
       "category\n",
       "Baby Care                6.193830\n",
       "Cold Drinks & Juices     6.006180\n",
       "Dairy & Breakfast        6.829156\n",
       "Fruits & Vegetables      6.558422\n",
       "Grocery & Staples        4.768290\n",
       "Household Care           4.838333\n",
       "Instant & Frozen Food    5.044140\n",
       "Personal Care            5.299147\n",
       "Pet Care                 6.563208\n",
       "Pharmacy                 7.188322\n",
       "Snacks & Munchies        5.005280\n",
       "Name: price_usd, dtype: float64"
      ]
     },
     "execution_count": 17,
     "metadata": {},
     "output_type": "execute_result"
    }
   ],
   "source": [
    "# average price of products in each category (USD)\n",
    "product_df.groupby('category')['price_usd'].mean()"
   ]
  },
  {
   "cell_type": "code",
   "execution_count": 18,
   "metadata": {},
   "outputs": [
    {
     "data": {
      "image/png": "[encoded data removed]",
      "text/plain": [
       "<Figure size 1200x600 with 1 Axes>"
      ]
     },
     "metadata": {},
     "output_type": "display_data"
    }
   ],
   "source": [
    "# price distribution across categories visual (USD)\n",
    "plt.figure(figsize=(12,6))\n",
    "sns.boxplot(data=product_df, x='category', y='price_usd')\n",
    "plt.xticks(rotation=90)\n",
    "plt.title(\"Price Distribution by Category ($)\")\n",
    "plt.show()\n"
   ]
  },
  {
   "cell_type": "code",
   "execution_count": 19,
   "metadata": {},
   "outputs": [
    {
     "name": "stdout",
     "output_type": "stream",
     "text": [
      "The product with the highest markup is: product_id                          305754\n",
      "product_name             Frozen Vegetables\n",
      "category             Instant & Frozen Food\n",
      "brand                         Mammen-Hegde\n",
      "price                               979.99\n",
      "mrp                                1633.32\n",
      "margin_percentage                     40.0\n",
      "shelf_life_days                        180\n",
      "min_stock_level                         22\n",
      "max_stock_level                         81\n",
      "price_usd                         11.75988\n",
      "markup                              653.33\n",
      "Name: 110, dtype: object\n",
      "The product with the lowest markup is: product_id                        654297\n",
      "product_name                    Potatoes\n",
      "category             Fruits & Vegetables\n",
      "brand                      Chandran-Dass\n",
      "price                              13.25\n",
      "mrp                                17.67\n",
      "margin_percentage                   25.0\n",
      "shelf_life_days                        3\n",
      "min_stock_level                       20\n",
      "max_stock_level                       86\n",
      "price_usd                          0.159\n",
      "markup                              4.42\n",
      "Name: 21, dtype: object\n"
     ]
    }
   ],
   "source": [
    "# products with highest and lowest markup, mrp is in Rupees here, so I will use the non-converted prices to calculate markup\n",
    "product_df['markup'] = product_df['mrp'] - product_df['price']\n",
    "highest_markup = product_df.loc[product_df['markup'].idxmax()]\n",
    "lowest_markup = product_df.loc[product_df['markup'].idxmin()]\n",
    "print(f'The product with the highest markup is: {highest_markup}')\n",
    "print(f'The product with the lowest markup is: {lowest_markup}')"
   ]
  },
  {
   "cell_type": "markdown",
   "metadata": {},
   "source": [
    "#### Stock & Inventory"
   ]
  },
  {
   "cell_type": "code",
   "execution_count": 21,
   "metadata": {},
   "outputs": [
    {
     "name": "stdout",
     "output_type": "stream",
     "text": [
      "The category with the most amount of products is Dairy & Breakfast.\n"
     ]
    }
   ],
   "source": [
    "# category with the most products\n",
    "max_prod = product_df['category'].value_counts().idxmax()\n",
    "print (f'The category with the most amount of products is {max_prod}.')"
   ]
  },
  {
   "cell_type": "code",
   "execution_count": 22,
   "metadata": {},
   "outputs": [
    {
     "name": "stdout",
     "output_type": "stream",
     "text": [
      "The category with the least amount of products is Baby Care.\n"
     ]
    }
   ],
   "source": [
    "# category with the least products\n",
    "min_prod = product_df['category'].value_counts().idxmin()\n",
    "print (f'The category with the least amount of products is {min_prod}.')"
   ]
  },
  {
   "cell_type": "markdown",
   "metadata": {},
   "source": [
    "### File 2: Blinkit Deliveries"
   ]
  },
  {
   "cell_type": "code",
   "execution_count": 24,
   "metadata": {},
   "outputs": [
    {
     "data": {
      "text/html": [
       "<div>\n",
       "<style scoped>\n",
       "    .dataframe tbody tr th:only-of-type {\n",
       "        vertical-align: middle;\n",
       "    }\n",
       "\n",
       "    .dataframe tbody tr th {\n",
       "        vertical-align: top;\n",
       "    }\n",
       "\n",
       "    .dataframe thead th {\n",
       "        text-align: right;\n",
       "    }\n",
       "</style>\n",
       "<table border=\"1\" class=\"dataframe\">\n",
       "  <thead>\n",
       "    <tr style=\"text-align: right;\">\n",
       "      <th></th>\n",
       "      <th>order_id</th>\n",
       "      <th>customer_id</th>\n",
       "      <th>order_date</th>\n",
       "      <th>promised_delivery_time</th>\n",
       "      <th>actual_delivery_time</th>\n",
       "      <th>delivery_status</th>\n",
       "      <th>order_total</th>\n",
       "      <th>payment_method</th>\n",
       "      <th>delivery_partner_id</th>\n",
       "      <th>store_id</th>\n",
       "    </tr>\n",
       "  </thead>\n",
       "  <tbody>\n",
       "    <tr>\n",
       "      <th>0</th>\n",
       "      <td>1961864118</td>\n",
       "      <td>30065862</td>\n",
       "      <td>2024-07-17 08:34:01</td>\n",
       "      <td>2024-07-17 08:52:01</td>\n",
       "      <td>2024-07-17 08:47:01</td>\n",
       "      <td>On Time</td>\n",
       "      <td>3197.07</td>\n",
       "      <td>Cash</td>\n",
       "      <td>63230</td>\n",
       "      <td>4771</td>\n",
       "    </tr>\n",
       "    <tr>\n",
       "      <th>1</th>\n",
       "      <td>1549769649</td>\n",
       "      <td>9573071</td>\n",
       "      <td>2024-05-28 13:14:29</td>\n",
       "      <td>2024-05-28 13:25:29</td>\n",
       "      <td>2024-05-28 13:27:29</td>\n",
       "      <td>On Time</td>\n",
       "      <td>976.55</td>\n",
       "      <td>Cash</td>\n",
       "      <td>14983</td>\n",
       "      <td>7534</td>\n",
       "    </tr>\n",
       "    <tr>\n",
       "      <th>2</th>\n",
       "      <td>9185164487</td>\n",
       "      <td>45477575</td>\n",
       "      <td>2024-09-23 13:07:12</td>\n",
       "      <td>2024-09-23 13:25:12</td>\n",
       "      <td>2024-09-23 13:29:12</td>\n",
       "      <td>On Time</td>\n",
       "      <td>839.05</td>\n",
       "      <td>UPI</td>\n",
       "      <td>39859</td>\n",
       "      <td>9886</td>\n",
       "    </tr>\n",
       "    <tr>\n",
       "      <th>3</th>\n",
       "      <td>9644738826</td>\n",
       "      <td>88067569</td>\n",
       "      <td>2023-11-24 16:16:56</td>\n",
       "      <td>2023-11-24 16:34:56</td>\n",
       "      <td>2023-11-24 16:33:56</td>\n",
       "      <td>On Time</td>\n",
       "      <td>440.23</td>\n",
       "      <td>Card</td>\n",
       "      <td>61497</td>\n",
       "      <td>7917</td>\n",
       "    </tr>\n",
       "    <tr>\n",
       "      <th>4</th>\n",
       "      <td>5427684290</td>\n",
       "      <td>83298567</td>\n",
       "      <td>2023-11-20 05:00:39</td>\n",
       "      <td>2023-11-20 05:17:39</td>\n",
       "      <td>2023-11-20 05:18:39</td>\n",
       "      <td>On Time</td>\n",
       "      <td>2526.68</td>\n",
       "      <td>Cash</td>\n",
       "      <td>84315</td>\n",
       "      <td>2741</td>\n",
       "    </tr>\n",
       "    <tr>\n",
       "      <th>...</th>\n",
       "      <td>...</td>\n",
       "      <td>...</td>\n",
       "      <td>...</td>\n",
       "      <td>...</td>\n",
       "      <td>...</td>\n",
       "      <td>...</td>\n",
       "      <td>...</td>\n",
       "      <td>...</td>\n",
       "      <td>...</td>\n",
       "      <td>...</td>\n",
       "    </tr>\n",
       "    <tr>\n",
       "      <th>4995</th>\n",
       "      <td>1669690997</td>\n",
       "      <td>62600289</td>\n",
       "      <td>2023-12-25 15:46:20</td>\n",
       "      <td>2023-12-25 16:05:20</td>\n",
       "      <td>2023-12-25 16:10:20</td>\n",
       "      <td>On Time</td>\n",
       "      <td>1132.33</td>\n",
       "      <td>Cash</td>\n",
       "      <td>90914</td>\n",
       "      <td>1587</td>\n",
       "    </tr>\n",
       "    <tr>\n",
       "      <th>4996</th>\n",
       "      <td>8340761903</td>\n",
       "      <td>53640286</td>\n",
       "      <td>2023-11-27 09:18:43</td>\n",
       "      <td>2023-11-27 09:38:43</td>\n",
       "      <td>2023-11-27 09:36:43</td>\n",
       "      <td>On Time</td>\n",
       "      <td>2372.01</td>\n",
       "      <td>Cash</td>\n",
       "      <td>27952</td>\n",
       "      <td>3458</td>\n",
       "    </tr>\n",
       "    <tr>\n",
       "      <th>4997</th>\n",
       "      <td>5936301790</td>\n",
       "      <td>87059497</td>\n",
       "      <td>2024-06-21 19:09:09</td>\n",
       "      <td>2024-06-21 19:23:09</td>\n",
       "      <td>2024-06-21 19:26:09</td>\n",
       "      <td>On Time</td>\n",
       "      <td>3158.35</td>\n",
       "      <td>Cash</td>\n",
       "      <td>9590</td>\n",
       "      <td>7424</td>\n",
       "    </tr>\n",
       "    <tr>\n",
       "      <th>4998</th>\n",
       "      <td>5710579377</td>\n",
       "      <td>67310893</td>\n",
       "      <td>2024-06-06 14:58:13</td>\n",
       "      <td>2024-06-06 15:12:13</td>\n",
       "      <td>2024-06-06 15:10:13</td>\n",
       "      <td>On Time</td>\n",
       "      <td>1918.92</td>\n",
       "      <td>UPI</td>\n",
       "      <td>29940</td>\n",
       "      <td>6128</td>\n",
       "    </tr>\n",
       "    <tr>\n",
       "      <th>4999</th>\n",
       "      <td>2494813730</td>\n",
       "      <td>28663279</td>\n",
       "      <td>2023-08-23 12:04:18</td>\n",
       "      <td>2023-08-23 12:20:18</td>\n",
       "      <td>2023-08-23 12:21:18</td>\n",
       "      <td>On Time</td>\n",
       "      <td>1879.46</td>\n",
       "      <td>Card</td>\n",
       "      <td>32851</td>\n",
       "      <td>5588</td>\n",
       "    </tr>\n",
       "  </tbody>\n",
       "</table>\n",
       "<p>5000 rows × 10 columns</p>\n",
       "</div>"
      ],
      "text/plain": [
       "        order_id  customer_id           order_date promised_delivery_time  \\\n",
       "0     1961864118     30065862  2024-07-17 08:34:01    2024-07-17 08:52:01   \n",
       "1     1549769649      9573071  2024-05-28 13:14:29    2024-05-28 13:25:29   \n",
       "2     9185164487     45477575  2024-09-23 13:07:12    2024-09-23 13:25:12   \n",
       "3     9644738826     88067569  2023-11-24 16:16:56    2023-11-24 16:34:56   \n",
       "4     5427684290     83298567  2023-11-20 05:00:39    2023-11-20 05:17:39   \n",
       "...          ...          ...                  ...                    ...   \n",
       "4995  1669690997     62600289  2023-12-25 15:46:20    2023-12-25 16:05:20   \n",
       "4996  8340761903     53640286  2023-11-27 09:18:43    2023-11-27 09:38:43   \n",
       "4997  5936301790     87059497  2024-06-21 19:09:09    2024-06-21 19:23:09   \n",
       "4998  5710579377     67310893  2024-06-06 14:58:13    2024-06-06 15:12:13   \n",
       "4999  2494813730     28663279  2023-08-23 12:04:18    2023-08-23 12:20:18   \n",
       "\n",
       "     actual_delivery_time delivery_status  order_total payment_method  \\\n",
       "0     2024-07-17 08:47:01         On Time      3197.07           Cash   \n",
       "1     2024-05-28 13:27:29         On Time       976.55           Cash   \n",
       "2     2024-09-23 13:29:12         On Time       839.05            UPI   \n",
       "3     2023-11-24 16:33:56         On Time       440.23           Card   \n",
       "4     2023-11-20 05:18:39         On Time      2526.68           Cash   \n",
       "...                   ...             ...          ...            ...   \n",
       "4995  2023-12-25 16:10:20         On Time      1132.33           Cash   \n",
       "4996  2023-11-27 09:36:43         On Time      2372.01           Cash   \n",
       "4997  2024-06-21 19:26:09         On Time      3158.35           Cash   \n",
       "4998  2024-06-06 15:10:13         On Time      1918.92            UPI   \n",
       "4999  2023-08-23 12:21:18         On Time      1879.46           Card   \n",
       "\n",
       "      delivery_partner_id  store_id  \n",
       "0                   63230      4771  \n",
       "1                   14983      7534  \n",
       "2                   39859      9886  \n",
       "3                   61497      7917  \n",
       "4                   84315      2741  \n",
       "...                   ...       ...  \n",
       "4995                90914      1587  \n",
       "4996                27952      3458  \n",
       "4997                 9590      7424  \n",
       "4998                29940      6128  \n",
       "4999                32851      5588  \n",
       "\n",
       "[5000 rows x 10 columns]"
      ]
     },
     "execution_count": 24,
     "metadata": {},
     "output_type": "execute_result"
    }
   ],
   "source": [
    "# loading csv into a dataframe\n",
    "delivery_df = pd.read_csv('/Users/tovi/Documents/blinkit_orders.csv')\n",
    "delivery_df"
   ]
  },
  {
   "cell_type": "code",
   "execution_count": 25,
   "metadata": {},
   "outputs": [
    {
     "data": {
      "text/plain": [
       "(5000, 10)"
      ]
     },
     "execution_count": 25,
     "metadata": {},
     "output_type": "execute_result"
    }
   ],
   "source": [
    "#checking shape\n",
    "delivery_df.shape"
   ]
  },
  {
   "cell_type": "code",
   "execution_count": 26,
   "metadata": {},
   "outputs": [
    {
     "name": "stdout",
     "output_type": "stream",
     "text": [
      "<class 'pandas.core.frame.DataFrame'>\n",
      "RangeIndex: 5000 entries, 0 to 4999\n",
      "Data columns (total 10 columns):\n",
      " #   Column                  Non-Null Count  Dtype  \n",
      "---  ------                  --------------  -----  \n",
      " 0   order_id                5000 non-null   int64  \n",
      " 1   customer_id             5000 non-null   int64  \n",
      " 2   order_date              5000 non-null   object \n",
      " 3   promised_delivery_time  5000 non-null   object \n",
      " 4   actual_delivery_time    5000 non-null   object \n",
      " 5   delivery_status         5000 non-null   object \n",
      " 6   order_total             5000 non-null   float64\n",
      " 7   payment_method          5000 non-null   object \n",
      " 8   delivery_partner_id     5000 non-null   int64  \n",
      " 9   store_id                5000 non-null   int64  \n",
      "dtypes: float64(1), int64(4), object(5)\n",
      "memory usage: 390.8+ KB\n"
     ]
    }
   ],
   "source": [
    "# general descriptive stats\n",
    "delivery_df.info()"
   ]
  },
  {
   "cell_type": "markdown",
   "metadata": {},
   "source": [
    "#### Data Cleaning"
   ]
  },
  {
   "cell_type": "code",
   "execution_count": 28,
   "metadata": {},
   "outputs": [
    {
     "data": {
      "text/plain": [
       "0"
      ]
     },
     "execution_count": 28,
     "metadata": {},
     "output_type": "execute_result"
    }
   ],
   "source": [
    "# checking for duplicates\n",
    "delivery_df.duplicated().sum()"
   ]
  },
  {
   "cell_type": "code",
   "execution_count": 29,
   "metadata": {},
   "outputs": [
    {
     "name": "stdout",
     "output_type": "stream",
     "text": [
      "order_id                  0\n",
      "customer_id               0\n",
      "order_date                0\n",
      "promised_delivery_time    0\n",
      "actual_delivery_time      0\n",
      "delivery_status           0\n",
      "order_total               0\n",
      "payment_method            0\n",
      "delivery_partner_id       0\n",
      "store_id                  0\n",
      "dtype: int64\n"
     ]
    }
   ],
   "source": [
    "# checking for null values\n",
    "null_check = delivery_df.isnull().sum()\n",
    "print(null_check)"
   ]
  },
  {
   "cell_type": "code",
   "execution_count": 30,
   "metadata": {},
   "outputs": [
    {
     "data": {
      "text/html": [
       "<div>\n",
       "<style scoped>\n",
       "    .dataframe tbody tr th:only-of-type {\n",
       "        vertical-align: middle;\n",
       "    }\n",
       "\n",
       "    .dataframe tbody tr th {\n",
       "        vertical-align: top;\n",
       "    }\n",
       "\n",
       "    .dataframe thead th {\n",
       "        text-align: right;\n",
       "    }\n",
       "</style>\n",
       "<table border=\"1\" class=\"dataframe\">\n",
       "  <thead>\n",
       "    <tr style=\"text-align: right;\">\n",
       "      <th></th>\n",
       "      <th>order_id</th>\n",
       "      <th>customer_id</th>\n",
       "      <th>order_date</th>\n",
       "      <th>promised_delivery_time</th>\n",
       "      <th>actual_delivery_time</th>\n",
       "      <th>delivery_status</th>\n",
       "      <th>order_total</th>\n",
       "      <th>payment_method</th>\n",
       "      <th>delivery_partner_id</th>\n",
       "      <th>store_id</th>\n",
       "      <th>delivery_delay</th>\n",
       "    </tr>\n",
       "  </thead>\n",
       "  <tbody>\n",
       "    <tr>\n",
       "      <th>0</th>\n",
       "      <td>1961864118</td>\n",
       "      <td>30065862</td>\n",
       "      <td>2024-07-17 08:34:01</td>\n",
       "      <td>2024-07-17 08:52:01</td>\n",
       "      <td>2024-07-17 08:47:01</td>\n",
       "      <td>On Time</td>\n",
       "      <td>3197.07</td>\n",
       "      <td>Cash</td>\n",
       "      <td>63230</td>\n",
       "      <td>4771</td>\n",
       "      <td>-5.0</td>\n",
       "    </tr>\n",
       "    <tr>\n",
       "      <th>1</th>\n",
       "      <td>1549769649</td>\n",
       "      <td>9573071</td>\n",
       "      <td>2024-05-28 13:14:29</td>\n",
       "      <td>2024-05-28 13:25:29</td>\n",
       "      <td>2024-05-28 13:27:29</td>\n",
       "      <td>On Time</td>\n",
       "      <td>976.55</td>\n",
       "      <td>Cash</td>\n",
       "      <td>14983</td>\n",
       "      <td>7534</td>\n",
       "      <td>2.0</td>\n",
       "    </tr>\n",
       "    <tr>\n",
       "      <th>2</th>\n",
       "      <td>9185164487</td>\n",
       "      <td>45477575</td>\n",
       "      <td>2024-09-23 13:07:12</td>\n",
       "      <td>2024-09-23 13:25:12</td>\n",
       "      <td>2024-09-23 13:29:12</td>\n",
       "      <td>On Time</td>\n",
       "      <td>839.05</td>\n",
       "      <td>UPI</td>\n",
       "      <td>39859</td>\n",
       "      <td>9886</td>\n",
       "      <td>4.0</td>\n",
       "    </tr>\n",
       "    <tr>\n",
       "      <th>3</th>\n",
       "      <td>9644738826</td>\n",
       "      <td>88067569</td>\n",
       "      <td>2023-11-24 16:16:56</td>\n",
       "      <td>2023-11-24 16:34:56</td>\n",
       "      <td>2023-11-24 16:33:56</td>\n",
       "      <td>On Time</td>\n",
       "      <td>440.23</td>\n",
       "      <td>Card</td>\n",
       "      <td>61497</td>\n",
       "      <td>7917</td>\n",
       "      <td>-1.0</td>\n",
       "    </tr>\n",
       "    <tr>\n",
       "      <th>4</th>\n",
       "      <td>5427684290</td>\n",
       "      <td>83298567</td>\n",
       "      <td>2023-11-20 05:00:39</td>\n",
       "      <td>2023-11-20 05:17:39</td>\n",
       "      <td>2023-11-20 05:18:39</td>\n",
       "      <td>On Time</td>\n",
       "      <td>2526.68</td>\n",
       "      <td>Cash</td>\n",
       "      <td>84315</td>\n",
       "      <td>2741</td>\n",
       "      <td>1.0</td>\n",
       "    </tr>\n",
       "  </tbody>\n",
       "</table>\n",
       "</div>"
      ],
      "text/plain": [
       "     order_id  customer_id          order_date promised_delivery_time  \\\n",
       "0  1961864118     30065862 2024-07-17 08:34:01    2024-07-17 08:52:01   \n",
       "1  1549769649      9573071 2024-05-28 13:14:29    2024-05-28 13:25:29   \n",
       "2  9185164487     45477575 2024-09-23 13:07:12    2024-09-23 13:25:12   \n",
       "3  9644738826     88067569 2023-11-24 16:16:56    2023-11-24 16:34:56   \n",
       "4  5427684290     83298567 2023-11-20 05:00:39    2023-11-20 05:17:39   \n",
       "\n",
       "  actual_delivery_time delivery_status  order_total payment_method  \\\n",
       "0  2024-07-17 08:47:01         On Time      3197.07           Cash   \n",
       "1  2024-05-28 13:27:29         On Time       976.55           Cash   \n",
       "2  2024-09-23 13:29:12         On Time       839.05            UPI   \n",
       "3  2023-11-24 16:33:56         On Time       440.23           Card   \n",
       "4  2023-11-20 05:18:39         On Time      2526.68           Cash   \n",
       "\n",
       "   delivery_partner_id  store_id  delivery_delay  \n",
       "0                63230      4771            -5.0  \n",
       "1                14983      7534             2.0  \n",
       "2                39859      9886             4.0  \n",
       "3                61497      7917            -1.0  \n",
       "4                84315      2741             1.0  "
      ]
     },
     "execution_count": 30,
     "metadata": {},
     "output_type": "execute_result"
    }
   ],
   "source": [
    "# converting delivery times to datetime format\n",
    "delivery_df['order_date'] = pd.to_datetime(delivery_df['order_date'])\n",
    "delivery_df['promised_delivery_time'] = pd.to_datetime(delivery_df['promised_delivery_time'])\n",
    "delivery_df['actual_delivery_time'] = pd.to_datetime(delivery_df['actual_delivery_time'])\n",
    "\n",
    "# creating column of delivery delay times and calculating delays in minutes\n",
    "delivery_df['delivery_delay'] = (delivery_df['actual_delivery_time'] - delivery_df['promised_delivery_time']).dt.total_seconds() / 60\n",
    "\n",
    "delivery_df.head()"
   ]
  },
  {
   "cell_type": "code",
   "execution_count": 31,
   "metadata": {},
   "outputs": [
    {
     "data": {
      "text/html": [
       "<div>\n",
       "<style scoped>\n",
       "    .dataframe tbody tr th:only-of-type {\n",
       "        vertical-align: middle;\n",
       "    }\n",
       "\n",
       "    .dataframe tbody tr th {\n",
       "        vertical-align: top;\n",
       "    }\n",
       "\n",
       "    .dataframe thead th {\n",
       "        text-align: right;\n",
       "    }\n",
       "</style>\n",
       "<table border=\"1\" class=\"dataframe\">\n",
       "  <thead>\n",
       "    <tr style=\"text-align: right;\">\n",
       "      <th></th>\n",
       "      <th>order_id</th>\n",
       "      <th>customer_id</th>\n",
       "      <th>order_date</th>\n",
       "      <th>promised_delivery_time</th>\n",
       "      <th>actual_delivery_time</th>\n",
       "      <th>delivery_status</th>\n",
       "      <th>order_total</th>\n",
       "      <th>payment_method</th>\n",
       "      <th>delivery_partner_id</th>\n",
       "      <th>store_id</th>\n",
       "      <th>delivery_delay</th>\n",
       "      <th>order_total_usd</th>\n",
       "    </tr>\n",
       "  </thead>\n",
       "  <tbody>\n",
       "    <tr>\n",
       "      <th>0</th>\n",
       "      <td>1961864118</td>\n",
       "      <td>30065862</td>\n",
       "      <td>2024-07-17 08:34:01</td>\n",
       "      <td>2024-07-17 08:52:01</td>\n",
       "      <td>2024-07-17 08:47:01</td>\n",
       "      <td>On Time</td>\n",
       "      <td>3197.07</td>\n",
       "      <td>Cash</td>\n",
       "      <td>63230</td>\n",
       "      <td>4771</td>\n",
       "      <td>-5.0</td>\n",
       "      <td>38.36484</td>\n",
       "    </tr>\n",
       "    <tr>\n",
       "      <th>1</th>\n",
       "      <td>1549769649</td>\n",
       "      <td>9573071</td>\n",
       "      <td>2024-05-28 13:14:29</td>\n",
       "      <td>2024-05-28 13:25:29</td>\n",
       "      <td>2024-05-28 13:27:29</td>\n",
       "      <td>On Time</td>\n",
       "      <td>976.55</td>\n",
       "      <td>Cash</td>\n",
       "      <td>14983</td>\n",
       "      <td>7534</td>\n",
       "      <td>2.0</td>\n",
       "      <td>11.71860</td>\n",
       "    </tr>\n",
       "    <tr>\n",
       "      <th>2</th>\n",
       "      <td>9185164487</td>\n",
       "      <td>45477575</td>\n",
       "      <td>2024-09-23 13:07:12</td>\n",
       "      <td>2024-09-23 13:25:12</td>\n",
       "      <td>2024-09-23 13:29:12</td>\n",
       "      <td>On Time</td>\n",
       "      <td>839.05</td>\n",
       "      <td>UPI</td>\n",
       "      <td>39859</td>\n",
       "      <td>9886</td>\n",
       "      <td>4.0</td>\n",
       "      <td>10.06860</td>\n",
       "    </tr>\n",
       "    <tr>\n",
       "      <th>3</th>\n",
       "      <td>9644738826</td>\n",
       "      <td>88067569</td>\n",
       "      <td>2023-11-24 16:16:56</td>\n",
       "      <td>2023-11-24 16:34:56</td>\n",
       "      <td>2023-11-24 16:33:56</td>\n",
       "      <td>On Time</td>\n",
       "      <td>440.23</td>\n",
       "      <td>Card</td>\n",
       "      <td>61497</td>\n",
       "      <td>7917</td>\n",
       "      <td>-1.0</td>\n",
       "      <td>5.28276</td>\n",
       "    </tr>\n",
       "    <tr>\n",
       "      <th>4</th>\n",
       "      <td>5427684290</td>\n",
       "      <td>83298567</td>\n",
       "      <td>2023-11-20 05:00:39</td>\n",
       "      <td>2023-11-20 05:17:39</td>\n",
       "      <td>2023-11-20 05:18:39</td>\n",
       "      <td>On Time</td>\n",
       "      <td>2526.68</td>\n",
       "      <td>Cash</td>\n",
       "      <td>84315</td>\n",
       "      <td>2741</td>\n",
       "      <td>1.0</td>\n",
       "      <td>30.32016</td>\n",
       "    </tr>\n",
       "  </tbody>\n",
       "</table>\n",
       "</div>"
      ],
      "text/plain": [
       "     order_id  customer_id          order_date promised_delivery_time  \\\n",
       "0  1961864118     30065862 2024-07-17 08:34:01    2024-07-17 08:52:01   \n",
       "1  1549769649      9573071 2024-05-28 13:14:29    2024-05-28 13:25:29   \n",
       "2  9185164487     45477575 2024-09-23 13:07:12    2024-09-23 13:25:12   \n",
       "3  9644738826     88067569 2023-11-24 16:16:56    2023-11-24 16:34:56   \n",
       "4  5427684290     83298567 2023-11-20 05:00:39    2023-11-20 05:17:39   \n",
       "\n",
       "  actual_delivery_time delivery_status  order_total payment_method  \\\n",
       "0  2024-07-17 08:47:01         On Time      3197.07           Cash   \n",
       "1  2024-05-28 13:27:29         On Time       976.55           Cash   \n",
       "2  2024-09-23 13:29:12         On Time       839.05            UPI   \n",
       "3  2023-11-24 16:33:56         On Time       440.23           Card   \n",
       "4  2023-11-20 05:18:39         On Time      2526.68           Cash   \n",
       "\n",
       "   delivery_partner_id  store_id  delivery_delay  order_total_usd  \n",
       "0                63230      4771            -5.0         38.36484  \n",
       "1                14983      7534             2.0         11.71860  \n",
       "2                39859      9886             4.0         10.06860  \n",
       "3                61497      7917            -1.0          5.28276  \n",
       "4                84315      2741             1.0         30.32016  "
      ]
     },
     "execution_count": 31,
     "metadata": {},
     "output_type": "execute_result"
    }
   ],
   "source": [
    "# creating new column that converts order_total from Rupees to USD\n",
    "delivery_df['order_total_usd'] = delivery_df['order_total'] * exchange_rate\n",
    "delivery_df.head()"
   ]
  },
  {
   "cell_type": "markdown",
   "metadata": {},
   "source": [
    "#### Delivery Times & Delays"
   ]
  },
  {
   "cell_type": "code",
   "execution_count": 33,
   "metadata": {},
   "outputs": [
    {
     "name": "stdout",
     "output_type": "stream",
     "text": [
      "Deliveries are late 61.96% of the time.\n"
     ]
    }
   ],
   "source": [
    "# calculating how often are deliveries late\n",
    "was_late=[]\n",
    "\n",
    "lateDeliv=(delivery_df['delivery_delay'] > 0)\n",
    "\n",
    "for i in lateDeliv:\n",
    "    if i is True:\n",
    "        was_late.append(i)\n",
    "\n",
    "late_delivery_rate= (was_late.count(True) / delivery_df['delivery_delay'].count()) * 100\n",
    "print (f'Deliveries are late {late_delivery_rate:.2f}% of the time.')"
   ]
  },
  {
   "cell_type": "code",
   "execution_count": 34,
   "metadata": {},
   "outputs": [
    {
     "name": "stdout",
     "output_type": "stream",
     "text": [
      "Late deliveries: 61.96%\n"
     ]
    }
   ],
   "source": [
    "# METHOD 2\n",
    "late_deliveries = (delivery_df['delivery_delay'] > 0).mean() * 100\n",
    "print(f\"Late deliveries: {late_deliveries:.2f}%\")"
   ]
  },
  {
   "cell_type": "code",
   "execution_count": 35,
   "metadata": {},
   "outputs": [
    {
     "name": "stdout",
     "output_type": "stream",
     "text": [
      "Average delivery time for all orders: 4.44 minutes\n"
     ]
    }
   ],
   "source": [
    "# calculating average delivery time for all orders\n",
    "average_delivery_time = delivery_df['delivery_delay'].mean()\n",
    "print(f\"Average delivery time for all orders: {average_delivery_time:.2f} minutes\")"
   ]
  },
  {
   "cell_type": "code",
   "execution_count": 36,
   "metadata": {},
   "outputs": [
    {
     "name": "stdout",
     "output_type": "stream",
     "text": [
      "The average delivery time for on-time orders is: 2.47 minutes\n"
     ]
    }
   ],
   "source": [
    "# calculating average delivery time for on-time orders\n",
    "on_time_deliveries = delivery_df[delivery_df['delivery_delay'] <= 0]\n",
    "avg_on_time = on_time_deliveries['delivery_delay'].mean()\n",
    "\n",
    "#convert negative value to positive value (numbers less than 0 represent early deliveries in the delivery_delay column)\n",
    "avg_on_time = avg_on_time * -1\n",
    "print(f\"The average delivery time for on-time orders is: {avg_on_time:.2f} minutes\")"
   ]
  },
  {
   "cell_type": "code",
   "execution_count": 37,
   "metadata": {},
   "outputs": [
    {
     "data": {
      "image/png": "[encoded data removed]",
      "text/plain": [
       "<Figure size 800x500 with 1 Axes>"
      ]
     },
     "metadata": {},
     "output_type": "display_data"
    }
   ],
   "source": [
    "# creating visual of delivery time distribution\n",
    "plt.figure(figsize=(8,5))\n",
    "sns.histplot(delivery_df['delivery_delay'], bins=30, color='lightskyblue')\n",
    "plt.axvline(0, color='red', linestyle='dashed', label='On-time Threshold')\n",
    "plt.xlabel(\"Delivery Delay (minutes)\")\n",
    "plt.ylabel(\"Number of Orders\")\n",
    "plt.title(\"Distribution of Delivery Delays\")\n",
    "plt.legend()\n",
    "plt.show()"
   ]
  },
  {
   "cell_type": "code",
   "execution_count": 38,
   "metadata": {},
   "outputs": [
    {
     "data": {
      "image/png": "[encoded data removed]",
      "text/plain": [
       "<Figure size 800x500 with 1 Axes>"
      ]
     },
     "metadata": {},
     "output_type": "display_data"
    },
    {
     "name": "stdout",
     "output_type": "stream",
     "text": [
      "Correlation between order total and delivery delay: -0.00\n"
     ]
    }
   ],
   "source": [
    "# scatter plot with regression line to explore possible correlation between order total and delay times\n",
    "plt.figure(figsize=(8,5))\n",
    "sns.regplot(x=delivery_df['order_total_usd'], y=delivery_df['delivery_delay'], scatter_kws={'alpha':0.5, 'color':'orange'})\n",
    "plt.xlabel(\"Order Total ($)\")\n",
    "plt.ylabel(\"Delivery Delay (minutes)\")\n",
    "plt.title(\"Order Total vs. Delivery Delay\")\n",
    "plt.show()\n",
    "\n",
    "# Correlation coefficient\n",
    "correlation = delivery_df[['order_total_usd', 'delivery_delay']].corr().iloc[0,1]\n",
    "print(f\"Correlation between order total and delivery delay: {correlation:.2f}\")"
   ]
  },
  {
   "cell_type": "code",
   "execution_count": 39,
   "metadata": {},
   "outputs": [
    {
     "name": "stdout",
     "output_type": "stream",
     "text": [
      "store_id\n",
      "1       1.0\n",
      "5172    1.0\n",
      "5116    1.0\n",
      "5119    1.0\n",
      "5121    1.0\n",
      "       ... \n",
      "5323    0.0\n",
      "5324    0.0\n",
      "5325    0.0\n",
      "5326    0.0\n",
      "9995    0.0\n",
      "Name: delivery_delay, Length: 5000, dtype: float64\n"
     ]
    }
   ],
   "source": [
    "# calculating rate of on-time deliveries for all stores (little variation)\n",
    "store_punctuality = delivery_df.groupby('store_id')['delivery_delay'].apply(lambda x: (x <= 0).mean()).sort_values(ascending=False)\n",
    "print(store_punctuality)"
   ]
  },
  {
   "cell_type": "code",
   "execution_count": 40,
   "metadata": {},
   "outputs": [
    {
     "name": "stdout",
     "output_type": "stream",
     "text": [
      "store_id\n",
      "9995    1.0\n",
      "4826    1.0\n",
      "4635    1.0\n",
      "4638    1.0\n",
      "4639    1.0\n",
      "       ... \n",
      "4864    0.0\n",
      "4867    0.0\n",
      "4870    0.0\n",
      "4877    0.0\n",
      "4988    0.0\n",
      "Name: delivery_delay, Length: 5000, dtype: float64\n"
     ]
    }
   ],
   "source": [
    "# calculating rate of late deliveries for all stores (little variation)\n",
    "store_punctuality = delivery_df.groupby('store_id')['delivery_delay'].apply(lambda x: (x > 0).mean()).sort_values(ascending=False)\n",
    "print(store_punctuality)"
   ]
  },
  {
   "cell_type": "code",
   "execution_count": 41,
   "metadata": {},
   "outputs": [
    {
     "name": "stdout",
     "output_type": "stream",
     "text": [
      "delivery_partner_id\n",
      "43       1\n",
      "65328    1\n",
      "66248    1\n",
      "66274    1\n",
      "66328    1\n",
      "        ..\n",
      "34338    1\n",
      "34344    1\n",
      "34392    1\n",
      "34427    1\n",
      "99968    1\n",
      "Length: 3098, dtype: int64\n"
     ]
    }
   ],
   "source": [
    "# counting late deliveries per partner and sorting to view partners with the most late deliveries\n",
    "late_per_partner = delivery_df[delivery_df['delivery_delay'] > 0].groupby('delivery_partner_id').size().sort_values(ascending=False)\n",
    "print(late_per_partner)"
   ]
  },
  {
   "cell_type": "code",
   "execution_count": 42,
   "metadata": {},
   "outputs": [
    {
     "data": {
      "text/plain": [
       "1"
      ]
     },
     "execution_count": 42,
     "metadata": {},
     "output_type": "execute_result"
    }
   ],
   "source": [
    "# no variation in number of late deliveries by partners\n",
    "late_per_partner.nunique()"
   ]
  },
  {
   "cell_type": "code",
   "execution_count": 43,
   "metadata": {},
   "outputs": [
    {
     "name": "stdout",
     "output_type": "stream",
     "text": [
      "count    2172.000000\n",
      "mean       26.312350\n",
      "std        11.986413\n",
      "min         0.265680\n",
      "25%        17.921440\n",
      "50%        26.115380\n",
      "75%        33.591955\n",
      "max        73.937760\n",
      "Name: order_total_usd, dtype: float64\n"
     ]
    }
   ],
   "source": [
    "# calculating average order total for each customer\n",
    "customer_avg_order = delivery_df.groupby('customer_id')['order_total_usd'].mean()\n",
    "print(customer_avg_order.describe())"
   ]
  },
  {
   "cell_type": "code",
   "execution_count": 44,
   "metadata": {},
   "outputs": [
    {
     "data": {
      "image/png": "[encoded data removed]",
      "text/plain": [
       "<Figure size 800x500 with 1 Axes>"
      ]
     },
     "metadata": {},
     "output_type": "display_data"
    }
   ],
   "source": [
    "# creating visual of average order total per customer\n",
    "plt.figure(figsize=(8,5))\n",
    "sns.histplot(customer_avg_order, bins=30, kde=True)\n",
    "plt.xlabel(\"Average Order Total ($)\")\n",
    "plt.ylabel(\"Number of Customers\")\n",
    "plt.title(\"Distribution of Average Order Total per Customer\")\n",
    "plt.show()"
   ]
  },
  {
   "cell_type": "code",
   "execution_count": 45,
   "metadata": {},
   "outputs": [
    {
     "ename": "NameError",
     "evalue": "name 'customer_orders' is not defined",
     "output_type": "error",
     "traceback": [
      "\u001b[0;31m---------------------------------------------------------------------------\u001b[0m",
      "\u001b[0;31mNameError\u001b[0m                                 Traceback (most recent call last)",
      "Cell \u001b[0;32mIn[45], line 3\u001b[0m\n\u001b[1;32m      1\u001b[0m \u001b[38;5;66;03m# calculating the average number or orders placed by each customer\u001b[39;00m\n\u001b[1;32m      2\u001b[0m avg_customer_orders \u001b[38;5;241m=\u001b[39m delivery_df[\u001b[38;5;124m'\u001b[39m\u001b[38;5;124mcustomer_id\u001b[39m\u001b[38;5;124m'\u001b[39m]\u001b[38;5;241m.\u001b[39mvalue_counts()\u001b[38;5;241m.\u001b[39mmean()\n\u001b[0;32m----> 3\u001b[0m \u001b[38;5;28mprint\u001b[39m(customer_orders)\n",
      "\u001b[0;31mNameError\u001b[0m: name 'customer_orders' is not defined"
     ]
    }
   ],
   "source": [
    "# calculating the average number or orders placed by each customer\n",
    "avg_customer_orders = delivery_df['customer_id'].value_counts().mean()\n",
    "print(customer_orders)"
   ]
  },
  {
   "cell_type": "code",
   "execution_count": null,
   "metadata": {},
   "outputs": [],
   "source": [
    "# calculating which customers have placed the most orders\n",
    "customer_orders = delivery_df['customer_id'].value_counts().head(40)\n",
    "print(customer_orders)"
   ]
  },
  {
   "cell_type": "code",
   "execution_count": null,
   "metadata": {},
   "outputs": [],
   "source": [
    "# creating visual for top 25 customers by order count\n",
    "plt.figure(figsize=(10,5))\n",
    "customer_orders.plot(kind='bar', color='orange')\n",
    "plt.xlabel(\"Customer ID\")\n",
    "plt.ylabel(\"Number of Orders\")\n",
    "plt.title(\"Top 25 Customers by Order Count\")\n",
    "plt.show()"
   ]
  },
  {
   "cell_type": "code",
   "execution_count": null,
   "metadata": {},
   "outputs": [],
   "source": [
    "# calculating frequncy of each payment method used\n",
    "payment_counts = delivery_df['payment_method'].value_counts()\n",
    "print(payment_counts)"
   ]
  },
  {
   "cell_type": "code",
   "execution_count": null,
   "metadata": {},
   "outputs": [],
   "source": [
    "# creating visual for payment methods\n",
    "plt.figure(figsize=(6,6));\n",
    "payment_counts.plot(kind='pie', autopct='%1.1f%%', colors=['lightblue','lavender','lightgreen','orange'])\n",
    "plt.ylabel(\"\")\n",
    "plt.title(\"Distribution of Payment Methods\")\n",
    "plt.show()"
   ]
  },
  {
   "cell_type": "code",
   "execution_count": null,
   "metadata": {},
   "outputs": [],
   "source": [
    "# creating visual to compare order totals across payment methods\n",
    "plt.figure(figsize=(8,5))\n",
    "sns.boxplot(x='payment_method', y='order_total_usd', data=delivery_df)\n",
    "plt.xlabel(\"Payment Method\")\n",
    "plt.ylabel(\"Order Total ($)\")\n",
    "plt.title(\"Distribution of Order Totals Across Payment Methods\")\n",
    "plt.show()"
   ]
  },
  {
   "cell_type": "code",
   "execution_count": null,
   "metadata": {},
   "outputs": [],
   "source": [
    "# exploring which stores have recieved the most amount of orders\n",
    "store_order_counts = delivery_df['store_id'].value_counts().sort_values(ascending=False)\n",
    "print(store_order_counts)"
   ]
  },
  {
   "cell_type": "code",
   "execution_count": null,
   "metadata": {},
   "outputs": [],
   "source": [
    "# exploring which partners have delivered the most orders\n",
    "partner_order_counts = delivery_df['delivery_partner_id'].value_counts()\n",
    "print(partner_order_counts)"
   ]
  },
  {
   "cell_type": "code",
   "execution_count": null,
   "metadata": {},
   "outputs": [],
   "source": [
    "# no variation in number of deliveries per partner\n",
    "partner_order_counts.nunique()"
   ]
  },
  {
   "cell_type": "code",
   "execution_count": null,
   "metadata": {},
   "outputs": [],
   "source": [
    "# calculating average delivery delay by store\n",
    "store_avg_delay = delivery_df.groupby('store_id')['delivery_delay'].mean() #get average delay for all stores\n",
    "print(store_avg_delay.describe())"
   ]
  },
  {
   "cell_type": "code",
   "execution_count": null,
   "metadata": {},
   "outputs": [],
   "source": [
    "# no variation in delivery delay per store as each store only has one order assigned to it\n",
    "delivery_df['store_id'].nunique()"
   ]
  },
  {
   "cell_type": "markdown",
   "metadata": {},
   "source": [
    "### File 3: Blinket Units"
   ]
  },
  {
   "cell_type": "code",
   "execution_count": 87,
   "metadata": {},
   "outputs": [
    {
     "data": {
      "text/html": [
       "<div>\n",
       "<style scoped>\n",
       "    .dataframe tbody tr th:only-of-type {\n",
       "        vertical-align: middle;\n",
       "    }\n",
       "\n",
       "    .dataframe tbody tr th {\n",
       "        vertical-align: top;\n",
       "    }\n",
       "\n",
       "    .dataframe thead th {\n",
       "        text-align: right;\n",
       "    }\n",
       "</style>\n",
       "<table border=\"1\" class=\"dataframe\">\n",
       "  <thead>\n",
       "    <tr style=\"text-align: right;\">\n",
       "      <th></th>\n",
       "      <th>order_id</th>\n",
       "      <th>product_id</th>\n",
       "      <th>quantity</th>\n",
       "      <th>unit_price</th>\n",
       "    </tr>\n",
       "  </thead>\n",
       "  <tbody>\n",
       "    <tr>\n",
       "      <th>0</th>\n",
       "      <td>1961864118</td>\n",
       "      <td>642612</td>\n",
       "      <td>3</td>\n",
       "      <td>517.03</td>\n",
       "    </tr>\n",
       "    <tr>\n",
       "      <th>1</th>\n",
       "      <td>1549769649</td>\n",
       "      <td>378676</td>\n",
       "      <td>1</td>\n",
       "      <td>881.42</td>\n",
       "    </tr>\n",
       "    <tr>\n",
       "      <th>2</th>\n",
       "      <td>9185164487</td>\n",
       "      <td>741341</td>\n",
       "      <td>2</td>\n",
       "      <td>923.84</td>\n",
       "    </tr>\n",
       "    <tr>\n",
       "      <th>3</th>\n",
       "      <td>9644738826</td>\n",
       "      <td>561860</td>\n",
       "      <td>1</td>\n",
       "      <td>874.78</td>\n",
       "    </tr>\n",
       "    <tr>\n",
       "      <th>4</th>\n",
       "      <td>5427684290</td>\n",
       "      <td>602241</td>\n",
       "      <td>2</td>\n",
       "      <td>976.55</td>\n",
       "    </tr>\n",
       "    <tr>\n",
       "      <th>...</th>\n",
       "      <td>...</td>\n",
       "      <td>...</td>\n",
       "      <td>...</td>\n",
       "      <td>...</td>\n",
       "    </tr>\n",
       "    <tr>\n",
       "      <th>4995</th>\n",
       "      <td>1669690997</td>\n",
       "      <td>925482</td>\n",
       "      <td>3</td>\n",
       "      <td>475.04</td>\n",
       "    </tr>\n",
       "    <tr>\n",
       "      <th>4996</th>\n",
       "      <td>8340761903</td>\n",
       "      <td>124290</td>\n",
       "      <td>2</td>\n",
       "      <td>39.65</td>\n",
       "    </tr>\n",
       "    <tr>\n",
       "      <th>4997</th>\n",
       "      <td>5936301790</td>\n",
       "      <td>491314</td>\n",
       "      <td>3</td>\n",
       "      <td>973.44</td>\n",
       "    </tr>\n",
       "    <tr>\n",
       "      <th>4998</th>\n",
       "      <td>5710579377</td>\n",
       "      <td>319388</td>\n",
       "      <td>2</td>\n",
       "      <td>657.80</td>\n",
       "    </tr>\n",
       "    <tr>\n",
       "      <th>4999</th>\n",
       "      <td>2494813730</td>\n",
       "      <td>136533</td>\n",
       "      <td>1</td>\n",
       "      <td>826.21</td>\n",
       "    </tr>\n",
       "  </tbody>\n",
       "</table>\n",
       "<p>5000 rows × 4 columns</p>\n",
       "</div>"
      ],
      "text/plain": [
       "        order_id  product_id  quantity  unit_price\n",
       "0     1961864118      642612         3      517.03\n",
       "1     1549769649      378676         1      881.42\n",
       "2     9185164487      741341         2      923.84\n",
       "3     9644738826      561860         1      874.78\n",
       "4     5427684290      602241         2      976.55\n",
       "...          ...         ...       ...         ...\n",
       "4995  1669690997      925482         3      475.04\n",
       "4996  8340761903      124290         2       39.65\n",
       "4997  5936301790      491314         3      973.44\n",
       "4998  5710579377      319388         2      657.80\n",
       "4999  2494813730      136533         1      826.21\n",
       "\n",
       "[5000 rows x 4 columns]"
      ]
     },
     "execution_count": 87,
     "metadata": {},
     "output_type": "execute_result"
    }
   ],
   "source": [
    "units_df = pd.read_csv('/Users/tovi/Documents/blinkit_order_items.csv')\n",
    "units_df"
   ]
  },
  {
   "cell_type": "code",
   "execution_count": 89,
   "metadata": {},
   "outputs": [
    {
     "data": {
      "text/html": [
       "<div>\n",
       "<style scoped>\n",
       "    .dataframe tbody tr th:only-of-type {\n",
       "        vertical-align: middle;\n",
       "    }\n",
       "\n",
       "    .dataframe tbody tr th {\n",
       "        vertical-align: top;\n",
       "    }\n",
       "\n",
       "    .dataframe thead th {\n",
       "        text-align: right;\n",
       "    }\n",
       "</style>\n",
       "<table border=\"1\" class=\"dataframe\">\n",
       "  <thead>\n",
       "    <tr style=\"text-align: right;\">\n",
       "      <th></th>\n",
       "      <th>order_id</th>\n",
       "      <th>product_id</th>\n",
       "      <th>quantity</th>\n",
       "      <th>unit_price</th>\n",
       "    </tr>\n",
       "  </thead>\n",
       "  <tbody>\n",
       "    <tr>\n",
       "      <th>count</th>\n",
       "      <td>5.000000e+03</td>\n",
       "      <td>5000.000000</td>\n",
       "      <td>5000.000000</td>\n",
       "      <td>5000.000000</td>\n",
       "    </tr>\n",
       "    <tr>\n",
       "      <th>mean</th>\n",
       "      <td>5.029129e+09</td>\n",
       "      <td>509974.939600</td>\n",
       "      <td>2.006800</td>\n",
       "      <td>493.157900</td>\n",
       "    </tr>\n",
       "    <tr>\n",
       "      <th>std</th>\n",
       "      <td>2.863533e+09</td>\n",
       "      <td>293678.307475</td>\n",
       "      <td>0.820542</td>\n",
       "      <td>298.075647</td>\n",
       "    </tr>\n",
       "    <tr>\n",
       "      <th>min</th>\n",
       "      <td>6.046500e+04</td>\n",
       "      <td>4452.000000</td>\n",
       "      <td>1.000000</td>\n",
       "      <td>12.320000</td>\n",
       "    </tr>\n",
       "    <tr>\n",
       "      <th>25%</th>\n",
       "      <td>2.531421e+09</td>\n",
       "      <td>257719.000000</td>\n",
       "      <td>1.000000</td>\n",
       "      <td>227.220000</td>\n",
       "    </tr>\n",
       "    <tr>\n",
       "      <th>50%</th>\n",
       "      <td>5.074378e+09</td>\n",
       "      <td>540618.000000</td>\n",
       "      <td>2.000000</td>\n",
       "      <td>448.160000</td>\n",
       "    </tr>\n",
       "    <tr>\n",
       "      <th>75%</th>\n",
       "      <td>7.488579e+09</td>\n",
       "      <td>747801.000000</td>\n",
       "      <td>3.000000</td>\n",
       "      <td>781.080000</td>\n",
       "    </tr>\n",
       "    <tr>\n",
       "      <th>max</th>\n",
       "      <td>9.998298e+09</td>\n",
       "      <td>993331.000000</td>\n",
       "      <td>3.000000</td>\n",
       "      <td>995.980000</td>\n",
       "    </tr>\n",
       "  </tbody>\n",
       "</table>\n",
       "</div>"
      ],
      "text/plain": [
       "           order_id     product_id     quantity   unit_price\n",
       "count  5.000000e+03    5000.000000  5000.000000  5000.000000\n",
       "mean   5.029129e+09  509974.939600     2.006800   493.157900\n",
       "std    2.863533e+09  293678.307475     0.820542   298.075647\n",
       "min    6.046500e+04    4452.000000     1.000000    12.320000\n",
       "25%    2.531421e+09  257719.000000     1.000000   227.220000\n",
       "50%    5.074378e+09  540618.000000     2.000000   448.160000\n",
       "75%    7.488579e+09  747801.000000     3.000000   781.080000\n",
       "max    9.998298e+09  993331.000000     3.000000   995.980000"
      ]
     },
     "execution_count": 89,
     "metadata": {},
     "output_type": "execute_result"
    }
   ],
   "source": [
    "units_df.describe()"
   ]
  },
  {
   "cell_type": "code",
   "execution_count": 91,
   "metadata": {},
   "outputs": [
    {
     "data": {
      "text/plain": [
       "(5000, 4)"
      ]
     },
     "execution_count": 91,
     "metadata": {},
     "output_type": "execute_result"
    }
   ],
   "source": [
    "units_df.shape"
   ]
  },
  {
   "cell_type": "code",
   "execution_count": 93,
   "metadata": {},
   "outputs": [
    {
     "name": "stdout",
     "output_type": "stream",
     "text": [
      "<class 'pandas.core.frame.DataFrame'>\n",
      "RangeIndex: 5000 entries, 0 to 4999\n",
      "Data columns (total 4 columns):\n",
      " #   Column      Non-Null Count  Dtype  \n",
      "---  ------      --------------  -----  \n",
      " 0   order_id    5000 non-null   int64  \n",
      " 1   product_id  5000 non-null   int64  \n",
      " 2   quantity    5000 non-null   int64  \n",
      " 3   unit_price  5000 non-null   float64\n",
      "dtypes: float64(1), int64(3)\n",
      "memory usage: 156.4 KB\n"
     ]
    }
   ],
   "source": [
    "units_df.info()"
   ]
  },
  {
   "cell_type": "markdown",
   "metadata": {},
   "source": [
    "#### Data Cleaning"
   ]
  },
  {
   "cell_type": "code",
   "execution_count": 96,
   "metadata": {},
   "outputs": [
    {
     "data": {
      "text/plain": [
       "0"
      ]
     },
     "execution_count": 96,
     "metadata": {},
     "output_type": "execute_result"
    }
   ],
   "source": [
    "# checking for duplicates\n",
    "units_df.duplicated().sum()"
   ]
  },
  {
   "cell_type": "code",
   "execution_count": 98,
   "metadata": {},
   "outputs": [
    {
     "name": "stdout",
     "output_type": "stream",
     "text": [
      "order_id      0\n",
      "product_id    0\n",
      "quantity      0\n",
      "unit_price    0\n",
      "dtype: int64\n"
     ]
    }
   ],
   "source": [
    "# checking for null values\n",
    "null_check = units_df.isnull().sum()\n",
    "print(null_check)"
   ]
  },
  {
   "cell_type": "code",
   "execution_count": 100,
   "metadata": {},
   "outputs": [
    {
     "name": "stdout",
     "output_type": "stream",
     "text": [
      "     order_id  product_id  quantity  unit_price  total_price\n",
      "0  1961864118      642612         3      517.03      1551.09\n",
      "1  1549769649      378676         1      881.42       881.42\n",
      "2  9185164487      741341         2      923.84      1847.68\n",
      "3  9644738826      561860         1      874.78       874.78\n",
      "4  5427684290      602241         2      976.55      1953.10\n"
     ]
    }
   ],
   "source": [
    "# creating new column that holds total order value\n",
    "units_df['total_price'] = units_df['quantity'] * units_df['unit_price']\n",
    "print(units_df.head())  # Display the first few rows to confirm the new column\n"
   ]
  },
  {
   "cell_type": "code",
   "execution_count": 102,
   "metadata": {},
   "outputs": [
    {
     "data": {
      "text/html": [
       "<div>\n",
       "<style scoped>\n",
       "    .dataframe tbody tr th:only-of-type {\n",
       "        vertical-align: middle;\n",
       "    }\n",
       "\n",
       "    .dataframe tbody tr th {\n",
       "        vertical-align: top;\n",
       "    }\n",
       "\n",
       "    .dataframe thead th {\n",
       "        text-align: right;\n",
       "    }\n",
       "</style>\n",
       "<table border=\"1\" class=\"dataframe\">\n",
       "  <thead>\n",
       "    <tr style=\"text-align: right;\">\n",
       "      <th></th>\n",
       "      <th>order_id</th>\n",
       "      <th>product_id</th>\n",
       "      <th>quantity</th>\n",
       "      <th>unit_price</th>\n",
       "      <th>total_price</th>\n",
       "      <th>unit_price_usd</th>\n",
       "      <th>total_price_usd</th>\n",
       "    </tr>\n",
       "  </thead>\n",
       "  <tbody>\n",
       "    <tr>\n",
       "      <th>0</th>\n",
       "      <td>1961864118</td>\n",
       "      <td>642612</td>\n",
       "      <td>3</td>\n",
       "      <td>517.03</td>\n",
       "      <td>1551.09</td>\n",
       "      <td>6.20436</td>\n",
       "      <td>18.61308</td>\n",
       "    </tr>\n",
       "    <tr>\n",
       "      <th>1</th>\n",
       "      <td>1549769649</td>\n",
       "      <td>378676</td>\n",
       "      <td>1</td>\n",
       "      <td>881.42</td>\n",
       "      <td>881.42</td>\n",
       "      <td>10.57704</td>\n",
       "      <td>10.57704</td>\n",
       "    </tr>\n",
       "    <tr>\n",
       "      <th>2</th>\n",
       "      <td>9185164487</td>\n",
       "      <td>741341</td>\n",
       "      <td>2</td>\n",
       "      <td>923.84</td>\n",
       "      <td>1847.68</td>\n",
       "      <td>11.08608</td>\n",
       "      <td>22.17216</td>\n",
       "    </tr>\n",
       "    <tr>\n",
       "      <th>3</th>\n",
       "      <td>9644738826</td>\n",
       "      <td>561860</td>\n",
       "      <td>1</td>\n",
       "      <td>874.78</td>\n",
       "      <td>874.78</td>\n",
       "      <td>10.49736</td>\n",
       "      <td>10.49736</td>\n",
       "    </tr>\n",
       "    <tr>\n",
       "      <th>4</th>\n",
       "      <td>5427684290</td>\n",
       "      <td>602241</td>\n",
       "      <td>2</td>\n",
       "      <td>976.55</td>\n",
       "      <td>1953.10</td>\n",
       "      <td>11.71860</td>\n",
       "      <td>23.43720</td>\n",
       "    </tr>\n",
       "  </tbody>\n",
       "</table>\n",
       "</div>"
      ],
      "text/plain": [
       "     order_id  product_id  quantity  unit_price  total_price  unit_price_usd  \\\n",
       "0  1961864118      642612         3      517.03      1551.09         6.20436   \n",
       "1  1549769649      378676         1      881.42       881.42        10.57704   \n",
       "2  9185164487      741341         2      923.84      1847.68        11.08608   \n",
       "3  9644738826      561860         1      874.78       874.78        10.49736   \n",
       "4  5427684290      602241         2      976.55      1953.10        11.71860   \n",
       "\n",
       "   total_price_usd  \n",
       "0         18.61308  \n",
       "1         10.57704  \n",
       "2         22.17216  \n",
       "3         10.49736  \n",
       "4         23.43720  "
      ]
     },
     "execution_count": 102,
     "metadata": {},
     "output_type": "execute_result"
    }
   ],
   "source": [
    "# creating new columns to hold unit price and total price in USD\n",
    "units_df['unit_price_usd']= units_df['unit_price'] * exchange_rate\n",
    "units_df['total_price_usd'] = units_df['unit_price_usd'] * units_df['quantity']\n",
    "\n",
    "units_df.head()"
   ]
  },
  {
   "cell_type": "markdown",
   "metadata": {},
   "source": [
    "#### Orders & Products"
   ]
  },
  {
   "cell_type": "code",
   "execution_count": 105,
   "metadata": {},
   "outputs": [
    {
     "name": "stdout",
     "output_type": "stream",
     "text": [
      "product_id\n",
      "51036     70\n",
      "820973    68\n",
      "604184    62\n",
      "34186     61\n",
      "992178    60\n",
      "880510    58\n",
      "673058    56\n",
      "89084     56\n",
      "557908    55\n",
      "123983    55\n",
      "Name: quantity, dtype: int64\n"
     ]
    }
   ],
   "source": [
    "# calculating most frequently ordered products\n",
    "top_products = units_df.groupby('product_id')['quantity'].sum().sort_values(ascending=False).head(10)\n",
    "print(top_products)"
   ]
  },
  {
   "cell_type": "code",
   "execution_count": 107,
   "metadata": {},
   "outputs": [
    {
     "name": "stderr",
     "output_type": "stream",
     "text": [
      "/var/folders/yz/1gr6swr5703b66sbw24282z40000gn/T/ipykernel_49688/3400076124.py:5: FutureWarning: \n",
      "\n",
      "Passing `palette` without assigning `hue` is deprecated and will be removed in v0.14.0. Assign the `x` variable to `hue` and set `legend=False` for the same effect.\n",
      "\n",
      "  sns.barplot(x=top_products.index, y=top_products.values, palette=\"viridis\", order=top_products.index)\n"
     ]
    },
    {
     "data": {
      "image/png": "[encoded data removed]",
      "text/plain": [
       "<Figure size 1000x500 with 1 Axes>"
      ]
     },
     "metadata": {},
     "output_type": "display_data"
    }
   ],
   "source": [
    "# creating visual for most ordered products\n",
    "top_products = top_products.sort_values(ascending=False)\n",
    "\n",
    "plt.figure(figsize=(10, 5))\n",
    "sns.barplot(x=top_products.index, y=top_products.values, palette=\"viridis\", order=top_products.index)\n",
    "\n",
    "plt.xlabel(\"Product ID\")\n",
    "plt.ylabel(\"Total Quantity Ordered\")\n",
    "plt.title(\"Top 10 Most Frequently Ordered Products\")\n",
    "plt.xticks(rotation=45)\n",
    "plt.show()"
   ]
  },
  {
   "cell_type": "code",
   "execution_count": 109,
   "metadata": {},
   "outputs": [
    {
     "name": "stdout",
     "output_type": "stream",
     "text": [
      "Average Order Value: $11.93\n"
     ]
    }
   ],
   "source": [
    "# calulating average order value\n",
    "order_totals = units_df.groupby('order_id')['total_price_usd'].sum()\n",
    "average_order_value = order_totals.mean()\n",
    "print(f\"Average Order Value: ${average_order_value:.2f}\")"
   ]
  },
  {
   "cell_type": "code",
   "execution_count": 111,
   "metadata": {},
   "outputs": [
    {
     "ename": "NameError",
     "evalue": "name 'order_sizes' is not defined",
     "output_type": "error",
     "traceback": [
      "\u001b[0;31m---------------------------------------------------------------------------\u001b[0m",
      "\u001b[0;31mNameError\u001b[0m                                 Traceback (most recent call last)",
      "Cell \u001b[0;32mIn[111], line 2\u001b[0m\n\u001b[1;32m      1\u001b[0m \u001b[38;5;66;03m# order size general stats\u001b[39;00m\n\u001b[0;32m----> 2\u001b[0m \u001b[38;5;28mprint\u001b[39m(order_sizes\u001b[38;5;241m.\u001b[39mdescribe())\n",
      "\u001b[0;31mNameError\u001b[0m: name 'order_sizes' is not defined"
     ]
    }
   ],
   "source": [
    "# order size general stats\n",
    "print(order_sizes.describe())"
   ]
  },
  {
   "cell_type": "code",
   "execution_count": 115,
   "metadata": {},
   "outputs": [
    {
     "data": {
      "image/png": "[encoded data removed]",
      "text/plain": [
       "<Figure size 600x500 with 1 Axes>"
      ]
     },
     "metadata": {},
     "output_type": "display_data"
    }
   ],
   "source": [
    "# creating visual for distribution of order values\n",
    "order_sizes = units_df.groupby('order_id')['quantity'].sum()\n",
    "\n",
    "plt.figure(figsize=(6,5))\n",
    "sns.histplot(order_sizes, bins=5, color=\"lightskyblue\")\n",
    "plt.xlabel(\"Number of Items per Order\")\n",
    "plt.ylabel(\"Frequency\")\n",
    "plt.title(\"Distribution of Order Sizes\")\n",
    "plt.show()"
   ]
  },
  {
   "cell_type": "code",
   "execution_count": 133,
   "metadata": {},
   "outputs": [
    {
     "name": "stdout",
     "output_type": "stream",
     "text": [
      "The product ID that generated the most revenue is: 51036.\n"
     ]
    }
   ],
   "source": [
    "# product generating the most revenue\n",
    "product_revenue = units_df.groupby('product_id')['total_price_usd'].sum()\n",
    "\n",
    "max_revenue_prod = product_revenue.idxmax()\n",
    "max_revenue = max_revenue_prod.max()\n",
    "print(f'The product ID that generated the most revenue is: {max_revenue}.')"
   ]
  },
  {
   "cell_type": "code",
   "execution_count": 139,
   "metadata": {},
   "outputs": [
    {
     "name": "stdout",
     "output_type": "stream",
     "text": [
      "product_id\n",
      "51036     782.55240\n",
      "34186     677.57580\n",
      "880510    662.19528\n",
      "557908    621.96420\n",
      "264803    621.49152\n",
      "739534    584.80128\n",
      "18035     558.10944\n",
      "883013    546.41376\n",
      "349294    538.41600\n",
      "112390    526.78800\n",
      "Name: total_price_usd, dtype: float64\n"
     ]
    }
   ],
   "source": [
    "# top 10 products generating the most revenue\n",
    "max_product_revenue = units_df.groupby('product_id')['total_price_usd'].sum().sort_values(ascending=False)\n",
    "\n",
    "print(max_product_revenue.head(10))"
   ]
  },
  {
   "cell_type": "code",
   "execution_count": 165,
   "metadata": {},
   "outputs": [
    {
     "name": "stderr",
     "output_type": "stream",
     "text": [
      "/var/folders/yz/1gr6swr5703b66sbw24282z40000gn/T/ipykernel_49688/331814524.py:6: FutureWarning: \n",
      "\n",
      "Passing `palette` without assigning `hue` is deprecated and will be removed in v0.14.0. Assign the `x` variable to `hue` and set `legend=False` for the same effect.\n",
      "\n",
      "  sns.barplot(x=top_10_products.index, y=top_10_products.values, palette=\"viridis\", order=top_10_products.index)\n"
     ]
    },
    {
     "data": {
      "image/png": "[encoded data removed]",
      "text/plain": [
       "<Figure size 1200x600 with 1 Axes>"
      ]
     },
     "metadata": {},
     "output_type": "display_data"
    }
   ],
   "source": [
    "# creating visual for top 10 products generating the most revenue\n",
    "top_10_products = max_product_revenue.nlargest(10)\n",
    "top_10_products = top_10_products.sort_values(ascending=False)\n",
    "\n",
    "plt.figure(figsize=(12, 6))\n",
    "sns.barplot(x=top_10_products.index, y=top_10_products.values, palette='viridis', order=top_10_products.index)\n",
    "\n",
    "plt.xlabel('Product ID')\n",
    "plt.ylabel('Total Revenue ($)')\n",
    "plt.title('Top 10 Revenue-Generating Products')\n",
    "plt.show()"
   ]
  },
  {
   "cell_type": "code",
   "execution_count": 135,
   "metadata": {},
   "outputs": [
    {
     "name": "stdout",
     "output_type": "stream",
     "text": [
      "The product ID that generated the least revenue is: 118820.\n"
     ]
    }
   ],
   "source": [
    "# product generating the least revenue\n",
    "min_revenue_prod = product_revenue.idxmin()\n",
    "min_revenue = min_revenue_prod.min()\n",
    "print(f'The product ID that generated the least revenue is: {min_revenue}.')"
   ]
  },
  {
   "cell_type": "code",
   "execution_count": 153,
   "metadata": {},
   "outputs": [
    {
     "name": "stdout",
     "output_type": "stream",
     "text": [
      "product_id\n",
      "118820     4.43520\n",
      "654297     5.72400\n",
      "962054     6.06960\n",
      "652118     8.99232\n",
      "767398     9.03312\n",
      "300159    11.17620\n",
      "709916    13.77408\n",
      "133542    13.97196\n",
      "473647    15.49800\n",
      "968887    19.04760\n",
      "Name: total_price_usd, dtype: float64\n"
     ]
    }
   ],
   "source": [
    "# top 10 product generating the least revenue\n",
    "min_product_revenue = units_df.groupby('product_id')['total_price_usd'].sum().sort_values()\n",
    "print(min_product_revenue.head(10))"
   ]
  },
  {
   "cell_type": "code",
   "execution_count": 177,
   "metadata": {},
   "outputs": [
    {
     "name": "stderr",
     "output_type": "stream",
     "text": [
      "/var/folders/yz/1gr6swr5703b66sbw24282z40000gn/T/ipykernel_49688/1079105023.py:6: FutureWarning: \n",
      "\n",
      "Passing `palette` without assigning `hue` is deprecated and will be removed in v0.14.0. Assign the `x` variable to `hue` and set `legend=False` for the same effect.\n",
      "\n",
      "  sns.barplot(x=bottom_10_products.index, y=bottom_10_products.values, palette='viridis', order=bottom_10_products.index)\n"
     ]
    },
    {
     "data": {
      "image/png": "[encoded data removed]",
      "text/plain": [
       "<Figure size 1200x600 with 1 Axes>"
      ]
     },
     "metadata": {},
     "output_type": "display_data"
    }
   ],
   "source": [
    "# creating visual for top 10 products generating the least revenue\n",
    "bottom_10_products = min_product_revenue.nsmallest(10)\n",
    "bottom_10_products = bottom_10_products.sort_values()\n",
    "\n",
    "plt.figure(figsize=(12, 6))\n",
    "sns.barplot(x=bottom_10_products.index, y=bottom_10_products.values, palette='viridis', order=bottom_10_products.index)\n",
    "\n",
    "plt.xlabel('Product ID')\n",
    "plt.ylabel('Total Revenue ($)')\n",
    "plt.title('10 Products Generating the Least Revenue')\n",
    "plt.show()"
   ]
  },
  {
   "cell_type": "code",
   "execution_count": 179,
   "metadata": {},
   "outputs": [
    {
     "data": {
      "text/plain": [
       "count    5000.000000\n",
       "mean        5.917895\n",
       "std         3.576908\n",
       "min         0.147840\n",
       "25%         2.726640\n",
       "50%         5.377920\n",
       "75%         9.372960\n",
       "max        11.951760\n",
       "Name: unit_price_usd, dtype: float64"
      ]
     },
     "execution_count": 179,
     "metadata": {},
     "output_type": "execute_result"
    }
   ],
   "source": [
    "# price distribution general stats\n",
    "units_df['unit_price_usd'].describe()"
   ]
  },
  {
   "cell_type": "code",
   "execution_count": 151,
   "metadata": {},
   "outputs": [
    {
     "data": {
      "image/png": "[encoded data removed]",
      "text/plain": [
       "<Figure size 1000x500 with 1 Axes>"
      ]
     },
     "metadata": {},
     "output_type": "display_data"
    }
   ],
   "source": [
    "# creating visual for product pricing distrubution\n",
    "plt.figure(figsize=(10,5))\n",
    "sns.histplot(units_df['unit_price'], bins=30, kde=True, color='lightskyblue')\n",
    "plt.xlabel('Unit Price')\n",
    "plt.ylabel('Frequency')\n",
    "plt.title('Distribution of Product Prices')\n",
    "plt.show()\n"
   ]
  },
  {
   "cell_type": "markdown",
   "metadata": {},
   "source": [
    "### File 4: Blinkit Marketing Performance"
   ]
  },
  {
   "cell_type": "code",
   "execution_count": 182,
   "metadata": {},
   "outputs": [
    {
     "data": {
      "text/html": [
       "<div>\n",
       "<style scoped>\n",
       "    .dataframe tbody tr th:only-of-type {\n",
       "        vertical-align: middle;\n",
       "    }\n",
       "\n",
       "    .dataframe tbody tr th {\n",
       "        vertical-align: top;\n",
       "    }\n",
       "\n",
       "    .dataframe thead th {\n",
       "        text-align: right;\n",
       "    }\n",
       "</style>\n",
       "<table border=\"1\" class=\"dataframe\">\n",
       "  <thead>\n",
       "    <tr style=\"text-align: right;\">\n",
       "      <th></th>\n",
       "      <th>campaign_id</th>\n",
       "      <th>campaign_name</th>\n",
       "      <th>date</th>\n",
       "      <th>target_audience</th>\n",
       "      <th>channel</th>\n",
       "      <th>impressions</th>\n",
       "      <th>clicks</th>\n",
       "      <th>conversions</th>\n",
       "      <th>spend</th>\n",
       "      <th>revenue_generated</th>\n",
       "      <th>roas</th>\n",
       "    </tr>\n",
       "  </thead>\n",
       "  <tbody>\n",
       "    <tr>\n",
       "      <th>0</th>\n",
       "      <td>548299</td>\n",
       "      <td>New User Discount</td>\n",
       "      <td>2024-11-05</td>\n",
       "      <td>Premium</td>\n",
       "      <td>App</td>\n",
       "      <td>3130</td>\n",
       "      <td>163</td>\n",
       "      <td>78</td>\n",
       "      <td>1431.85</td>\n",
       "      <td>4777.75</td>\n",
       "      <td>3.60</td>\n",
       "    </tr>\n",
       "    <tr>\n",
       "      <th>1</th>\n",
       "      <td>390914</td>\n",
       "      <td>Weekend Special</td>\n",
       "      <td>2024-11-05</td>\n",
       "      <td>Inactive</td>\n",
       "      <td>App</td>\n",
       "      <td>3925</td>\n",
       "      <td>494</td>\n",
       "      <td>45</td>\n",
       "      <td>4506.34</td>\n",
       "      <td>6238.11</td>\n",
       "      <td>2.98</td>\n",
       "    </tr>\n",
       "    <tr>\n",
       "      <th>2</th>\n",
       "      <td>834385</td>\n",
       "      <td>Festival Offer</td>\n",
       "      <td>2024-11-05</td>\n",
       "      <td>Inactive</td>\n",
       "      <td>Email</td>\n",
       "      <td>7012</td>\n",
       "      <td>370</td>\n",
       "      <td>78</td>\n",
       "      <td>4524.23</td>\n",
       "      <td>2621.00</td>\n",
       "      <td>2.95</td>\n",
       "    </tr>\n",
       "    <tr>\n",
       "      <th>3</th>\n",
       "      <td>241523</td>\n",
       "      <td>Flash Sale</td>\n",
       "      <td>2024-11-05</td>\n",
       "      <td>Inactive</td>\n",
       "      <td>SMS</td>\n",
       "      <td>1115</td>\n",
       "      <td>579</td>\n",
       "      <td>86</td>\n",
       "      <td>3622.79</td>\n",
       "      <td>2955.00</td>\n",
       "      <td>2.84</td>\n",
       "    </tr>\n",
       "    <tr>\n",
       "      <th>4</th>\n",
       "      <td>595111</td>\n",
       "      <td>Membership Drive</td>\n",
       "      <td>2024-11-05</td>\n",
       "      <td>New Users</td>\n",
       "      <td>Email</td>\n",
       "      <td>7172</td>\n",
       "      <td>795</td>\n",
       "      <td>54</td>\n",
       "      <td>2888.99</td>\n",
       "      <td>8951.81</td>\n",
       "      <td>2.22</td>\n",
       "    </tr>\n",
       "    <tr>\n",
       "      <th>...</th>\n",
       "      <td>...</td>\n",
       "      <td>...</td>\n",
       "      <td>...</td>\n",
       "      <td>...</td>\n",
       "      <td>...</td>\n",
       "      <td>...</td>\n",
       "      <td>...</td>\n",
       "      <td>...</td>\n",
       "      <td>...</td>\n",
       "      <td>...</td>\n",
       "      <td>...</td>\n",
       "    </tr>\n",
       "    <tr>\n",
       "      <th>5395</th>\n",
       "      <td>381623</td>\n",
       "      <td>Membership Drive</td>\n",
       "      <td>2023-03-17</td>\n",
       "      <td>New Users</td>\n",
       "      <td>Email</td>\n",
       "      <td>8331</td>\n",
       "      <td>809</td>\n",
       "      <td>92</td>\n",
       "      <td>2363.07</td>\n",
       "      <td>3710.79</td>\n",
       "      <td>1.64</td>\n",
       "    </tr>\n",
       "    <tr>\n",
       "      <th>5396</th>\n",
       "      <td>493317</td>\n",
       "      <td>Category Promotion</td>\n",
       "      <td>2023-03-17</td>\n",
       "      <td>Premium</td>\n",
       "      <td>Social Media</td>\n",
       "      <td>5216</td>\n",
       "      <td>860</td>\n",
       "      <td>34</td>\n",
       "      <td>3922.53</td>\n",
       "      <td>7701.25</td>\n",
       "      <td>2.01</td>\n",
       "    </tr>\n",
       "    <tr>\n",
       "      <th>5397</th>\n",
       "      <td>879292</td>\n",
       "      <td>App Push Notification</td>\n",
       "      <td>2023-03-17</td>\n",
       "      <td>All</td>\n",
       "      <td>App</td>\n",
       "      <td>8480</td>\n",
       "      <td>734</td>\n",
       "      <td>20</td>\n",
       "      <td>1990.75</td>\n",
       "      <td>6650.41</td>\n",
       "      <td>3.98</td>\n",
       "    </tr>\n",
       "    <tr>\n",
       "      <th>5398</th>\n",
       "      <td>461129</td>\n",
       "      <td>Email Campaign</td>\n",
       "      <td>2023-03-17</td>\n",
       "      <td>New Users</td>\n",
       "      <td>Email</td>\n",
       "      <td>3569</td>\n",
       "      <td>568</td>\n",
       "      <td>10</td>\n",
       "      <td>4246.47</td>\n",
       "      <td>5880.42</td>\n",
       "      <td>2.50</td>\n",
       "    </tr>\n",
       "    <tr>\n",
       "      <th>5399</th>\n",
       "      <td>282514</td>\n",
       "      <td>Referral Program</td>\n",
       "      <td>2023-03-17</td>\n",
       "      <td>New Users</td>\n",
       "      <td>Social Media</td>\n",
       "      <td>5967</td>\n",
       "      <td>439</td>\n",
       "      <td>78</td>\n",
       "      <td>1511.93</td>\n",
       "      <td>8322.01</td>\n",
       "      <td>3.08</td>\n",
       "    </tr>\n",
       "  </tbody>\n",
       "</table>\n",
       "<p>5400 rows × 11 columns</p>\n",
       "</div>"
      ],
      "text/plain": [
       "      campaign_id          campaign_name        date target_audience  \\\n",
       "0          548299      New User Discount  2024-11-05         Premium   \n",
       "1          390914        Weekend Special  2024-11-05        Inactive   \n",
       "2          834385         Festival Offer  2024-11-05        Inactive   \n",
       "3          241523             Flash Sale  2024-11-05        Inactive   \n",
       "4          595111       Membership Drive  2024-11-05       New Users   \n",
       "...           ...                    ...         ...             ...   \n",
       "5395       381623       Membership Drive  2023-03-17       New Users   \n",
       "5396       493317     Category Promotion  2023-03-17         Premium   \n",
       "5397       879292  App Push Notification  2023-03-17             All   \n",
       "5398       461129         Email Campaign  2023-03-17       New Users   \n",
       "5399       282514       Referral Program  2023-03-17       New Users   \n",
       "\n",
       "           channel  impressions  clicks  conversions    spend  \\\n",
       "0              App         3130     163           78  1431.85   \n",
       "1              App         3925     494           45  4506.34   \n",
       "2            Email         7012     370           78  4524.23   \n",
       "3              SMS         1115     579           86  3622.79   \n",
       "4            Email         7172     795           54  2888.99   \n",
       "...            ...          ...     ...          ...      ...   \n",
       "5395         Email         8331     809           92  2363.07   \n",
       "5396  Social Media         5216     860           34  3922.53   \n",
       "5397           App         8480     734           20  1990.75   \n",
       "5398         Email         3569     568           10  4246.47   \n",
       "5399  Social Media         5967     439           78  1511.93   \n",
       "\n",
       "      revenue_generated  roas  \n",
       "0               4777.75  3.60  \n",
       "1               6238.11  2.98  \n",
       "2               2621.00  2.95  \n",
       "3               2955.00  2.84  \n",
       "4               8951.81  2.22  \n",
       "...                 ...   ...  \n",
       "5395            3710.79  1.64  \n",
       "5396            7701.25  2.01  \n",
       "5397            6650.41  3.98  \n",
       "5398            5880.42  2.50  \n",
       "5399            8322.01  3.08  \n",
       "\n",
       "[5400 rows x 11 columns]"
      ]
     },
     "execution_count": 182,
     "metadata": {},
     "output_type": "execute_result"
    }
   ],
   "source": [
    "mkt_df = pd.read_csv('/Users/tovi/Documents/blinkit_marketing_performance.csv')\n",
    "mkt_df"
   ]
  },
  {
   "cell_type": "markdown",
   "metadata": {},
   "source": [
    "#### Data Cleaning"
   ]
  },
  {
   "cell_type": "code",
   "execution_count": 195,
   "metadata": {},
   "outputs": [
    {
     "name": "stdout",
     "output_type": "stream",
     "text": [
      "<class 'pandas.core.frame.DataFrame'>\n",
      "RangeIndex: 5400 entries, 0 to 5399\n",
      "Data columns (total 11 columns):\n",
      " #   Column             Non-Null Count  Dtype  \n",
      "---  ------             --------------  -----  \n",
      " 0   campaign_id        5400 non-null   int64  \n",
      " 1   campaign_name      5400 non-null   object \n",
      " 2   date               5400 non-null   object \n",
      " 3   target_audience    5400 non-null   object \n",
      " 4   channel            5400 non-null   object \n",
      " 5   impressions        5400 non-null   int64  \n",
      " 6   clicks             5400 non-null   int64  \n",
      " 7   conversions        5400 non-null   int64  \n",
      " 8   spend              5400 non-null   float64\n",
      " 9   revenue_generated  5400 non-null   float64\n",
      " 10  roas               5400 non-null   float64\n",
      "dtypes: float64(3), int64(4), object(4)\n",
      "memory usage: 464.2+ KB\n"
     ]
    }
   ],
   "source": [
    "mkt_df.info()"
   ]
  },
  {
   "cell_type": "code",
   "execution_count": 187,
   "metadata": {},
   "outputs": [
    {
     "data": {
      "text/plain": [
       "(5400, 11)"
      ]
     },
     "execution_count": 187,
     "metadata": {},
     "output_type": "execute_result"
    }
   ],
   "source": [
    "mkt_df.shape"
   ]
  },
  {
   "cell_type": "code",
   "execution_count": 189,
   "metadata": {},
   "outputs": [
    {
     "data": {
      "text/plain": [
       "campaign_id          0\n",
       "campaign_name        0\n",
       "date                 0\n",
       "target_audience      0\n",
       "channel              0\n",
       "impressions          0\n",
       "clicks               0\n",
       "conversions          0\n",
       "spend                0\n",
       "revenue_generated    0\n",
       "roas                 0\n",
       "dtype: int64"
      ]
     },
     "execution_count": 189,
     "metadata": {},
     "output_type": "execute_result"
    }
   ],
   "source": [
    "mkt_df.isnull().sum()"
   ]
  },
  {
   "cell_type": "code",
   "execution_count": 193,
   "metadata": {},
   "outputs": [
    {
     "data": {
      "text/plain": [
       "0"
      ]
     },
     "execution_count": 193,
     "metadata": {},
     "output_type": "execute_result"
    }
   ],
   "source": [
    "mkt_df.duplicated().sum()"
   ]
  },
  {
   "cell_type": "code",
   "execution_count": 231,
   "metadata": {},
   "outputs": [
    {
     "data": {
      "text/html": [
       "<div>\n",
       "<style scoped>\n",
       "    .dataframe tbody tr th:only-of-type {\n",
       "        vertical-align: middle;\n",
       "    }\n",
       "\n",
       "    .dataframe tbody tr th {\n",
       "        vertical-align: top;\n",
       "    }\n",
       "\n",
       "    .dataframe thead th {\n",
       "        text-align: right;\n",
       "    }\n",
       "</style>\n",
       "<table border=\"1\" class=\"dataframe\">\n",
       "  <thead>\n",
       "    <tr style=\"text-align: right;\">\n",
       "      <th></th>\n",
       "      <th>campaign_id</th>\n",
       "      <th>campaign_name</th>\n",
       "      <th>date</th>\n",
       "      <th>target_audience</th>\n",
       "      <th>channel</th>\n",
       "      <th>impressions</th>\n",
       "      <th>clicks</th>\n",
       "      <th>conversions</th>\n",
       "      <th>spend</th>\n",
       "      <th>revenue_generated</th>\n",
       "      <th>roas</th>\n",
       "      <th>spend_usd</th>\n",
       "      <th>revenue_generated_usd</th>\n",
       "    </tr>\n",
       "  </thead>\n",
       "  <tbody>\n",
       "    <tr>\n",
       "      <th>0</th>\n",
       "      <td>548299</td>\n",
       "      <td>New User Discount</td>\n",
       "      <td>2024-11-05</td>\n",
       "      <td>Premium</td>\n",
       "      <td>App</td>\n",
       "      <td>3130</td>\n",
       "      <td>163</td>\n",
       "      <td>78</td>\n",
       "      <td>1431.85</td>\n",
       "      <td>4777.75</td>\n",
       "      <td>3.60</td>\n",
       "      <td>17.18220</td>\n",
       "      <td>57.33300</td>\n",
       "    </tr>\n",
       "    <tr>\n",
       "      <th>1</th>\n",
       "      <td>390914</td>\n",
       "      <td>Weekend Special</td>\n",
       "      <td>2024-11-05</td>\n",
       "      <td>Inactive</td>\n",
       "      <td>App</td>\n",
       "      <td>3925</td>\n",
       "      <td>494</td>\n",
       "      <td>45</td>\n",
       "      <td>4506.34</td>\n",
       "      <td>6238.11</td>\n",
       "      <td>2.98</td>\n",
       "      <td>54.07608</td>\n",
       "      <td>74.85732</td>\n",
       "    </tr>\n",
       "    <tr>\n",
       "      <th>2</th>\n",
       "      <td>834385</td>\n",
       "      <td>Festival Offer</td>\n",
       "      <td>2024-11-05</td>\n",
       "      <td>Inactive</td>\n",
       "      <td>Email</td>\n",
       "      <td>7012</td>\n",
       "      <td>370</td>\n",
       "      <td>78</td>\n",
       "      <td>4524.23</td>\n",
       "      <td>2621.00</td>\n",
       "      <td>2.95</td>\n",
       "      <td>54.29076</td>\n",
       "      <td>31.45200</td>\n",
       "    </tr>\n",
       "    <tr>\n",
       "      <th>3</th>\n",
       "      <td>241523</td>\n",
       "      <td>Flash Sale</td>\n",
       "      <td>2024-11-05</td>\n",
       "      <td>Inactive</td>\n",
       "      <td>SMS</td>\n",
       "      <td>1115</td>\n",
       "      <td>579</td>\n",
       "      <td>86</td>\n",
       "      <td>3622.79</td>\n",
       "      <td>2955.00</td>\n",
       "      <td>2.84</td>\n",
       "      <td>43.47348</td>\n",
       "      <td>35.46000</td>\n",
       "    </tr>\n",
       "    <tr>\n",
       "      <th>4</th>\n",
       "      <td>595111</td>\n",
       "      <td>Membership Drive</td>\n",
       "      <td>2024-11-05</td>\n",
       "      <td>New Users</td>\n",
       "      <td>Email</td>\n",
       "      <td>7172</td>\n",
       "      <td>795</td>\n",
       "      <td>54</td>\n",
       "      <td>2888.99</td>\n",
       "      <td>8951.81</td>\n",
       "      <td>2.22</td>\n",
       "      <td>34.66788</td>\n",
       "      <td>107.42172</td>\n",
       "    </tr>\n",
       "  </tbody>\n",
       "</table>\n",
       "</div>"
      ],
      "text/plain": [
       "   campaign_id      campaign_name        date target_audience channel  \\\n",
       "0       548299  New User Discount  2024-11-05         Premium     App   \n",
       "1       390914    Weekend Special  2024-11-05        Inactive     App   \n",
       "2       834385     Festival Offer  2024-11-05        Inactive   Email   \n",
       "3       241523         Flash Sale  2024-11-05        Inactive     SMS   \n",
       "4       595111   Membership Drive  2024-11-05       New Users   Email   \n",
       "\n",
       "   impressions  clicks  conversions    spend  revenue_generated  roas  \\\n",
       "0         3130     163           78  1431.85            4777.75  3.60   \n",
       "1         3925     494           45  4506.34            6238.11  2.98   \n",
       "2         7012     370           78  4524.23            2621.00  2.95   \n",
       "3         1115     579           86  3622.79            2955.00  2.84   \n",
       "4         7172     795           54  2888.99            8951.81  2.22   \n",
       "\n",
       "   spend_usd  revenue_generated_usd  \n",
       "0   17.18220               57.33300  \n",
       "1   54.07608               74.85732  \n",
       "2   54.29076               31.45200  \n",
       "3   43.47348               35.46000  \n",
       "4   34.66788              107.42172  "
      ]
     },
     "execution_count": 231,
     "metadata": {},
     "output_type": "execute_result"
    }
   ],
   "source": [
    "# creating new column to contain converted spend amounts\n",
    "mkt_df['spend_usd'] = mkt_df['spend'] * exchange_rate\n",
    "mkt_df['revenue_generated_usd'] = mkt_df['revenue_generated'] * exchange_rate\n",
    "mkt_df.head()"
   ]
  },
  {
   "cell_type": "markdown",
   "metadata": {},
   "source": [
    "#### EDA"
   ]
  },
  {
   "cell_type": "code",
   "execution_count": 204,
   "metadata": {},
   "outputs": [
    {
     "name": "stdout",
     "output_type": "stream",
     "text": [
      "campaign_name    Email Campaign\n",
      "roas                        4.0\n",
      "Name: 97, dtype: object\n"
     ]
    }
   ],
   "source": [
    "# which campaign has the highest return on ad spend\n",
    "highest_roas_campaign = mkt_df.loc[mkt_df['roas'].idxmax(), ['campaign_name', 'roas']]\n",
    "print(highest_roas_campaign)"
   ]
  },
  {
   "cell_type": "code",
   "execution_count": 243,
   "metadata": {},
   "outputs": [
    {
     "name": "stdout",
     "output_type": "stream",
     "text": [
      "channel\n",
      "App             50560.54500\n",
      "Social Media    49324.36692\n",
      "SMS             47983.29048\n",
      "Email           47969.85648\n",
      "Name: spend_usd, dtype: float64\n"
     ]
    }
   ],
   "source": [
    "# identifying the total spend for each marketing channel\n",
    "spend_per_channel = mkt_df.groupby('channel')['spend_usd'].sum().sort_values(ascending=False)\n",
    "print(spend_per_channel)"
   ]
  },
  {
   "cell_type": "code",
   "execution_count": 241,
   "metadata": {},
   "outputs": [
    {
     "name": "stdout",
     "output_type": "stream",
     "text": [
      "channel                  Social Media\n",
      "roas                              4.0\n",
      "campaign_id                    664981\n",
      "spend_usd                    43.19748\n",
      "revenue_generated_usd        51.74148\n",
      "Name: 97, dtype: object\n"
     ]
    }
   ],
   "source": [
    "# which channel has the highest return on ad spend\n",
    "highest_roas_channel = mkt_df.loc[mkt_df['roas'].idxmax(), ['channel', 'roas', 'campaign_id', 'spend_usd', 'revenue_generated_usd' ]]\n",
    "print(highest_roas_channel)"
   ]
  },
  {
   "cell_type": "markdown",
   "metadata": {},
   "source": [
    "**GET RANKED ROAS PER CHANNEL, Identify which channels are most profitable.**"
   ]
  },
  {
   "cell_type": "code",
   "execution_count": 225,
   "metadata": {},
   "outputs": [
    {
     "data": {
      "text/plain": [
       "(channel\n",
       " App             2448\n",
       " Email           2217\n",
       " SMS              223\n",
       " Social Media      97\n",
       " Name: roas, dtype: int64,\n",
       " ['roas'])"
      ]
     },
     "execution_count": 225,
     "metadata": {},
     "output_type": "execute_result"
    }
   ],
   "source": [
    "roas_by_channel = mkt_df.groupby('channel')['roas'].idxmax(), ['roas']\n",
    "roas_by_channel"
   ]
  },
  {
   "cell_type": "code",
   "execution_count": 251,
   "metadata": {},
   "outputs": [
    {
     "name": "stdout",
     "output_type": "stream",
     "text": [
      "channel\n",
      "App             2.754301\n",
      "Email           2.748861\n",
      "SMS             2.710112\n",
      "Social Media    2.749188\n",
      "Name: roas, dtype: float64\n"
     ]
    }
   ],
   "source": [
    "# calculate the average roas for each channel\n",
    "roas_by_channel = mkt_df.groupby('channel')['roas'].mean()\n",
    "print(roas_by_channel)"
   ]
  },
  {
   "cell_type": "code",
   "execution_count": 257,
   "metadata": {},
   "outputs": [
    {
     "name": "stdout",
     "output_type": "stream",
     "text": [
      "Average ROAS across all channels: 2.740711111111111\n"
     ]
    }
   ],
   "source": [
    "# calculate the average roas across all channels\n",
    "average_roas = mkt_df['roas'].mean()\n",
    "print(f\"Average ROAS across all channels: {average_roas}\")"
   ]
  },
  {
   "cell_type": "markdown",
   "metadata": {},
   "source": [
    "# PICK UP HERE\n",
    "Identify wasted ad spend by checking if a campaign spends too much but generates little revenue:"
   ]
  },
  {
   "cell_type": "markdown",
   "metadata": {},
   "source": [
    "Creating a spend to revenue generated column:"
   ]
  },
  {
   "cell_type": "code",
   "execution_count": null,
   "metadata": {},
   "outputs": [],
   "source": [
    "mkt_df['spend_to_revenue_ratio'] = mkt_df['spend'] / mkt_df['revenue_generated']\n",
    "print(mkt_df[['campaign_name', 'spend', 'revenue_generated', 'spend_to_revenue_ratio']].sort_values(by='spend_to_revenue_ratio'))\n"
   ]
  },
  {
   "cell_type": "code",
   "execution_count": null,
   "metadata": {},
   "outputs": [],
   "source": [
    "mkt_df.spend_to_revenue_ratio.describe()"
   ]
  },
  {
   "cell_type": "code",
   "execution_count": null,
   "metadata": {},
   "outputs": [],
   "source": [
    "# get the campaign that had the highest conversion rate\n",
    "mkt_df['conversion_rate'] = mkt_df['conversions'] / mkt_df['clicks']\n",
    "highest_conversion_rate_campaign = mkt_df.loc[mkt_df['conversion_rate'].idxmax(), ['campaign_name', 'conversion_rate', 'revenue_generated','channel']]\n",
    "highest_conversion_rate_campaign\n",
    "\n",
    "#print(highest_conversion_rate_campaign).groupby('channel')['roas'].mean()\n",
    "#print(roas_by_channel)"
   ]
  },
  {
   "cell_type": "markdown",
   "metadata": {},
   "source": [
    "Track performance fluctuations over time:"
   ]
  },
  {
   "cell_type": "code",
   "execution_count": null,
   "metadata": {},
   "outputs": [],
   "source": [
    "daily_roas = mkt_df.groupby('date')['roas'].mean()\n",
    "\n",
    "plt.figure(figsize=(10, 5))\n",
    "daily_roas.plot(title=\"ROAS Over Time\", marker='o', color='lightskyblue')\n",
    "plt.xlabel(\"Date\")\n",
    "plt.ylabel(\"ROAS\")\n",
    "plt.grid(True)\n",
    "plt.show()\n"
   ]
  },
  {
   "cell_type": "code",
   "execution_count": null,
   "metadata": {},
   "outputs": [],
   "source": [
    "# how do these performance metrics correlate to overall roas?\n",
    "correlation_matrix = mkt_df[['impressions', 'clicks', 'conversions', 'roas']].corr()\n",
    "print(correlation_matrix)"
   ]
  },
  {
   "cell_type": "code",
   "execution_count": null,
   "metadata": {},
   "outputs": [],
   "source": [
    "mkt_df.groupby('channel')['spend'].sum().plot(kind='bar', title=\"Total Spend by Channel\")\n",
    "plt.ylabel(\"Total Spend\")\n",
    "plt.show()"
   ]
  },
  {
   "cell_type": "code",
   "execution_count": null,
   "metadata": {},
   "outputs": [],
   "source": [
    "mkt_df.groupby('target_audience')['spend'].sum().plot(kind='bar', title=\"Total Spend by Audience Type\")\n",
    "plt.ylabel(\"Total Spend\")\n",
    "plt.show()"
   ]
  },
  {
   "cell_type": "code",
   "execution_count": null,
   "metadata": {},
   "outputs": [],
   "source": [
    "#audience that generates the most revenue\n",
    "revenue_by_audience = mkt_df.groupby('target_audience')['revenue_generated'].sum().sort_values(ascending=False)\n",
    "print(revenue_by_audience)"
   ]
  },
  {
   "cell_type": "code",
   "execution_count": null,
   "metadata": {},
   "outputs": [],
   "source": [
    "# conversion rate by audience\n",
    "conversion_rate_by_audience = mkt_df.groupby('target_audience')['conversion_rate'].mean()\n",
    "print(conversion_rate_by_audience)"
   ]
  },
  {
   "cell_type": "code",
   "execution_count": null,
   "metadata": {},
   "outputs": [],
   "source": [
    "# which channel has the highest engagement\n",
    "mkt_df['engagement_rate'] = mkt_df['clicks'] / mkt_df['impressions']\n",
    "highest_engagement_channel = mkt_df.groupby('channel')['engagement_rate'].mean().sort_values(ascending=False)\n",
    "print(highest_engagement_channel)"
   ]
  },
  {
   "cell_type": "code",
   "execution_count": null,
   "metadata": {},
   "outputs": [],
   "source": [
    "#are there seasonal trends in campaign performance\n",
    "mkt_df['date'] = pd.to_datetime(mkt_df['date'])\n",
    "mkt_df['day_of_week'] = mkt_df['date'].dt.day_name()\n",
    "\n",
    "conversions_by_day = mkt_df.groupby('day_of_week')['conversions'].sum()\n",
    "print(conversions_by_day)"
   ]
  },
  {
   "cell_type": "code",
   "execution_count": null,
   "metadata": {},
   "outputs": [],
   "source": [
    "# daily spend across campaigns and channels- FIX BECAUSE THIS IS ATROCIOUS!!\n",
    "daily_spend = mkt_df.groupby(['date', 'channel'])['spend'].sum().unstack()\n",
    "daily_spend.plot(title=\"Daily Spend by Channel\", figsize=(10, 5))\n",
    "plt.ylabel(\"Total Spend\")\n",
    "plt.show()"
   ]
  },
  {
   "cell_type": "code",
   "execution_count": null,
   "metadata": {},
   "outputs": [],
   "source": [
    "performance_by_day = mkt_df.groupby('day_of_week')[['roas', 'conversion_rate']].mean()\n",
    "print(performance_by_day)"
   ]
  },
  {
   "cell_type": "code",
   "execution_count": null,
   "metadata": {},
   "outputs": [],
   "source": [
    "roas_by_channel = mkt_df.groupby('channel')['roas'].mean().sort_values()\n",
    "\n",
    "plt.figure(figsize=(8, 5))\n",
    "roas_by_channel.plot(kind='bar', color='skyblue', edgecolor='black')\n",
    "plt.title(\"Average ROAS by Marketing Channel\")\n",
    "plt.xlabel(\"Marketing Channel\")\n",
    "plt.ylabel(\"ROAS\")\n",
    "plt.xticks(rotation=45)\n",
    "plt.grid(axis='y', linestyle='--', alpha=0.7)\n",
    "plt.show()"
   ]
  },
  {
   "cell_type": "code",
   "execution_count": null,
   "metadata": {},
   "outputs": [],
   "source": [
    "mkt_df['day_of_week'] = mkt_df['date'].dt.day_name()\n",
    "conversions_by_day = mkt_df.groupby('day_of_week')['conversions'].sum()\n",
    "\n",
    "plt.figure(figsize=(8, 5))\n",
    "conversions_by_day.reindex([\"Monday\", \"Tuesday\", \"Wednesday\", \"Thursday\", \"Friday\", \"Saturday\", \"Sunday\"]).plot(kind='bar', color='orange', edgecolor='black')\n",
    "plt.title(\"Total Conversions by Day of the Week\")\n",
    "plt.xlabel(\"Day of the Week\")\n",
    "plt.ylabel(\"Total Conversions\")\n",
    "plt.xticks(rotation=45)\n",
    "plt.grid(axis='y', linestyle='--', alpha=0.7)\n",
    "plt.show()"
   ]
  },
  {
   "cell_type": "code",
   "execution_count": null,
   "metadata": {},
   "outputs": [],
   "source": [
    "plt.figure(figsize=(8, 5))\n",
    "sns.heatmap(mkt_df[['impressions', 'clicks', 'conversions', 'spend', 'revenue_generated', 'roas']].corr(), annot=True, cmap='coolwarm', linewidths=0.5)\n",
    "plt.title(\"Correlation Heatmap of Key Metrics\")\n",
    "plt.show()"
   ]
  },
  {
   "cell_type": "markdown",
   "metadata": {},
   "source": [
    " A violin plot shows the distribution and density of ROAS across different channels:"
   ]
  },
  {
   "cell_type": "code",
   "execution_count": null,
   "metadata": {},
   "outputs": [],
   "source": [
    "plt.figure(figsize=(8, 5))\n",
    "sns.violinplot(hue='channel', y='roas', data=mkt_df, palette='pastel')\n",
    "plt.title(\"ROAS Distribution by Marketing Channel\")\n",
    "plt.xlabel(\"Channel\")\n",
    "plt.ylabel(\"ROAS\")\n",
    "plt.xticks(rotation=45)\n",
    "plt.show()"
   ]
  },
  {
   "cell_type": "markdown",
   "metadata": {},
   "source": [
    "This helps identify which channel has the highest engagement in terms of clicks per impression:"
   ]
  },
  {
   "cell_type": "code",
   "execution_count": null,
   "metadata": {},
   "outputs": [],
   "source": [
    "mkt_df['ctr'] = mkt_df['clicks'] / mkt_df['impressions']  # calculate Click-Through Rate (CTR)\n",
    "\n",
    "plt.figure(figsize=(8, 5))\n",
    "sns.barplot(hue='channel', y='ctr', data=mkt_df, palette='muted', errorbar=None)\n",
    "plt.title(\"Click-Through Rate (CTR) by Marketing Channel\")\n",
    "plt.xlabel(\"Channel\")\n",
    "plt.ylabel(\"CTR\")\n",
    "plt.xticks(rotation=45)\n",
    "plt.show()"
   ]
  },
  {
   "cell_type": "markdown",
   "metadata": {},
   "source": [
    "A box plot shows the spread and outliers in conversion rates for different audience segments:"
   ]
  },
  {
   "cell_type": "code",
   "execution_count": null,
   "metadata": {},
   "outputs": [],
   "source": [
    "plt.figure(figsize=(8, 5))\n",
    "sns.boxplot(hue='target_audience', y='conversion_rate', data=mkt_df, palette='coolwarm')\n",
    "plt.title(\"Conversion Rate by Target Audience\")\n",
    "plt.xlabel(\"Target Audience\")\n",
    "plt.ylabel(\"Conversion Rate\")\n",
    "plt.xticks(rotation=45)\n",
    "plt.show()"
   ]
  },
  {
   "cell_type": "markdown",
   "metadata": {},
   "source": [
    "A heatmap helps identify which target audience and channel combinations yield the best ROAS:"
   ]
  },
  {
   "cell_type": "code",
   "execution_count": null,
   "metadata": {},
   "outputs": [],
   "source": [
    "pivot = mkt_df.pivot_table(values='roas', index='target_audience', columns='channel', aggfunc='mean')\n",
    "\n",
    "plt.figure(figsize=(8, 5))\n",
    "sns.heatmap(pivot, annot=True, cmap='Blues', linewidths=0.5)\n",
    "plt.title(\"ROAS Heatmap by Channel and Target Audience\")\n",
    "plt.xlabel(\"Marketing Channel\")\n",
    "plt.ylabel(\"Target Audience\")\n",
    "plt.show()"
   ]
  },
  {
   "cell_type": "markdown",
   "metadata": {},
   "source": [
    "This shows trends in conversions over time, helping to spot seasonal effects or spikes."
   ]
  },
  {
   "cell_type": "code",
   "execution_count": null,
   "metadata": {},
   "outputs": [],
   "source": [
    "mkt_df['date'] = pd.to_datetime(mkt_df['date'])  # ensure date is in datetime format\n",
    "daily_conversions = mkt_df.groupby('date')['conversions'].sum().reset_index()\n",
    "\n",
    "plt.figure(figsize=(10, 5))\n",
    "sns.lineplot(x='date', y='conversions', data=daily_conversions, marker='o', color='blue')\n",
    "plt.title(\"Conversions Over Time\")\n",
    "plt.xlabel(\"Date\")\n",
    "plt.ylabel(\"Total Conversions\")\n",
    "plt.xticks(rotation=45)\n",
    "plt.grid(axis='y', linestyle='--', alpha=0.7)\n",
    "plt.show()"
   ]
  },
  {
   "cell_type": "markdown",
   "metadata": {},
   "source": [
    "A kernel density estimate (KDE) plot helps visualize the distribution of revenue:"
   ]
  },
  {
   "cell_type": "code",
   "execution_count": null,
   "metadata": {},
   "outputs": [],
   "source": [
    "plt.figure(figsize=(8, 5))\n",
    "sns.kdeplot(mkt_df['revenue_generated'], fill=True, color='green')\n",
    "plt.title(\"Revenue Distribution\")\n",
    "plt.xlabel(\"Revenue Generated\")\n",
    "plt.ylabel(\"Density\")\n",
    "plt.show()"
   ]
  },
  {
   "cell_type": "markdown",
   "metadata": {},
   "source": [
    "Identify campaigns with the best return on investment (ROI):"
   ]
  },
  {
   "cell_type": "code",
   "execution_count": null,
   "metadata": {},
   "outputs": [],
   "source": [
    "top_campaigns = mkt_df.groupby('campaign_name')['roas'].mean().nlargest(10).reset_index()\n",
    "\n",
    "plt.figure(figsize=(10, 5))\n",
    "sns.barplot(y='campaign_name', hue='roas', data=top_campaigns, palette='viridis',)\n",
    "plt.title(\"Top 10 Campaigns by ROAS\")\n",
    "plt.xlabel(\"ROAS\")\n",
    "plt.ylabel(\"Campaign Name\")\n",
    "plt.show()"
   ]
  },
  {
   "cell_type": "markdown",
   "metadata": {},
   "source": [
    "Check if high clicks lead to conversions:"
   ]
  },
  {
   "cell_type": "code",
   "execution_count": null,
   "metadata": {},
   "outputs": [],
   "source": [
    "correlation = np.corrcoef(mkt_df['clicks'], mkt_df['conversions'])[0, 1]\n",
    "print(f\"Correlation between Clicks and Conversions: {correlation:.2f}\")"
   ]
  },
  {
   "cell_type": "code",
   "execution_count": null,
   "metadata": {},
   "outputs": [],
   "source": []
  },
  {
   "cell_type": "code",
   "execution_count": null,
   "metadata": {},
   "outputs": [],
   "source": [
    "sns.scatterplot(x='spend', y='roas', data=mkt_df, alpha=0.6)\n",
    "plt.title(\"ROAS vs. Spend\")\n",
    "plt.xlabel(\"Spend\")\n",
    "plt.ylabel(\"ROAS\")\n",
    "plt.grid(True)\n",
    "plt.show()"
   ]
  },
  {
   "cell_type": "markdown",
   "metadata": {},
   "source": [
    "Identify drop-off points in the marketing funnel."
   ]
  },
  {
   "cell_type": "code",
   "execution_count": null,
   "metadata": {},
   "outputs": [],
   "source": [
    "mkt_df['impression_to_click'] = mkt_df['clicks'] / mkt_df['impressions']\n",
    "mkt_df['click_to_conversion'] = mkt_df['conversions'] / mkt_df['clicks']\n",
    "\n",
    "print(mkt_df[['channel', 'impression_to_click', 'click_to_conversion']].groupby('channel').mean())\n"
   ]
  },
  {
   "cell_type": "code",
   "execution_count": null,
   "metadata": {},
   "outputs": [],
   "source": []
  },
  {
   "cell_type": "code",
   "execution_count": null,
   "metadata": {},
   "outputs": [],
   "source": [
    "plt.figure(figsize=(8, 5))\n",
    "sns.scatterplot(x='spend', y='revenue_generated', data=mkt_df, alpha=0.6)\n",
    "sns.regplot(x='spend', y='revenue_generated', data=mkt_df, scatter=False, color='red')\n",
    "plt.title(\"Marketing Spend vs. Revenue Generated\")\n",
    "plt.xlabel(\"Marketing Spend ($)\")\n",
    "plt.ylabel(\"Revenue Generated ($)\")\n",
    "plt.grid(True, linestyle='--', alpha=0.5)\n",
    "plt.show()"
   ]
  },
  {
   "cell_type": "markdown",
   "metadata": {},
   "source": [
    "Which campaigns have the most efficient budget allocation:"
   ]
  },
  {
   "cell_type": "code",
   "execution_count": null,
   "metadata": {},
   "outputs": [],
   "source": [
    "mkt_df['spend_to_revenue_ratio'] = mkt_df['spend'] / mkt_df['revenue_generated']\n",
    "\n",
    "plt.figure(figsize=(10, 5))\n",
    "sns.barplot(x='campaign_name', y='spend_to_revenue_ratio', data=mkt_df.sort_values(by='spend_to_revenue_ratio'), palette='coolwarm')\n",
    "plt.title(\"Spend-to-Revenue Ratio by Campaign\")\n",
    "plt.xlabel(\"Campaign\")\n",
    "plt.ylabel(\"Spend-to-Revenue Ratio\")\n",
    "plt.xticks(rotation=45)\n",
    "plt.show()"
   ]
  },
  {
   "cell_type": "code",
   "execution_count": null,
   "metadata": {},
   "outputs": [],
   "source": [
    "#move this visual up"
   ]
  },
  {
   "cell_type": "code",
   "execution_count": null,
   "metadata": {},
   "outputs": [],
   "source": [
    "plt.figure(figsize=(8, 5))\n",
    "sns.boxplot(x='channel', y='roas', data=mkt_df, palette='pastel')\n",
    "plt.title(\"ROAS Distribution by Marketing Channel\")\n",
    "plt.xlabel(\"Marketing Channel\")\n",
    "plt.ylabel(\"ROAS\")\n",
    "plt.xticks(rotation=45)\n",
    "plt.show()"
   ]
  },
  {
   "cell_type": "markdown",
   "metadata": {},
   "source": [
    "Shows whether higher budget allocation leads to higher conversions:"
   ]
  },
  {
   "cell_type": "code",
   "execution_count": null,
   "metadata": {},
   "outputs": [],
   "source": [
    "plt.figure(figsize=(10, 5))\n",
    "sns.barplot(x='channel', y='spend', data=mkt_df, color='blue', label='Spend')\n",
    "sns.barplot(x='channel', y='conversions', data=mkt_df, color='orange', label='Conversions')\n",
    "plt.title(\"Marketing Budget Allocation vs. Conversions\")\n",
    "plt.xlabel(\"Marketing Channel\")\n",
    "plt.ylabel(\"Amount\")\n",
    "plt.xticks(rotation=45)\n",
    "plt.legend()\n",
    "plt.show()"
   ]
  },
  {
   "cell_type": "markdown",
   "metadata": {},
   "source": [
    "Which audience segments yield the best ROAS:\n"
   ]
  },
  {
   "cell_type": "code",
   "execution_count": null,
   "metadata": {},
   "outputs": [],
   "source": [
    "pivot = mkt_df.pivot_table(values='roas', index='target_audience', columns='channel', aggfunc='mean')\n",
    "\n",
    "plt.figure(figsize=(8, 5))\n",
    "sns.heatmap(pivot, annot=True, cmap='Blues', linewidths=0.5)\n",
    "plt.title(\"ROAS Heatmap by Channel and Target Audience\")\n",
    "plt.xlabel(\"Marketing Channel\")\n",
    "plt.ylabel(\"Target Audience\")\n",
    "plt.show()"
   ]
  },
  {
   "cell_type": "code",
   "execution_count": null,
   "metadata": {},
   "outputs": [],
   "source": []
  },
  {
   "cell_type": "code",
   "execution_count": null,
   "metadata": {},
   "outputs": [],
   "source": []
  },
  {
   "cell_type": "markdown",
   "metadata": {},
   "source": [
    "## File 5: Blinkit Inventory- likely to OMIT **NOTE -NEW version, or og version**"
   ]
  },
  {
   "cell_type": "code",
   "execution_count": null,
   "metadata": {},
   "outputs": [],
   "source": [
    "df5 = pd.read_csv('/Users/tovi/Documents/blinkit_inventoryNew.csv')\n",
    "df5"
   ]
  },
  {
   "cell_type": "markdown",
   "metadata": {},
   "source": [
    "### File 6: Inventory- likely to OMIT"
   ]
  },
  {
   "cell_type": "code",
   "execution_count": null,
   "metadata": {},
   "outputs": [],
   "source": [
    "inventory_df = pd.read_csv('/Users/tovi/Documents/blinkit_inventory.csv')\n",
    "inventory_df"
   ]
  },
  {
   "cell_type": "code",
   "execution_count": null,
   "metadata": {},
   "outputs": [],
   "source": []
  },
  {
   "cell_type": "code",
   "execution_count": null,
   "metadata": {},
   "outputs": [],
   "source": [
    "inventory_df['date'] = pd.to_datetime(inventory_df['date'], format=\"%d-%m-%Y\")\n",
    "\n",
    "# Group by date and sum stock received\n",
    "daily_stock = inventory_df.groupby('date')['stock_received'].sum()\n",
    "\n",
    "# Plot the trend\n",
    "plt.figure(figsize=(12, 6))\n",
    "sns.lineplot(x=daily_stock.index, y=daily_stock.values)\n",
    "plt.xlabel(\"Date\")\n",
    "plt.ylabel(\"Total Stock Received\")\n",
    "plt.title(\"Total Stock Received Over Time\")\n",
    "plt.xticks(rotation=45)\n",
    "plt.show()"
   ]
  },
  {
   "cell_type": "code",
   "execution_count": null,
   "metadata": {},
   "outputs": [],
   "source": [
    "# Extract month and weekday\n",
    "inventory_df['month'] = inventory_df['date'].dt.month\n",
    "inventory_df['weekday'] = inventory_df['date'].dt.day_name()\n",
    "\n",
    "# Monthly trend\n",
    "plt.figure(figsize=(10, 5))\n",
    "sns.boxplot(x=inventory_df['month'], y=inventory_df['stock_received'])\n",
    "plt.xlabel(\"Month\")\n",
    "plt.ylabel(\"Stock Received\")\n",
    "plt.title(\"Monthly Stock Received Distribution\")\n",
    "plt.show()\n",
    "\n",
    "# Weekly trend\n",
    "plt.figure(figsize=(10, 5))\n",
    "sns.boxplot(x=inventory_df['weekday'], y=inventory_df['stock_received'], order=[\n",
    "    'Monday', 'Tuesday', 'Wednesday', 'Thursday', 'Friday', 'Saturday', 'Sunday'])\n",
    "plt.xlabel(\"Weekday\")\n",
    "plt.ylabel(\"Stock Received\")\n",
    "plt.title(\"Stock Received by Day of the Week\")\n",
    "plt.show()\n"
   ]
  },
  {
   "cell_type": "code",
   "execution_count": null,
   "metadata": {},
   "outputs": [],
   "source": [
    "# Total stock received per product\n",
    "product_stock = inventory_df.groupby('product_id')['stock_received'].sum()\n",
    "\n",
    "# Top 10 products with highest stock received\n",
    "top_products = product_stock.nlargest(10)\n",
    "\n",
    "# Plot\n",
    "plt.figure(figsize=(12, 6))\n",
    "sns.barplot(x=top_products.index, y=top_products.values)\n",
    "plt.xlabel(\"Product ID\")\n",
    "plt.ylabel(\"Total Stock Received\")\n",
    "plt.title(\"Top 10 Products with Highest Stock Received\")\n",
    "plt.xticks(rotation=45)\n",
    "plt.show()\n"
   ]
  },
  {
   "cell_type": "code",
   "execution_count": null,
   "metadata": {},
   "outputs": [],
   "source": [
    "# What is the average stock received per product?\n",
    "\n",
    "# Calculate mean stock received per product\n",
    "avg_stock_per_product = inventory_df.groupby('product_id')['stock_received'].mean()\n",
    "\n",
    "# Plot distribution\n",
    "plt.figure(figsize=(10, 5))\n",
    "sns.histplot(avg_stock_per_product, bins=50, kde=True)\n",
    "plt.xlabel(\"Average Stock Received per Product\")\n",
    "plt.ylabel(\"Frequency\")\n",
    "plt.title(\"Distribution of Average Stock Received per Product\")\n",
    "plt.show()\n"
   ]
  },
  {
   "cell_type": "code",
   "execution_count": null,
   "metadata": {},
   "outputs": [],
   "source": [
    "#What percentage of received stock is damaged on average?\n",
    "\n",
    "# Calculate total stock and damaged stock\n",
    "total_stock = inventory_df['stock_received'].sum()\n",
    "total_damaged = inventory_df['damaged_stock'].sum()\n",
    "\n",
    "# Calculate percentage\n",
    "damage_percentage = (total_damaged / total_stock) * 100\n",
    "print(f\"Average percentage of damaged stock: {damage_percentage:.2f}%\")\n"
   ]
  },
  {
   "cell_type": "code",
   "execution_count": null,
   "metadata": {},
   "outputs": [],
   "source": [
    "#are there certain products that consistently have higher damage rates?\n",
    "\n",
    "# Calculate damage rate per product\n",
    "inventory_df['damage_rate'] = inventory_df['damaged_stock'] / inventory_df['stock_received']\n",
    "product_damage = inventory_df.groupby('product_id')['damage_rate'].mean()\n",
    "\n",
    "# Top 10 products with highest damage rate\n",
    "top_damaged_products = product_damage.nlargest(10)\n",
    "\n",
    "# Plot\n",
    "plt.figure(figsize=(12, 6))\n",
    "sns.barplot(x=top_damaged_products.index, y=top_damaged_products.values)\n",
    "plt.xlabel(\"Product ID\")\n",
    "plt.ylabel(\"Average Damage Rate\")\n",
    "plt.title(\"Top 10 Products with Highest Damage Rate\")\n",
    "plt.xticks(rotation=45)\n",
    "plt.show()\n"
   ]
  },
  {
   "cell_type": "code",
   "execution_count": null,
   "metadata": {},
   "outputs": [],
   "source": [
    "inventory_df['damage_rate'].nlargest(10)"
   ]
  },
  {
   "cell_type": "code",
   "execution_count": null,
   "metadata": {},
   "outputs": [],
   "source": [
    "# how does damage rate change over time\n",
    "\n",
    "# Calculate daily damage rate\n",
    "daily_damage_rate = (inventory_df.groupby('date')['damaged_stock'].sum() /\n",
    "                     inventory_df.groupby('date')['stock_received'].sum()) * 100\n",
    "\n",
    "# Plot trend\n",
    "plt.figure(figsize=(12, 6))\n",
    "sns.lineplot(x=daily_damage_rate.index, y=daily_damage_rate.values)\n",
    "plt.xlabel(\"Date\")\n",
    "plt.ylabel(\"Daily Damage Rate (%)\")\n",
    "plt.title(\"Daily Damage Rate Over Time\")\n",
    "plt.xticks(rotation=45)\n",
    "plt.show()\n"
   ]
  },
  {
   "cell_type": "code",
   "execution_count": null,
   "metadata": {},
   "outputs": [],
   "source": []
  },
  {
   "cell_type": "code",
   "execution_count": null,
   "metadata": {},
   "outputs": [],
   "source": []
  },
  {
   "cell_type": "code",
   "execution_count": null,
   "metadata": {},
   "outputs": [],
   "source": []
  },
  {
   "cell_type": "code",
   "execution_count": null,
   "metadata": {},
   "outputs": [],
   "source": []
  },
  {
   "cell_type": "code",
   "execution_count": null,
   "metadata": {},
   "outputs": [],
   "source": []
  },
  {
   "cell_type": "markdown",
   "metadata": {},
   "source": [
    "### File 7: Blinkit Delivery Times: **NOTE maybe to be excluded- order_df shows delivery times and stats, only one unique value for reasons_if_delayed which is traffic.**"
   ]
  },
  {
   "cell_type": "code",
   "execution_count": null,
   "metadata": {},
   "outputs": [],
   "source": [
    "df7 = pd.read_csv('/Users/tovi/Documents/blinkit_delivery_performance.csv')\n",
    "df7"
   ]
  },
  {
   "cell_type": "code",
   "execution_count": null,
   "metadata": {},
   "outputs": [],
   "source": [
    "df7['reasons_if_delayed'].nunique()"
   ]
  },
  {
   "cell_type": "markdown",
   "metadata": {},
   "source": [
    "### File 8: Blinkit Customers"
   ]
  },
  {
   "cell_type": "code",
   "execution_count": null,
   "metadata": {},
   "outputs": [],
   "source": [
    "cust_df = pd.read_csv('/Users/tovi/Documents/blinkit_customers.csv')\n",
    "cust_df"
   ]
  },
  {
   "cell_type": "code",
   "execution_count": null,
   "metadata": {},
   "outputs": [],
   "source": [
    "#only keep desired columns\n",
    "columns=['customer_id', 'area', 'registration_date', 'customer_segment', 'total_orders', 'avg_order_value']\n"
   ]
  },
  {
   "cell_type": "code",
   "execution_count": null,
   "metadata": {},
   "outputs": [],
   "source": [
    "# Convert registration_date to datetime\n",
    "cust_df['registration_date'] = pd.to_datetime(cust_df['registration_date'])"
   ]
  },
  {
   "cell_type": "code",
   "execution_count": null,
   "metadata": {},
   "outputs": [],
   "source": [
    "# 1. Distribution of customers across different segments\n",
    "plt.figure(figsize=(8, 5))\n",
    "sns.countplot(x=cust_df['customer_segment'], palette='viridis')\n",
    "plt.title(\"Customer Distribution by Segment\")\n",
    "plt.xlabel(\"Customer Segment\")\n",
    "plt.ylabel(\"Count\")\n",
    "plt.show()"
   ]
  },
  {
   "cell_type": "code",
   "execution_count": null,
   "metadata": {},
   "outputs": [],
   "source": [
    "# 2. Average total orders per customer segment\n",
    "avg_orders = cust_df.groupby('customer_segment')['total_orders'].mean().sort_values()\n",
    "print(\"Average Total Orders per Customer Segment:\\n\", avg_orders)\n"
   ]
  },
  {
   "cell_type": "code",
   "execution_count": null,
   "metadata": {},
   "outputs": [],
   "source": [
    "# 3. Average order value across customer segments\n",
    "avg_order_value = cust_df.groupby('customer_segment')['avg_order_value'].mean()\n",
    "print(\"Average Order Value per Customer Segment:\\n\", avg_order_value)"
   ]
  },
  {
   "cell_type": "code",
   "execution_count": null,
   "metadata": {},
   "outputs": [],
   "source": [
    "# 4. Percentage of customers with fewer than 5 orders\n",
    "low_order_percentage = (cust_df[cust_df['total_orders'] < 5].shape[0] / cust_df.shape[0]) * 100\n",
    "print(f\"Percentage of customers with fewer than 5 orders: {low_order_percentage:.2f}%\")"
   ]
  },
  {
   "cell_type": "code",
   "execution_count": null,
   "metadata": {},
   "outputs": [],
   "source": [
    "# 5. Total revenue generated by each customer segment\n",
    "cust_df['total_revenue'] = cust_df['total_orders'] * cust_df['avg_order_value']\n",
    "total_revenue = cust_df.groupby('customer_segment')['total_revenue'].sum()\n",
    "print(\"Total Revenue by Customer Segment:\\n\", total_revenue)"
   ]
  },
  {
   "cell_type": "code",
   "execution_count": null,
   "metadata": {},
   "outputs": [],
   "source": [
    "# 6. Correlation between total orders and average order value\n",
    "correlation = cust_df[['total_orders', 'avg_order_value']].corr()\n",
    "print(\"Correlation between Total Orders and Average Order Value:\\n\", correlation)\n",
    "sns.heatmap(correlation, annot=True, cmap='coolwarm')\n",
    "plt.title(\"Correlation Heatmap\")\n",
    "plt.show()"
   ]
  },
  {
   "cell_type": "code",
   "execution_count": null,
   "metadata": {},
   "outputs": [],
   "source": [
    "# 7. Highest and lowest average order values\n",
    "max_order_value = cust_df['avg_order_value'].max()\n",
    "min_order_value = cust_df['avg_order_value'].min()\n",
    "print(f\"Highest Average Order Value: {max_order_value}\")\n",
    "print(f\"Lowest Average Order Value: {min_order_value}\")\n"
   ]
  },
  {
   "cell_type": "code",
   "execution_count": null,
   "metadata": {},
   "outputs": [],
   "source": [
    "# 8. Area with the highest number of registered customers\n",
    "top_area = cust_df['area'].value_counts().idxmax()\n",
    "print(f\"Area with the most customers: {top_area}\")"
   ]
  },
  {
   "cell_type": "code",
   "execution_count": null,
   "metadata": {},
   "outputs": [],
   "source": [
    "# 8. Area with the lowest number of registered customers\n",
    "top_area = cust_df['area'].value_counts().idxmin()\n",
    "print(f\"Area with the fewest customers: {top_area}\")"
   ]
  },
  {
   "cell_type": "code",
   "execution_count": null,
   "metadata": {},
   "outputs": [],
   "source": [
    "# 9. Average order value per area\n",
    "area_avg_order_value = cust_df.groupby('area')['avg_order_value'].mean()\n",
    "print(\"Average Order Value per Area:\\n\", area_avg_order_value)"
   ]
  },
  {
   "cell_type": "markdown",
   "metadata": {},
   "source": [
    "## get max of this value as well"
   ]
  },
  {
   "cell_type": "code",
   "execution_count": null,
   "metadata": {},
   "outputs": [],
   "source": [
    "# 10. Areas with the highest percentage of Premium customers\n",
    "premium_distribution = cust_df[cust_df['customer_segment'] == 'Premium']['area'].value_counts()\n",
    "print(\"Areas with highest Premium customer count:\\n\", premium_distribution.head())"
   ]
  },
  {
   "cell_type": "code",
   "execution_count": null,
   "metadata": {},
   "outputs": [],
   "source": [
    "# 11. Monthly customer registrations\n",
    "cust_df['registration_month'] = cust_df['registration_date'].dt.to_period(\"M\")\n",
    "monthly_registrations = cust_df['registration_month'].value_counts().sort_index()\n",
    "monthly_registrations.plot(kind='line', marker='o', figsize=(10, 5))\n",
    "plt.title(\"Monthly Customer Registrations\")\n",
    "plt.xlabel(\"Month\")\n",
    "plt.ylabel(\"Number of Registrations\")\n",
    "plt.show()"
   ]
  },
  {
   "cell_type": "code",
   "execution_count": null,
   "metadata": {},
   "outputs": [],
   "source": [
    "# 12. Trend of new customer registrations over time\n",
    "sns.histplot(cust_df['registration_date'], bins=20, kde=True)\n",
    "plt.title(\"New Customer Registrations Over Time\")\n",
    "plt.xlabel(\"Date\")\n",
    "plt.ylabel(\"Count\")\n",
    "plt.show()"
   ]
  },
  {
   "cell_type": "code",
   "execution_count": null,
   "metadata": {},
   "outputs": [],
   "source": [
    "# 13. Recent customer segment distribution (last 3 months)\n",
    "recent_customers = cust_df[cust_df['registration_date'] >= cust_df['registration_date'].max() - pd.DateOffset(months=3)]\n",
    "sns.countplot(x=recent_customers['customer_segment'], palette='coolwarm', legend=False)\n",
    "plt.title(\"Customer Segments for Recent Registrations\")\n",
    "plt.show()"
   ]
  },
  {
   "cell_type": "code",
   "execution_count": null,
   "metadata": {},
   "outputs": [],
   "source": [
    "# 13. Recent customer segment distribution (last 6 months)\n",
    "recent_customers = cust_df[cust_df['registration_date'] >= cust_df['registration_date'].max() - pd.DateOffset(months=6)]\n",
    "sns.countplot(x=recent_customers['customer_segment'], palette='coolwarm', legend=False)\n",
    "plt.title(\"Customer Segments for Recent Registrations\")\n",
    "plt.show()"
   ]
  },
  {
   "cell_type": "code",
   "execution_count": null,
   "metadata": {},
   "outputs": [],
   "source": []
  },
  {
   "cell_type": "code",
   "execution_count": null,
   "metadata": {},
   "outputs": [],
   "source": []
  },
  {
   "cell_type": "code",
   "execution_count": null,
   "metadata": {},
   "outputs": [],
   "source": []
  },
  {
   "cell_type": "markdown",
   "metadata": {},
   "source": [
    "### File 9: Blinkit Customer Feedback"
   ]
  },
  {
   "cell_type": "code",
   "execution_count": null,
   "metadata": {},
   "outputs": [],
   "source": [
    "feedback_df = pd.read_csv('/Users/tovi/Documents/blinkit_customer_feedback.csv')\n",
    "feedback_df"
   ]
  },
  {
   "cell_type": "markdown",
   "metadata": {},
   "source": [
    "Overall Rating Distribution:"
   ]
  },
  {
   "cell_type": "code",
   "execution_count": null,
   "metadata": {},
   "outputs": [],
   "source": [
    "feedback_df['rating'].plot(kind='hist', bins=5, edgecolor='black')\n",
    "plt.xlabel('Rating')\n",
    "plt.ylabel('Count')\n",
    "plt.title('Distribution of Customer Ratings')\n",
    "plt.show()"
   ]
  },
  {
   "cell_type": "markdown",
   "metadata": {},
   "source": [
    "Sentiment Distribution"
   ]
  },
  {
   "cell_type": "code",
   "execution_count": null,
   "metadata": {},
   "outputs": [],
   "source": [
    "# Count occurrences of each sentiment\n",
    "sentiment_counts = feedback_df['sentiment'].value_counts()\n",
    "\n",
    "# Plot sentiment distribution\n",
    "sentiment_counts.plot(kind='bar', color=['green', 'gray', 'red'])\n",
    "plt.xlabel('Sentiment')\n",
    "plt.ylabel('Count')\n",
    "plt.title('Customer Feedback Sentiment Distribution')\n",
    "plt.show()"
   ]
  },
  {
   "cell_type": "markdown",
   "metadata": {},
   "source": [
    "Average Rating per Feedback Category:"
   ]
  },
  {
   "cell_type": "code",
   "execution_count": null,
   "metadata": {},
   "outputs": [],
   "source": [
    "category_avg_rating = feedback_df.groupby('feedback_category')['rating'].mean().sort_values()\n",
    "\n",
    "# Plot category vs. average rating\n",
    "category_avg_rating.plot(kind='bar', color='skyblue')\n",
    "plt.xlabel('Feedback Category')\n",
    "plt.ylabel('Average Rating')\n",
    "plt.title('Average Rating per Feedback Category')\n",
    "plt.xticks(rotation=45)\n",
    "plt.show()"
   ]
  },
  {
   "cell_type": "code",
   "execution_count": null,
   "metadata": {},
   "outputs": [],
   "source": []
  },
  {
   "cell_type": "code",
   "execution_count": null,
   "metadata": {},
   "outputs": [],
   "source": [
    "feedback_df['feedback_date'] = pd.to_datetime(feedback_df['feedback_date'])\n",
    "\n",
    "# Count sentiment over time\n",
    "sentiment_trend = feedback_df.groupby(feedback_df['feedback_date'].dt.to_period('M'))['sentiment'].value_counts().unstack()\n",
    "\n",
    "# Plot sentiment trend\n",
    "sentiment_trend.plot(kind='line', marker='o')\n",
    "plt.xlabel('Date')\n",
    "plt.ylabel('Count')\n",
    "plt.title('Sentiment Trends Over Time')\n",
    "plt.legend(title='Sentiment')\n",
    "plt.show()"
   ]
  },
  {
   "cell_type": "code",
   "execution_count": null,
   "metadata": {},
   "outputs": [],
   "source": []
  },
  {
   "cell_type": "code",
   "execution_count": null,
   "metadata": {},
   "outputs": [],
   "source": [
    "from collections import Counter\n",
    "import re\n",
    "\n",
    "# Combine all negative feedback\n",
    "negative_feedback = ' '.join(feedback_df[feedback_df['sentiment'] == 'Negative']['feedback_text'])\n",
    "\n",
    "# Tokenize and count words\n",
    "words = re.findall(r'\\b\\w+\\b', negative_feedback.lower())\n",
    "word_counts = Counter(words)\n",
    "\n",
    "# Get 10 most common words\n",
    "common_words = word_counts.most_common(20)\n",
    "print(common_words)"
   ]
  },
  {
   "cell_type": "code",
   "execution_count": null,
   "metadata": {},
   "outputs": [],
   "source": []
  },
  {
   "cell_type": "code",
   "execution_count": null,
   "metadata": {},
   "outputs": [],
   "source": []
  },
  {
   "cell_type": "markdown",
   "metadata": {},
   "source": [
    "**TO DO**\n",
    "- create separate doc for analysis w SQL documentation\n",
    "- upload CSVs to pgadmin\n",
    "- select files for PYTHON EDA, NOT SQL, reduce it, upload, view, and choose- explain in beginning why certain python files were left out of the python analysis\n",
    "- should anything be combined?\n",
    "- choose top 2-3 files for matplot and numpy demo\n",
    "- Tableau dashboard"
   ]
  },
  {
   "cell_type": "markdown",
   "metadata": {},
   "source": [
    "## Exploratory "
   ]
  }
 ],
 "metadata": {
  "kernelspec": {
   "display_name": "Python [conda env:base] *",
   "language": "python",
   "name": "conda-base-py"
  },
  "language_info": {
   "codemirror_mode": {
    "name": "ipython",
    "version": 3
   },
   "file_extension": ".py",
   "mimetype": "text/x-python",
   "name": "python",
   "nbconvert_exporter": "python",
   "pygments_lexer": "ipython3",
   "version": "3.12.7"
  }
 },
 "nbformat": 4,
 "nbformat_minor": 4
}
