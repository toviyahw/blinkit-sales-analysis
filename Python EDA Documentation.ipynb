{
 "cells": [
  {
   "cell_type": "markdown",
   "metadata": {},
   "source": [
    "# Blinkit Sales: Exploratory Data Analysis with Python"
   ]
  },
  {
   "cell_type": "code",
   "execution_count": 3,
   "metadata": {},
   "outputs": [],
   "source": [
    "# importing neccessary libraries\n",
    "import pandas as pd\n",
    "import matplotlib.pyplot as plt\n",
    "import numpy as np\n",
    "import seaborn as sns"
   ]
  },
  {
   "cell_type": "markdown",
   "metadata": {},
   "source": [
    "### File 1: Blinkit Products"
   ]
  },
  {
   "cell_type": "code",
   "execution_count": 4,
   "metadata": {},
   "outputs": [
    {
     "data": {
      "text/html": [
       "<div>\n",
       "<style scoped>\n",
       "    .dataframe tbody tr th:only-of-type {\n",
       "        vertical-align: middle;\n",
       "    }\n",
       "\n",
       "    .dataframe tbody tr th {\n",
       "        vertical-align: top;\n",
       "    }\n",
       "\n",
       "    .dataframe thead th {\n",
       "        text-align: right;\n",
       "    }\n",
       "</style>\n",
       "<table border=\"1\" class=\"dataframe\">\n",
       "  <thead>\n",
       "    <tr style=\"text-align: right;\">\n",
       "      <th></th>\n",
       "      <th>product_id</th>\n",
       "      <th>product_name</th>\n",
       "      <th>category</th>\n",
       "      <th>brand</th>\n",
       "      <th>price</th>\n",
       "      <th>mrp</th>\n",
       "      <th>margin_percentage</th>\n",
       "      <th>shelf_life_days</th>\n",
       "      <th>min_stock_level</th>\n",
       "      <th>max_stock_level</th>\n",
       "    </tr>\n",
       "  </thead>\n",
       "  <tbody>\n",
       "    <tr>\n",
       "      <th>0</th>\n",
       "      <td>153019</td>\n",
       "      <td>Onions</td>\n",
       "      <td>Fruits &amp; Vegetables</td>\n",
       "      <td>Aurora LLC</td>\n",
       "      <td>947.95</td>\n",
       "      <td>1263.93</td>\n",
       "      <td>25.0</td>\n",
       "      <td>3</td>\n",
       "      <td>13</td>\n",
       "      <td>88</td>\n",
       "    </tr>\n",
       "    <tr>\n",
       "      <th>1</th>\n",
       "      <td>11422</td>\n",
       "      <td>Potatoes</td>\n",
       "      <td>Fruits &amp; Vegetables</td>\n",
       "      <td>Ramaswamy-Tata</td>\n",
       "      <td>127.16</td>\n",
       "      <td>169.55</td>\n",
       "      <td>25.0</td>\n",
       "      <td>3</td>\n",
       "      <td>20</td>\n",
       "      <td>65</td>\n",
       "    </tr>\n",
       "    <tr>\n",
       "      <th>2</th>\n",
       "      <td>669378</td>\n",
       "      <td>Potatoes</td>\n",
       "      <td>Fruits &amp; Vegetables</td>\n",
       "      <td>Chadha and Sons</td>\n",
       "      <td>212.14</td>\n",
       "      <td>282.85</td>\n",
       "      <td>25.0</td>\n",
       "      <td>3</td>\n",
       "      <td>23</td>\n",
       "      <td>70</td>\n",
       "    </tr>\n",
       "    <tr>\n",
       "      <th>3</th>\n",
       "      <td>848226</td>\n",
       "      <td>Tomatoes</td>\n",
       "      <td>Fruits &amp; Vegetables</td>\n",
       "      <td>Barad and Sons</td>\n",
       "      <td>209.59</td>\n",
       "      <td>279.45</td>\n",
       "      <td>25.0</td>\n",
       "      <td>3</td>\n",
       "      <td>10</td>\n",
       "      <td>51</td>\n",
       "    </tr>\n",
       "    <tr>\n",
       "      <th>4</th>\n",
       "      <td>890623</td>\n",
       "      <td>Onions</td>\n",
       "      <td>Fruits &amp; Vegetables</td>\n",
       "      <td>Sangha, Nagar and Varty</td>\n",
       "      <td>354.52</td>\n",
       "      <td>472.69</td>\n",
       "      <td>25.0</td>\n",
       "      <td>3</td>\n",
       "      <td>27</td>\n",
       "      <td>55</td>\n",
       "    </tr>\n",
       "    <tr>\n",
       "      <th>...</th>\n",
       "      <td>...</td>\n",
       "      <td>...</td>\n",
       "      <td>...</td>\n",
       "      <td>...</td>\n",
       "      <td>...</td>\n",
       "      <td>...</td>\n",
       "      <td>...</td>\n",
       "      <td>...</td>\n",
       "      <td>...</td>\n",
       "      <td>...</td>\n",
       "    </tr>\n",
       "    <tr>\n",
       "      <th>263</th>\n",
       "      <td>444361</td>\n",
       "      <td>Pain Reliever</td>\n",
       "      <td>Pharmacy</td>\n",
       "      <td>Prakash, Bawa and Kale</td>\n",
       "      <td>822.63</td>\n",
       "      <td>1028.29</td>\n",
       "      <td>20.0</td>\n",
       "      <td>365</td>\n",
       "      <td>20</td>\n",
       "      <td>71</td>\n",
       "    </tr>\n",
       "    <tr>\n",
       "      <th>264</th>\n",
       "      <td>679284</td>\n",
       "      <td>Cough Syrup</td>\n",
       "      <td>Pharmacy</td>\n",
       "      <td>Pant LLC</td>\n",
       "      <td>877.89</td>\n",
       "      <td>1097.36</td>\n",
       "      <td>20.0</td>\n",
       "      <td>365</td>\n",
       "      <td>28</td>\n",
       "      <td>95</td>\n",
       "    </tr>\n",
       "    <tr>\n",
       "      <th>265</th>\n",
       "      <td>240179</td>\n",
       "      <td>Cough Syrup</td>\n",
       "      <td>Pharmacy</td>\n",
       "      <td>Ram-Suri</td>\n",
       "      <td>90.56</td>\n",
       "      <td>113.20</td>\n",
       "      <td>20.0</td>\n",
       "      <td>365</td>\n",
       "      <td>20</td>\n",
       "      <td>56</td>\n",
       "    </tr>\n",
       "    <tr>\n",
       "      <th>266</th>\n",
       "      <td>673058</td>\n",
       "      <td>Cough Syrup</td>\n",
       "      <td>Pharmacy</td>\n",
       "      <td>Balan-Madan</td>\n",
       "      <td>765.76</td>\n",
       "      <td>957.20</td>\n",
       "      <td>20.0</td>\n",
       "      <td>365</td>\n",
       "      <td>30</td>\n",
       "      <td>94</td>\n",
       "    </tr>\n",
       "    <tr>\n",
       "      <th>267</th>\n",
       "      <td>114414</td>\n",
       "      <td>Vitamins</td>\n",
       "      <td>Pharmacy</td>\n",
       "      <td>Kara-Golla</td>\n",
       "      <td>832.06</td>\n",
       "      <td>1040.07</td>\n",
       "      <td>20.0</td>\n",
       "      <td>365</td>\n",
       "      <td>26</td>\n",
       "      <td>66</td>\n",
       "    </tr>\n",
       "  </tbody>\n",
       "</table>\n",
       "<p>268 rows × 10 columns</p>\n",
       "</div>"
      ],
      "text/plain": [
       "     product_id   product_name             category                    brand  \\\n",
       "0        153019         Onions  Fruits & Vegetables               Aurora LLC   \n",
       "1         11422       Potatoes  Fruits & Vegetables           Ramaswamy-Tata   \n",
       "2        669378       Potatoes  Fruits & Vegetables          Chadha and Sons   \n",
       "3        848226       Tomatoes  Fruits & Vegetables           Barad and Sons   \n",
       "4        890623         Onions  Fruits & Vegetables  Sangha, Nagar and Varty   \n",
       "..          ...            ...                  ...                      ...   \n",
       "263      444361  Pain Reliever             Pharmacy   Prakash, Bawa and Kale   \n",
       "264      679284    Cough Syrup             Pharmacy                 Pant LLC   \n",
       "265      240179    Cough Syrup             Pharmacy                 Ram-Suri   \n",
       "266      673058    Cough Syrup             Pharmacy              Balan-Madan   \n",
       "267      114414       Vitamins             Pharmacy               Kara-Golla   \n",
       "\n",
       "      price      mrp  margin_percentage  shelf_life_days  min_stock_level  \\\n",
       "0    947.95  1263.93               25.0                3               13   \n",
       "1    127.16   169.55               25.0                3               20   \n",
       "2    212.14   282.85               25.0                3               23   \n",
       "3    209.59   279.45               25.0                3               10   \n",
       "4    354.52   472.69               25.0                3               27   \n",
       "..      ...      ...                ...              ...              ...   \n",
       "263  822.63  1028.29               20.0              365               20   \n",
       "264  877.89  1097.36               20.0              365               28   \n",
       "265   90.56   113.20               20.0              365               20   \n",
       "266  765.76   957.20               20.0              365               30   \n",
       "267  832.06  1040.07               20.0              365               26   \n",
       "\n",
       "     max_stock_level  \n",
       "0                 88  \n",
       "1                 65  \n",
       "2                 70  \n",
       "3                 51  \n",
       "4                 55  \n",
       "..               ...  \n",
       "263               71  \n",
       "264               95  \n",
       "265               56  \n",
       "266               94  \n",
       "267               66  \n",
       "\n",
       "[268 rows x 10 columns]"
      ]
     },
     "execution_count": 4,
     "metadata": {},
     "output_type": "execute_result"
    }
   ],
   "source": [
    "# loading csv into a dataframe\n",
    "product_df = pd.read_csv('/Users/tovi/Desktop/Projects/Blinket-Sales/blinkit csvs/blinkit_products.csv')\n",
    "product_df"
   ]
  },
  {
   "cell_type": "code",
   "execution_count": 5,
   "metadata": {},
   "outputs": [
    {
     "data": {
      "text/plain": [
       "(268, 10)"
      ]
     },
     "execution_count": 5,
     "metadata": {},
     "output_type": "execute_result"
    }
   ],
   "source": [
    "#checking the shape of df\n",
    "product_df.shape"
   ]
  },
  {
   "cell_type": "code",
   "execution_count": 6,
   "metadata": {},
   "outputs": [
    {
     "name": "stdout",
     "output_type": "stream",
     "text": [
      "<class 'pandas.core.frame.DataFrame'>\n",
      "RangeIndex: 268 entries, 0 to 267\n",
      "Data columns (total 10 columns):\n",
      " #   Column             Non-Null Count  Dtype  \n",
      "---  ------             --------------  -----  \n",
      " 0   product_id         268 non-null    int64  \n",
      " 1   product_name       268 non-null    object \n",
      " 2   category           268 non-null    object \n",
      " 3   brand              268 non-null    object \n",
      " 4   price              268 non-null    float64\n",
      " 5   mrp                268 non-null    float64\n",
      " 6   margin_percentage  268 non-null    float64\n",
      " 7   shelf_life_days    268 non-null    int64  \n",
      " 8   min_stock_level    268 non-null    int64  \n",
      " 9   max_stock_level    268 non-null    int64  \n",
      "dtypes: float64(3), int64(4), object(3)\n",
      "memory usage: 21.1+ KB\n"
     ]
    }
   ],
   "source": [
    "# general descriptive stats\n",
    "product_df.info()"
   ]
  },
  {
   "cell_type": "code",
   "execution_count": 7,
   "metadata": {},
   "outputs": [
    {
     "data": {
      "text/plain": [
       "0"
      ]
     },
     "execution_count": 7,
     "metadata": {},
     "output_type": "execute_result"
    }
   ],
   "source": [
    "# checking for duplicates\n",
    "product_df.duplicated().sum()"
   ]
  },
  {
   "cell_type": "code",
   "execution_count": 8,
   "metadata": {},
   "outputs": [
    {
     "name": "stdout",
     "output_type": "stream",
     "text": [
      "product_id           0\n",
      "product_name         0\n",
      "category             0\n",
      "brand                0\n",
      "price                0\n",
      "mrp                  0\n",
      "margin_percentage    0\n",
      "shelf_life_days      0\n",
      "min_stock_level      0\n",
      "max_stock_level      0\n",
      "dtype: int64\n"
     ]
    }
   ],
   "source": [
    "# checking for null values\n",
    "null_check = product_df.isnull().sum()\n",
    "print(null_check)"
   ]
  },
  {
   "cell_type": "code",
   "execution_count": 9,
   "metadata": {},
   "outputs": [
    {
     "data": {
      "text/html": [
       "<div>\n",
       "<style scoped>\n",
       "    .dataframe tbody tr th:only-of-type {\n",
       "        vertical-align: middle;\n",
       "    }\n",
       "\n",
       "    .dataframe tbody tr th {\n",
       "        vertical-align: top;\n",
       "    }\n",
       "\n",
       "    .dataframe thead th {\n",
       "        text-align: right;\n",
       "    }\n",
       "</style>\n",
       "<table border=\"1\" class=\"dataframe\">\n",
       "  <thead>\n",
       "    <tr style=\"text-align: right;\">\n",
       "      <th></th>\n",
       "      <th>product_id</th>\n",
       "      <th>product_name</th>\n",
       "      <th>category</th>\n",
       "      <th>brand</th>\n",
       "      <th>price</th>\n",
       "      <th>mrp</th>\n",
       "      <th>margin_percentage</th>\n",
       "      <th>shelf_life_days</th>\n",
       "      <th>min_stock_level</th>\n",
       "      <th>max_stock_level</th>\n",
       "      <th>price_usd</th>\n",
       "    </tr>\n",
       "  </thead>\n",
       "  <tbody>\n",
       "    <tr>\n",
       "      <th>0</th>\n",
       "      <td>153019</td>\n",
       "      <td>Onions</td>\n",
       "      <td>Fruits &amp; Vegetables</td>\n",
       "      <td>Aurora LLC</td>\n",
       "      <td>947.95</td>\n",
       "      <td>1263.93</td>\n",
       "      <td>25.0</td>\n",
       "      <td>3</td>\n",
       "      <td>13</td>\n",
       "      <td>88</td>\n",
       "      <td>11.37540</td>\n",
       "    </tr>\n",
       "    <tr>\n",
       "      <th>1</th>\n",
       "      <td>11422</td>\n",
       "      <td>Potatoes</td>\n",
       "      <td>Fruits &amp; Vegetables</td>\n",
       "      <td>Ramaswamy-Tata</td>\n",
       "      <td>127.16</td>\n",
       "      <td>169.55</td>\n",
       "      <td>25.0</td>\n",
       "      <td>3</td>\n",
       "      <td>20</td>\n",
       "      <td>65</td>\n",
       "      <td>1.52592</td>\n",
       "    </tr>\n",
       "    <tr>\n",
       "      <th>2</th>\n",
       "      <td>669378</td>\n",
       "      <td>Potatoes</td>\n",
       "      <td>Fruits &amp; Vegetables</td>\n",
       "      <td>Chadha and Sons</td>\n",
       "      <td>212.14</td>\n",
       "      <td>282.85</td>\n",
       "      <td>25.0</td>\n",
       "      <td>3</td>\n",
       "      <td>23</td>\n",
       "      <td>70</td>\n",
       "      <td>2.54568</td>\n",
       "    </tr>\n",
       "    <tr>\n",
       "      <th>3</th>\n",
       "      <td>848226</td>\n",
       "      <td>Tomatoes</td>\n",
       "      <td>Fruits &amp; Vegetables</td>\n",
       "      <td>Barad and Sons</td>\n",
       "      <td>209.59</td>\n",
       "      <td>279.45</td>\n",
       "      <td>25.0</td>\n",
       "      <td>3</td>\n",
       "      <td>10</td>\n",
       "      <td>51</td>\n",
       "      <td>2.51508</td>\n",
       "    </tr>\n",
       "    <tr>\n",
       "      <th>4</th>\n",
       "      <td>890623</td>\n",
       "      <td>Onions</td>\n",
       "      <td>Fruits &amp; Vegetables</td>\n",
       "      <td>Sangha, Nagar and Varty</td>\n",
       "      <td>354.52</td>\n",
       "      <td>472.69</td>\n",
       "      <td>25.0</td>\n",
       "      <td>3</td>\n",
       "      <td>27</td>\n",
       "      <td>55</td>\n",
       "      <td>4.25424</td>\n",
       "    </tr>\n",
       "  </tbody>\n",
       "</table>\n",
       "</div>"
      ],
      "text/plain": [
       "   product_id product_name             category                    brand  \\\n",
       "0      153019       Onions  Fruits & Vegetables               Aurora LLC   \n",
       "1       11422     Potatoes  Fruits & Vegetables           Ramaswamy-Tata   \n",
       "2      669378     Potatoes  Fruits & Vegetables          Chadha and Sons   \n",
       "3      848226     Tomatoes  Fruits & Vegetables           Barad and Sons   \n",
       "4      890623       Onions  Fruits & Vegetables  Sangha, Nagar and Varty   \n",
       "\n",
       "    price      mrp  margin_percentage  shelf_life_days  min_stock_level  \\\n",
       "0  947.95  1263.93               25.0                3               13   \n",
       "1  127.16   169.55               25.0                3               20   \n",
       "2  212.14   282.85               25.0                3               23   \n",
       "3  209.59   279.45               25.0                3               10   \n",
       "4  354.52   472.69               25.0                3               27   \n",
       "\n",
       "   max_stock_level  price_usd  \n",
       "0               88   11.37540  \n",
       "1               65    1.52592  \n",
       "2               70    2.54568  \n",
       "3               51    2.51508  \n",
       "4               55    4.25424  "
      ]
     },
     "execution_count": 9,
     "metadata": {},
     "output_type": "execute_result"
    }
   ],
   "source": [
    "# creating new column that converts prices from the Indian Rupee to the US Dollar\n",
    "exchange_rate = 0.012\n",
    "product_df['price_usd'] = product_df['price'] * exchange_rate\n",
    "product_df.head()"
   ]
  },
  {
   "cell_type": "markdown",
   "metadata": {},
   "source": [
    "#### Pricing & Margins"
   ]
  },
  {
   "cell_type": "code",
   "execution_count": 10,
   "metadata": {},
   "outputs": [
    {
     "data": {
      "text/plain": [
       "price                488.356828\n",
       "margin_percentage     27.779851\n",
       "dtype: float64"
      ]
     },
     "execution_count": 10,
     "metadata": {},
     "output_type": "execute_result"
    }
   ],
   "source": [
    "# calculating average price and margin percentage\n",
    "product_df[['price', 'margin_percentage']].mean()"
   ]
  },
  {
   "cell_type": "code",
   "execution_count": 11,
   "metadata": {},
   "outputs": [
    {
     "data": {
      "text/plain": [
       "price_usd             5.860282\n",
       "margin_percentage    27.779851\n",
       "dtype: float64"
      ]
     },
     "execution_count": 11,
     "metadata": {},
     "output_type": "execute_result"
    }
   ],
   "source": [
    "# calculating average price and margin percentage\n",
    "product_df[['price_usd', 'margin_percentage']].mean()"
   ]
  },
  {
   "cell_type": "code",
   "execution_count": 12,
   "metadata": {},
   "outputs": [
    {
     "data": {
      "text/html": [
       "<div>\n",
       "<style scoped>\n",
       "    .dataframe tbody tr th:only-of-type {\n",
       "        vertical-align: middle;\n",
       "    }\n",
       "\n",
       "    .dataframe tbody tr th {\n",
       "        vertical-align: top;\n",
       "    }\n",
       "\n",
       "    .dataframe thead th {\n",
       "        text-align: right;\n",
       "    }\n",
       "</style>\n",
       "<table border=\"1\" class=\"dataframe\">\n",
       "  <thead>\n",
       "    <tr style=\"text-align: right;\">\n",
       "      <th></th>\n",
       "      <th>count</th>\n",
       "      <th>mean</th>\n",
       "      <th>std</th>\n",
       "      <th>min</th>\n",
       "      <th>25%</th>\n",
       "      <th>50%</th>\n",
       "      <th>75%</th>\n",
       "      <th>max</th>\n",
       "    </tr>\n",
       "    <tr>\n",
       "      <th>category</th>\n",
       "      <th></th>\n",
       "      <th></th>\n",
       "      <th></th>\n",
       "      <th></th>\n",
       "      <th></th>\n",
       "      <th></th>\n",
       "      <th></th>\n",
       "      <th></th>\n",
       "    </tr>\n",
       "  </thead>\n",
       "  <tbody>\n",
       "    <tr>\n",
       "      <th>Baby Care</th>\n",
       "      <td>16.0</td>\n",
       "      <td>30.0</td>\n",
       "      <td>0.0</td>\n",
       "      <td>30.0</td>\n",
       "      <td>30.0</td>\n",
       "      <td>30.0</td>\n",
       "      <td>30.0</td>\n",
       "      <td>30.0</td>\n",
       "    </tr>\n",
       "    <tr>\n",
       "      <th>Cold Drinks &amp; Juices</th>\n",
       "      <td>22.0</td>\n",
       "      <td>30.0</td>\n",
       "      <td>0.0</td>\n",
       "      <td>30.0</td>\n",
       "      <td>30.0</td>\n",
       "      <td>30.0</td>\n",
       "      <td>30.0</td>\n",
       "      <td>30.0</td>\n",
       "    </tr>\n",
       "    <tr>\n",
       "      <th>Dairy &amp; Breakfast</th>\n",
       "      <td>30.0</td>\n",
       "      <td>20.0</td>\n",
       "      <td>0.0</td>\n",
       "      <td>20.0</td>\n",
       "      <td>20.0</td>\n",
       "      <td>20.0</td>\n",
       "      <td>20.0</td>\n",
       "      <td>20.0</td>\n",
       "    </tr>\n",
       "    <tr>\n",
       "      <th>Fruits &amp; Vegetables</th>\n",
       "      <td>27.0</td>\n",
       "      <td>25.0</td>\n",
       "      <td>0.0</td>\n",
       "      <td>25.0</td>\n",
       "      <td>25.0</td>\n",
       "      <td>25.0</td>\n",
       "      <td>25.0</td>\n",
       "      <td>25.0</td>\n",
       "    </tr>\n",
       "    <tr>\n",
       "      <th>Grocery &amp; Staples</th>\n",
       "      <td>24.0</td>\n",
       "      <td>15.0</td>\n",
       "      <td>0.0</td>\n",
       "      <td>15.0</td>\n",
       "      <td>15.0</td>\n",
       "      <td>15.0</td>\n",
       "      <td>15.0</td>\n",
       "      <td>15.0</td>\n",
       "    </tr>\n",
       "    <tr>\n",
       "      <th>Household Care</th>\n",
       "      <td>27.0</td>\n",
       "      <td>25.0</td>\n",
       "      <td>0.0</td>\n",
       "      <td>25.0</td>\n",
       "      <td>25.0</td>\n",
       "      <td>25.0</td>\n",
       "      <td>25.0</td>\n",
       "      <td>25.0</td>\n",
       "    </tr>\n",
       "    <tr>\n",
       "      <th>Instant &amp; Frozen Food</th>\n",
       "      <td>20.0</td>\n",
       "      <td>40.0</td>\n",
       "      <td>0.0</td>\n",
       "      <td>40.0</td>\n",
       "      <td>40.0</td>\n",
       "      <td>40.0</td>\n",
       "      <td>40.0</td>\n",
       "      <td>40.0</td>\n",
       "    </tr>\n",
       "    <tr>\n",
       "      <th>Personal Care</th>\n",
       "      <td>25.0</td>\n",
       "      <td>35.0</td>\n",
       "      <td>0.0</td>\n",
       "      <td>35.0</td>\n",
       "      <td>35.0</td>\n",
       "      <td>35.0</td>\n",
       "      <td>35.0</td>\n",
       "      <td>35.0</td>\n",
       "    </tr>\n",
       "    <tr>\n",
       "      <th>Pet Care</th>\n",
       "      <td>25.0</td>\n",
       "      <td>35.0</td>\n",
       "      <td>0.0</td>\n",
       "      <td>35.0</td>\n",
       "      <td>35.0</td>\n",
       "      <td>35.0</td>\n",
       "      <td>35.0</td>\n",
       "      <td>35.0</td>\n",
       "    </tr>\n",
       "    <tr>\n",
       "      <th>Pharmacy</th>\n",
       "      <td>25.0</td>\n",
       "      <td>20.0</td>\n",
       "      <td>0.0</td>\n",
       "      <td>20.0</td>\n",
       "      <td>20.0</td>\n",
       "      <td>20.0</td>\n",
       "      <td>20.0</td>\n",
       "      <td>20.0</td>\n",
       "    </tr>\n",
       "    <tr>\n",
       "      <th>Snacks &amp; Munchies</th>\n",
       "      <td>27.0</td>\n",
       "      <td>35.0</td>\n",
       "      <td>0.0</td>\n",
       "      <td>35.0</td>\n",
       "      <td>35.0</td>\n",
       "      <td>35.0</td>\n",
       "      <td>35.0</td>\n",
       "      <td>35.0</td>\n",
       "    </tr>\n",
       "  </tbody>\n",
       "</table>\n",
       "</div>"
      ],
      "text/plain": [
       "                       count  mean  std   min   25%   50%   75%   max\n",
       "category                                                             \n",
       "Baby Care               16.0  30.0  0.0  30.0  30.0  30.0  30.0  30.0\n",
       "Cold Drinks & Juices    22.0  30.0  0.0  30.0  30.0  30.0  30.0  30.0\n",
       "Dairy & Breakfast       30.0  20.0  0.0  20.0  20.0  20.0  20.0  20.0\n",
       "Fruits & Vegetables     27.0  25.0  0.0  25.0  25.0  25.0  25.0  25.0\n",
       "Grocery & Staples       24.0  15.0  0.0  15.0  15.0  15.0  15.0  15.0\n",
       "Household Care          27.0  25.0  0.0  25.0  25.0  25.0  25.0  25.0\n",
       "Instant & Frozen Food   20.0  40.0  0.0  40.0  40.0  40.0  40.0  40.0\n",
       "Personal Care           25.0  35.0  0.0  35.0  35.0  35.0  35.0  35.0\n",
       "Pet Care                25.0  35.0  0.0  35.0  35.0  35.0  35.0  35.0\n",
       "Pharmacy                25.0  20.0  0.0  20.0  20.0  20.0  20.0  20.0\n",
       "Snacks & Munchies       27.0  35.0  0.0  35.0  35.0  35.0  35.0  35.0"
      ]
     },
     "execution_count": 12,
     "metadata": {},
     "output_type": "execute_result"
    }
   ],
   "source": [
    "# calcultaing margin percentage variation across categories\n",
    "product_df.groupby('category')['margin_percentage'].describe()"
   ]
  },
  {
   "cell_type": "code",
   "execution_count": 102,
   "metadata": {},
   "outputs": [
    {
     "data": {
      "text/plain": [
       "Text(0, 0.5, 'Margin Percentage')"
      ]
     },
     "execution_count": 102,
     "metadata": {},
     "output_type": "execute_result"
    },
    {
     "data": {
      "image/png": "[encoded data removed]",
      "text/plain": [
       "<Figure size 1200x600 with 1 Axes>"
      ]
     },
     "metadata": {},
     "output_type": "display_data"
    }
   ],
   "source": [
    "# margin percentage distribution across categories visual\n",
    "plt.figure(figsize=(12,6))\n",
    "sns.histplot(data=product_df, x='category', y='margin_percentage')\n",
    "plt.xticks(rotation=90)\n",
    "plt.title(\"Margin Percentage by Category (USD)\")\n",
    "plt.xlabel('Category')\n",
    "plt.ylabel('Margin Percentage')"
   ]
  },
  {
   "cell_type": "code",
   "execution_count": 17,
   "metadata": {},
   "outputs": [
    {
     "data": {
      "text/plain": [
       "category\n",
       "Baby Care                6.193830\n",
       "Cold Drinks & Juices     6.006180\n",
       "Dairy & Breakfast        6.829156\n",
       "Fruits & Vegetables      6.558422\n",
       "Grocery & Staples        4.768290\n",
       "Household Care           4.838333\n",
       "Instant & Frozen Food    5.044140\n",
       "Personal Care            5.299147\n",
       "Pet Care                 6.563208\n",
       "Pharmacy                 7.188322\n",
       "Snacks & Munchies        5.005280\n",
       "Name: price_usd, dtype: float64"
      ]
     },
     "execution_count": 17,
     "metadata": {},
     "output_type": "execute_result"
    }
   ],
   "source": [
    "# average price of products in each category (USD)\n",
    "product_df.groupby('category')['price_usd'].mean()"
   ]
  },
  {
   "cell_type": "code",
   "execution_count": 101,
   "metadata": {},
   "outputs": [
    {
     "data": {
      "text/plain": [
       "Text(0, 0.5, 'Price ($)')"
      ]
     },
     "execution_count": 101,
     "metadata": {},
     "output_type": "execute_result"
    },
    {
     "data": {
      "image/png": "[encoded data removed]",
      "text/plain": [
       "<Figure size 1200x600 with 1 Axes>"
      ]
     },
     "metadata": {},
     "output_type": "display_data"
    }
   ],
   "source": [
    "# price distribution across categories visual\n",
    "plt.figure(figsize=(12,6))\n",
    "sns.boxplot(data=product_df, x='category', y='price_usd')\n",
    "plt.xticks(rotation=90)\n",
    "plt.title(\"Price Distribution by Category (USD)\")\n",
    "plt.xlabel('Category')\n",
    "plt.ylabel('Price ($)')"
   ]
  },
  {
   "cell_type": "code",
   "execution_count": 22,
   "metadata": {},
   "outputs": [
    {
     "name": "stdout",
     "output_type": "stream",
     "text": [
      "The product with the highest markup is: product_id                          305754\n",
      "product_name             Frozen Vegetables\n",
      "category             Instant & Frozen Food\n",
      "brand                         Mammen-Hegde\n",
      "price                               979.99\n",
      "mrp                                1633.32\n",
      "margin_percentage                     40.0\n",
      "shelf_life_days                        180\n",
      "min_stock_level                         22\n",
      "max_stock_level                         81\n",
      "price_usd                         11.75988\n",
      "markup                              653.33\n",
      "Name: 110, dtype: object\n",
      "The product with the lowest markup is: product_id                        654297\n",
      "product_name                    Potatoes\n",
      "category             Fruits & Vegetables\n",
      "brand                      Chandran-Dass\n",
      "price                              13.25\n",
      "mrp                                17.67\n",
      "margin_percentage                   25.0\n",
      "shelf_life_days                        3\n",
      "min_stock_level                       20\n",
      "max_stock_level                       86\n",
      "price_usd                          0.159\n",
      "markup                              4.42\n",
      "Name: 21, dtype: object\n"
     ]
    }
   ],
   "source": [
    "# products with highest and lowest markup, mrp is in Rupees here, so I will use the non-converted prices to calculate markup\n",
    "product_df['markup'] = product_df['mrp'] - product_df['price']\n",
    "highest_markup = product_df.loc[product_df['markup'].idxmax()]\n",
    "lowest_markup = product_df.loc[product_df['markup'].idxmin()]\n",
    "print(f'The product with the highest markup is: {highest_markup}')\n",
    "print(f'The product with the lowest markup is: {lowest_markup}')"
   ]
  },
  {
   "cell_type": "markdown",
   "metadata": {},
   "source": [
    "#### Stock & Inventory"
   ]
  },
  {
   "cell_type": "code",
   "execution_count": 23,
   "metadata": {},
   "outputs": [
    {
     "name": "stdout",
     "output_type": "stream",
     "text": [
      "The category with the most amount of products is Dairy & Breakfast.\n"
     ]
    }
   ],
   "source": [
    "# category with the most products\n",
    "max_prod = product_df['category'].value_counts().idxmax()\n",
    "print (f'The category with the most amount of products is {max_prod}.')"
   ]
  },
  {
   "cell_type": "code",
   "execution_count": 24,
   "metadata": {},
   "outputs": [
    {
     "name": "stdout",
     "output_type": "stream",
     "text": [
      "The category with the least amount of products is Baby Care.\n"
     ]
    }
   ],
   "source": [
    "# category with the least products\n",
    "min_prod = product_df['category'].value_counts().idxmin()\n",
    "print (f'The category with the least amount of products is {min_prod}.')"
   ]
  },
  {
   "cell_type": "markdown",
   "metadata": {},
   "source": [
    "### File 2: Blinkit Deliveries"
   ]
  },
  {
   "cell_type": "code",
   "execution_count": 25,
   "metadata": {},
   "outputs": [
    {
     "data": {
      "text/html": [
       "<div>\n",
       "<style scoped>\n",
       "    .dataframe tbody tr th:only-of-type {\n",
       "        vertical-align: middle;\n",
       "    }\n",
       "\n",
       "    .dataframe tbody tr th {\n",
       "        vertical-align: top;\n",
       "    }\n",
       "\n",
       "    .dataframe thead th {\n",
       "        text-align: right;\n",
       "    }\n",
       "</style>\n",
       "<table border=\"1\" class=\"dataframe\">\n",
       "  <thead>\n",
       "    <tr style=\"text-align: right;\">\n",
       "      <th></th>\n",
       "      <th>order_id</th>\n",
       "      <th>customer_id</th>\n",
       "      <th>order_date</th>\n",
       "      <th>promised_delivery_time</th>\n",
       "      <th>actual_delivery_time</th>\n",
       "      <th>delivery_status</th>\n",
       "      <th>order_total</th>\n",
       "      <th>payment_method</th>\n",
       "      <th>delivery_partner_id</th>\n",
       "      <th>store_id</th>\n",
       "    </tr>\n",
       "  </thead>\n",
       "  <tbody>\n",
       "    <tr>\n",
       "      <th>0</th>\n",
       "      <td>1961864118</td>\n",
       "      <td>30065862</td>\n",
       "      <td>2024-07-17 08:34:01</td>\n",
       "      <td>2024-07-17 08:52:01</td>\n",
       "      <td>2024-07-17 08:47:01</td>\n",
       "      <td>On Time</td>\n",
       "      <td>3197.07</td>\n",
       "      <td>Cash</td>\n",
       "      <td>63230</td>\n",
       "      <td>4771</td>\n",
       "    </tr>\n",
       "    <tr>\n",
       "      <th>1</th>\n",
       "      <td>1549769649</td>\n",
       "      <td>9573071</td>\n",
       "      <td>2024-05-28 13:14:29</td>\n",
       "      <td>2024-05-28 13:25:29</td>\n",
       "      <td>2024-05-28 13:27:29</td>\n",
       "      <td>On Time</td>\n",
       "      <td>976.55</td>\n",
       "      <td>Cash</td>\n",
       "      <td>14983</td>\n",
       "      <td>7534</td>\n",
       "    </tr>\n",
       "    <tr>\n",
       "      <th>2</th>\n",
       "      <td>9185164487</td>\n",
       "      <td>45477575</td>\n",
       "      <td>2024-09-23 13:07:12</td>\n",
       "      <td>2024-09-23 13:25:12</td>\n",
       "      <td>2024-09-23 13:29:12</td>\n",
       "      <td>On Time</td>\n",
       "      <td>839.05</td>\n",
       "      <td>UPI</td>\n",
       "      <td>39859</td>\n",
       "      <td>9886</td>\n",
       "    </tr>\n",
       "    <tr>\n",
       "      <th>3</th>\n",
       "      <td>9644738826</td>\n",
       "      <td>88067569</td>\n",
       "      <td>2023-11-24 16:16:56</td>\n",
       "      <td>2023-11-24 16:34:56</td>\n",
       "      <td>2023-11-24 16:33:56</td>\n",
       "      <td>On Time</td>\n",
       "      <td>440.23</td>\n",
       "      <td>Card</td>\n",
       "      <td>61497</td>\n",
       "      <td>7917</td>\n",
       "    </tr>\n",
       "    <tr>\n",
       "      <th>4</th>\n",
       "      <td>5427684290</td>\n",
       "      <td>83298567</td>\n",
       "      <td>2023-11-20 05:00:39</td>\n",
       "      <td>2023-11-20 05:17:39</td>\n",
       "      <td>2023-11-20 05:18:39</td>\n",
       "      <td>On Time</td>\n",
       "      <td>2526.68</td>\n",
       "      <td>Cash</td>\n",
       "      <td>84315</td>\n",
       "      <td>2741</td>\n",
       "    </tr>\n",
       "    <tr>\n",
       "      <th>...</th>\n",
       "      <td>...</td>\n",
       "      <td>...</td>\n",
       "      <td>...</td>\n",
       "      <td>...</td>\n",
       "      <td>...</td>\n",
       "      <td>...</td>\n",
       "      <td>...</td>\n",
       "      <td>...</td>\n",
       "      <td>...</td>\n",
       "      <td>...</td>\n",
       "    </tr>\n",
       "    <tr>\n",
       "      <th>4995</th>\n",
       "      <td>1669690997</td>\n",
       "      <td>62600289</td>\n",
       "      <td>2023-12-25 15:46:20</td>\n",
       "      <td>2023-12-25 16:05:20</td>\n",
       "      <td>2023-12-25 16:10:20</td>\n",
       "      <td>On Time</td>\n",
       "      <td>1132.33</td>\n",
       "      <td>Cash</td>\n",
       "      <td>90914</td>\n",
       "      <td>1587</td>\n",
       "    </tr>\n",
       "    <tr>\n",
       "      <th>4996</th>\n",
       "      <td>8340761903</td>\n",
       "      <td>53640286</td>\n",
       "      <td>2023-11-27 09:18:43</td>\n",
       "      <td>2023-11-27 09:38:43</td>\n",
       "      <td>2023-11-27 09:36:43</td>\n",
       "      <td>On Time</td>\n",
       "      <td>2372.01</td>\n",
       "      <td>Cash</td>\n",
       "      <td>27952</td>\n",
       "      <td>3458</td>\n",
       "    </tr>\n",
       "    <tr>\n",
       "      <th>4997</th>\n",
       "      <td>5936301790</td>\n",
       "      <td>87059497</td>\n",
       "      <td>2024-06-21 19:09:09</td>\n",
       "      <td>2024-06-21 19:23:09</td>\n",
       "      <td>2024-06-21 19:26:09</td>\n",
       "      <td>On Time</td>\n",
       "      <td>3158.35</td>\n",
       "      <td>Cash</td>\n",
       "      <td>9590</td>\n",
       "      <td>7424</td>\n",
       "    </tr>\n",
       "    <tr>\n",
       "      <th>4998</th>\n",
       "      <td>5710579377</td>\n",
       "      <td>67310893</td>\n",
       "      <td>2024-06-06 14:58:13</td>\n",
       "      <td>2024-06-06 15:12:13</td>\n",
       "      <td>2024-06-06 15:10:13</td>\n",
       "      <td>On Time</td>\n",
       "      <td>1918.92</td>\n",
       "      <td>UPI</td>\n",
       "      <td>29940</td>\n",
       "      <td>6128</td>\n",
       "    </tr>\n",
       "    <tr>\n",
       "      <th>4999</th>\n",
       "      <td>2494813730</td>\n",
       "      <td>28663279</td>\n",
       "      <td>2023-08-23 12:04:18</td>\n",
       "      <td>2023-08-23 12:20:18</td>\n",
       "      <td>2023-08-23 12:21:18</td>\n",
       "      <td>On Time</td>\n",
       "      <td>1879.46</td>\n",
       "      <td>Card</td>\n",
       "      <td>32851</td>\n",
       "      <td>5588</td>\n",
       "    </tr>\n",
       "  </tbody>\n",
       "</table>\n",
       "<p>5000 rows × 10 columns</p>\n",
       "</div>"
      ],
      "text/plain": [
       "        order_id  customer_id           order_date promised_delivery_time  \\\n",
       "0     1961864118     30065862  2024-07-17 08:34:01    2024-07-17 08:52:01   \n",
       "1     1549769649      9573071  2024-05-28 13:14:29    2024-05-28 13:25:29   \n",
       "2     9185164487     45477575  2024-09-23 13:07:12    2024-09-23 13:25:12   \n",
       "3     9644738826     88067569  2023-11-24 16:16:56    2023-11-24 16:34:56   \n",
       "4     5427684290     83298567  2023-11-20 05:00:39    2023-11-20 05:17:39   \n",
       "...          ...          ...                  ...                    ...   \n",
       "4995  1669690997     62600289  2023-12-25 15:46:20    2023-12-25 16:05:20   \n",
       "4996  8340761903     53640286  2023-11-27 09:18:43    2023-11-27 09:38:43   \n",
       "4997  5936301790     87059497  2024-06-21 19:09:09    2024-06-21 19:23:09   \n",
       "4998  5710579377     67310893  2024-06-06 14:58:13    2024-06-06 15:12:13   \n",
       "4999  2494813730     28663279  2023-08-23 12:04:18    2023-08-23 12:20:18   \n",
       "\n",
       "     actual_delivery_time delivery_status  order_total payment_method  \\\n",
       "0     2024-07-17 08:47:01         On Time      3197.07           Cash   \n",
       "1     2024-05-28 13:27:29         On Time       976.55           Cash   \n",
       "2     2024-09-23 13:29:12         On Time       839.05            UPI   \n",
       "3     2023-11-24 16:33:56         On Time       440.23           Card   \n",
       "4     2023-11-20 05:18:39         On Time      2526.68           Cash   \n",
       "...                   ...             ...          ...            ...   \n",
       "4995  2023-12-25 16:10:20         On Time      1132.33           Cash   \n",
       "4996  2023-11-27 09:36:43         On Time      2372.01           Cash   \n",
       "4997  2024-06-21 19:26:09         On Time      3158.35           Cash   \n",
       "4998  2024-06-06 15:10:13         On Time      1918.92            UPI   \n",
       "4999  2023-08-23 12:21:18         On Time      1879.46           Card   \n",
       "\n",
       "      delivery_partner_id  store_id  \n",
       "0                   63230      4771  \n",
       "1                   14983      7534  \n",
       "2                   39859      9886  \n",
       "3                   61497      7917  \n",
       "4                   84315      2741  \n",
       "...                   ...       ...  \n",
       "4995                90914      1587  \n",
       "4996                27952      3458  \n",
       "4997                 9590      7424  \n",
       "4998                29940      6128  \n",
       "4999                32851      5588  \n",
       "\n",
       "[5000 rows x 10 columns]"
      ]
     },
     "execution_count": 25,
     "metadata": {},
     "output_type": "execute_result"
    }
   ],
   "source": [
    "# loading csv into a dataframe\n",
    "delivery_df = pd.read_csv('/Users/tovi/Desktop/Projects/Blinket-Sales/blinkit csvs/blinkit_orders.csv')\n",
    "delivery_df"
   ]
  },
  {
   "cell_type": "code",
   "execution_count": 26,
   "metadata": {},
   "outputs": [
    {
     "data": {
      "text/plain": [
       "(5000, 10)"
      ]
     },
     "execution_count": 26,
     "metadata": {},
     "output_type": "execute_result"
    }
   ],
   "source": [
    "#checking shape\n",
    "delivery_df.shape"
   ]
  },
  {
   "cell_type": "code",
   "execution_count": 27,
   "metadata": {},
   "outputs": [
    {
     "name": "stdout",
     "output_type": "stream",
     "text": [
      "<class 'pandas.core.frame.DataFrame'>\n",
      "RangeIndex: 5000 entries, 0 to 4999\n",
      "Data columns (total 10 columns):\n",
      " #   Column                  Non-Null Count  Dtype  \n",
      "---  ------                  --------------  -----  \n",
      " 0   order_id                5000 non-null   int64  \n",
      " 1   customer_id             5000 non-null   int64  \n",
      " 2   order_date              5000 non-null   object \n",
      " 3   promised_delivery_time  5000 non-null   object \n",
      " 4   actual_delivery_time    5000 non-null   object \n",
      " 5   delivery_status         5000 non-null   object \n",
      " 6   order_total             5000 non-null   float64\n",
      " 7   payment_method          5000 non-null   object \n",
      " 8   delivery_partner_id     5000 non-null   int64  \n",
      " 9   store_id                5000 non-null   int64  \n",
      "dtypes: float64(1), int64(4), object(5)\n",
      "memory usage: 390.8+ KB\n"
     ]
    }
   ],
   "source": [
    "# general descriptive stats\n",
    "delivery_df.info()"
   ]
  },
  {
   "cell_type": "markdown",
   "metadata": {},
   "source": [
    "#### Data Cleaning"
   ]
  },
  {
   "cell_type": "code",
   "execution_count": 28,
   "metadata": {},
   "outputs": [
    {
     "data": {
      "text/plain": [
       "0"
      ]
     },
     "execution_count": 28,
     "metadata": {},
     "output_type": "execute_result"
    }
   ],
   "source": [
    "# checking for duplicates\n",
    "delivery_df.duplicated().sum()"
   ]
  },
  {
   "cell_type": "code",
   "execution_count": 29,
   "metadata": {},
   "outputs": [
    {
     "name": "stdout",
     "output_type": "stream",
     "text": [
      "order_id                  0\n",
      "customer_id               0\n",
      "order_date                0\n",
      "promised_delivery_time    0\n",
      "actual_delivery_time      0\n",
      "delivery_status           0\n",
      "order_total               0\n",
      "payment_method            0\n",
      "delivery_partner_id       0\n",
      "store_id                  0\n",
      "dtype: int64\n"
     ]
    }
   ],
   "source": [
    "# checking for null values\n",
    "null_check = delivery_df.isnull().sum()\n",
    "print(null_check)"
   ]
  },
  {
   "cell_type": "code",
   "execution_count": 30,
   "metadata": {},
   "outputs": [
    {
     "data": {
      "text/html": [
       "<div>\n",
       "<style scoped>\n",
       "    .dataframe tbody tr th:only-of-type {\n",
       "        vertical-align: middle;\n",
       "    }\n",
       "\n",
       "    .dataframe tbody tr th {\n",
       "        vertical-align: top;\n",
       "    }\n",
       "\n",
       "    .dataframe thead th {\n",
       "        text-align: right;\n",
       "    }\n",
       "</style>\n",
       "<table border=\"1\" class=\"dataframe\">\n",
       "  <thead>\n",
       "    <tr style=\"text-align: right;\">\n",
       "      <th></th>\n",
       "      <th>order_id</th>\n",
       "      <th>customer_id</th>\n",
       "      <th>order_date</th>\n",
       "      <th>promised_delivery_time</th>\n",
       "      <th>actual_delivery_time</th>\n",
       "      <th>delivery_status</th>\n",
       "      <th>order_total</th>\n",
       "      <th>payment_method</th>\n",
       "      <th>delivery_partner_id</th>\n",
       "      <th>store_id</th>\n",
       "      <th>delivery_delay</th>\n",
       "    </tr>\n",
       "  </thead>\n",
       "  <tbody>\n",
       "    <tr>\n",
       "      <th>0</th>\n",
       "      <td>1961864118</td>\n",
       "      <td>30065862</td>\n",
       "      <td>2024-07-17 08:34:01</td>\n",
       "      <td>2024-07-17 08:52:01</td>\n",
       "      <td>2024-07-17 08:47:01</td>\n",
       "      <td>On Time</td>\n",
       "      <td>3197.07</td>\n",
       "      <td>Cash</td>\n",
       "      <td>63230</td>\n",
       "      <td>4771</td>\n",
       "      <td>-5.0</td>\n",
       "    </tr>\n",
       "    <tr>\n",
       "      <th>1</th>\n",
       "      <td>1549769649</td>\n",
       "      <td>9573071</td>\n",
       "      <td>2024-05-28 13:14:29</td>\n",
       "      <td>2024-05-28 13:25:29</td>\n",
       "      <td>2024-05-28 13:27:29</td>\n",
       "      <td>On Time</td>\n",
       "      <td>976.55</td>\n",
       "      <td>Cash</td>\n",
       "      <td>14983</td>\n",
       "      <td>7534</td>\n",
       "      <td>2.0</td>\n",
       "    </tr>\n",
       "    <tr>\n",
       "      <th>2</th>\n",
       "      <td>9185164487</td>\n",
       "      <td>45477575</td>\n",
       "      <td>2024-09-23 13:07:12</td>\n",
       "      <td>2024-09-23 13:25:12</td>\n",
       "      <td>2024-09-23 13:29:12</td>\n",
       "      <td>On Time</td>\n",
       "      <td>839.05</td>\n",
       "      <td>UPI</td>\n",
       "      <td>39859</td>\n",
       "      <td>9886</td>\n",
       "      <td>4.0</td>\n",
       "    </tr>\n",
       "    <tr>\n",
       "      <th>3</th>\n",
       "      <td>9644738826</td>\n",
       "      <td>88067569</td>\n",
       "      <td>2023-11-24 16:16:56</td>\n",
       "      <td>2023-11-24 16:34:56</td>\n",
       "      <td>2023-11-24 16:33:56</td>\n",
       "      <td>On Time</td>\n",
       "      <td>440.23</td>\n",
       "      <td>Card</td>\n",
       "      <td>61497</td>\n",
       "      <td>7917</td>\n",
       "      <td>-1.0</td>\n",
       "    </tr>\n",
       "    <tr>\n",
       "      <th>4</th>\n",
       "      <td>5427684290</td>\n",
       "      <td>83298567</td>\n",
       "      <td>2023-11-20 05:00:39</td>\n",
       "      <td>2023-11-20 05:17:39</td>\n",
       "      <td>2023-11-20 05:18:39</td>\n",
       "      <td>On Time</td>\n",
       "      <td>2526.68</td>\n",
       "      <td>Cash</td>\n",
       "      <td>84315</td>\n",
       "      <td>2741</td>\n",
       "      <td>1.0</td>\n",
       "    </tr>\n",
       "  </tbody>\n",
       "</table>\n",
       "</div>"
      ],
      "text/plain": [
       "     order_id  customer_id          order_date promised_delivery_time  \\\n",
       "0  1961864118     30065862 2024-07-17 08:34:01    2024-07-17 08:52:01   \n",
       "1  1549769649      9573071 2024-05-28 13:14:29    2024-05-28 13:25:29   \n",
       "2  9185164487     45477575 2024-09-23 13:07:12    2024-09-23 13:25:12   \n",
       "3  9644738826     88067569 2023-11-24 16:16:56    2023-11-24 16:34:56   \n",
       "4  5427684290     83298567 2023-11-20 05:00:39    2023-11-20 05:17:39   \n",
       "\n",
       "  actual_delivery_time delivery_status  order_total payment_method  \\\n",
       "0  2024-07-17 08:47:01         On Time      3197.07           Cash   \n",
       "1  2024-05-28 13:27:29         On Time       976.55           Cash   \n",
       "2  2024-09-23 13:29:12         On Time       839.05            UPI   \n",
       "3  2023-11-24 16:33:56         On Time       440.23           Card   \n",
       "4  2023-11-20 05:18:39         On Time      2526.68           Cash   \n",
       "\n",
       "   delivery_partner_id  store_id  delivery_delay  \n",
       "0                63230      4771            -5.0  \n",
       "1                14983      7534             2.0  \n",
       "2                39859      9886             4.0  \n",
       "3                61497      7917            -1.0  \n",
       "4                84315      2741             1.0  "
      ]
     },
     "execution_count": 30,
     "metadata": {},
     "output_type": "execute_result"
    }
   ],
   "source": [
    "# converting delivery times to datetime format\n",
    "delivery_df['order_date'] = pd.to_datetime(delivery_df['order_date'])\n",
    "delivery_df['promised_delivery_time'] = pd.to_datetime(delivery_df['promised_delivery_time'])\n",
    "delivery_df['actual_delivery_time'] = pd.to_datetime(delivery_df['actual_delivery_time'])\n",
    "\n",
    "# creating column of delivery delay times and calculating delays in minutes\n",
    "delivery_df['delivery_delay'] = (delivery_df['actual_delivery_time'] - delivery_df['promised_delivery_time']).dt.total_seconds() / 60\n",
    "\n",
    "delivery_df.head()"
   ]
  },
  {
   "cell_type": "code",
   "execution_count": 31,
   "metadata": {},
   "outputs": [
    {
     "data": {
      "text/html": [
       "<div>\n",
       "<style scoped>\n",
       "    .dataframe tbody tr th:only-of-type {\n",
       "        vertical-align: middle;\n",
       "    }\n",
       "\n",
       "    .dataframe tbody tr th {\n",
       "        vertical-align: top;\n",
       "    }\n",
       "\n",
       "    .dataframe thead th {\n",
       "        text-align: right;\n",
       "    }\n",
       "</style>\n",
       "<table border=\"1\" class=\"dataframe\">\n",
       "  <thead>\n",
       "    <tr style=\"text-align: right;\">\n",
       "      <th></th>\n",
       "      <th>order_id</th>\n",
       "      <th>customer_id</th>\n",
       "      <th>order_date</th>\n",
       "      <th>promised_delivery_time</th>\n",
       "      <th>actual_delivery_time</th>\n",
       "      <th>delivery_status</th>\n",
       "      <th>order_total</th>\n",
       "      <th>payment_method</th>\n",
       "      <th>delivery_partner_id</th>\n",
       "      <th>store_id</th>\n",
       "      <th>delivery_delay</th>\n",
       "      <th>order_total_usd</th>\n",
       "    </tr>\n",
       "  </thead>\n",
       "  <tbody>\n",
       "    <tr>\n",
       "      <th>0</th>\n",
       "      <td>1961864118</td>\n",
       "      <td>30065862</td>\n",
       "      <td>2024-07-17 08:34:01</td>\n",
       "      <td>2024-07-17 08:52:01</td>\n",
       "      <td>2024-07-17 08:47:01</td>\n",
       "      <td>On Time</td>\n",
       "      <td>3197.07</td>\n",
       "      <td>Cash</td>\n",
       "      <td>63230</td>\n",
       "      <td>4771</td>\n",
       "      <td>-5.0</td>\n",
       "      <td>38.36484</td>\n",
       "    </tr>\n",
       "    <tr>\n",
       "      <th>1</th>\n",
       "      <td>1549769649</td>\n",
       "      <td>9573071</td>\n",
       "      <td>2024-05-28 13:14:29</td>\n",
       "      <td>2024-05-28 13:25:29</td>\n",
       "      <td>2024-05-28 13:27:29</td>\n",
       "      <td>On Time</td>\n",
       "      <td>976.55</td>\n",
       "      <td>Cash</td>\n",
       "      <td>14983</td>\n",
       "      <td>7534</td>\n",
       "      <td>2.0</td>\n",
       "      <td>11.71860</td>\n",
       "    </tr>\n",
       "    <tr>\n",
       "      <th>2</th>\n",
       "      <td>9185164487</td>\n",
       "      <td>45477575</td>\n",
       "      <td>2024-09-23 13:07:12</td>\n",
       "      <td>2024-09-23 13:25:12</td>\n",
       "      <td>2024-09-23 13:29:12</td>\n",
       "      <td>On Time</td>\n",
       "      <td>839.05</td>\n",
       "      <td>UPI</td>\n",
       "      <td>39859</td>\n",
       "      <td>9886</td>\n",
       "      <td>4.0</td>\n",
       "      <td>10.06860</td>\n",
       "    </tr>\n",
       "    <tr>\n",
       "      <th>3</th>\n",
       "      <td>9644738826</td>\n",
       "      <td>88067569</td>\n",
       "      <td>2023-11-24 16:16:56</td>\n",
       "      <td>2023-11-24 16:34:56</td>\n",
       "      <td>2023-11-24 16:33:56</td>\n",
       "      <td>On Time</td>\n",
       "      <td>440.23</td>\n",
       "      <td>Card</td>\n",
       "      <td>61497</td>\n",
       "      <td>7917</td>\n",
       "      <td>-1.0</td>\n",
       "      <td>5.28276</td>\n",
       "    </tr>\n",
       "    <tr>\n",
       "      <th>4</th>\n",
       "      <td>5427684290</td>\n",
       "      <td>83298567</td>\n",
       "      <td>2023-11-20 05:00:39</td>\n",
       "      <td>2023-11-20 05:17:39</td>\n",
       "      <td>2023-11-20 05:18:39</td>\n",
       "      <td>On Time</td>\n",
       "      <td>2526.68</td>\n",
       "      <td>Cash</td>\n",
       "      <td>84315</td>\n",
       "      <td>2741</td>\n",
       "      <td>1.0</td>\n",
       "      <td>30.32016</td>\n",
       "    </tr>\n",
       "  </tbody>\n",
       "</table>\n",
       "</div>"
      ],
      "text/plain": [
       "     order_id  customer_id          order_date promised_delivery_time  \\\n",
       "0  1961864118     30065862 2024-07-17 08:34:01    2024-07-17 08:52:01   \n",
       "1  1549769649      9573071 2024-05-28 13:14:29    2024-05-28 13:25:29   \n",
       "2  9185164487     45477575 2024-09-23 13:07:12    2024-09-23 13:25:12   \n",
       "3  9644738826     88067569 2023-11-24 16:16:56    2023-11-24 16:34:56   \n",
       "4  5427684290     83298567 2023-11-20 05:00:39    2023-11-20 05:17:39   \n",
       "\n",
       "  actual_delivery_time delivery_status  order_total payment_method  \\\n",
       "0  2024-07-17 08:47:01         On Time      3197.07           Cash   \n",
       "1  2024-05-28 13:27:29         On Time       976.55           Cash   \n",
       "2  2024-09-23 13:29:12         On Time       839.05            UPI   \n",
       "3  2023-11-24 16:33:56         On Time       440.23           Card   \n",
       "4  2023-11-20 05:18:39         On Time      2526.68           Cash   \n",
       "\n",
       "   delivery_partner_id  store_id  delivery_delay  order_total_usd  \n",
       "0                63230      4771            -5.0         38.36484  \n",
       "1                14983      7534             2.0         11.71860  \n",
       "2                39859      9886             4.0         10.06860  \n",
       "3                61497      7917            -1.0          5.28276  \n",
       "4                84315      2741             1.0         30.32016  "
      ]
     },
     "execution_count": 31,
     "metadata": {},
     "output_type": "execute_result"
    }
   ],
   "source": [
    "# creating new column that converts order_total from Rupees to USD\n",
    "delivery_df['order_total_usd'] = delivery_df['order_total'] * exchange_rate\n",
    "delivery_df.head()"
   ]
  },
  {
   "cell_type": "markdown",
   "metadata": {},
   "source": [
    "#### Delivery Times & Delays"
   ]
  },
  {
   "cell_type": "code",
   "execution_count": 33,
   "metadata": {},
   "outputs": [
    {
     "name": "stdout",
     "output_type": "stream",
     "text": [
      "Late deliveries: 61.96%\n"
     ]
    }
   ],
   "source": [
    "# calculating how often deliveries are late\n",
    "late_deliveries = (delivery_df['delivery_delay'] > 0).mean() * 100\n",
    "print(f\"Late deliveries: {late_deliveries:.2f}%\")"
   ]
  },
  {
   "cell_type": "code",
   "execution_count": 34,
   "metadata": {},
   "outputs": [
    {
     "name": "stdout",
     "output_type": "stream",
     "text": [
      "Average delivery time for all orders: 4.44 minutes\n"
     ]
    }
   ],
   "source": [
    "# calculating average delivery time for all orders\n",
    "average_delivery_time = delivery_df['delivery_delay'].mean()\n",
    "print(f\"Average delivery time for all orders: {average_delivery_time:.2f} minutes\")"
   ]
  },
  {
   "cell_type": "code",
   "execution_count": 35,
   "metadata": {},
   "outputs": [
    {
     "name": "stdout",
     "output_type": "stream",
     "text": [
      "The average delivery time for on-time orders is: 2.47 minutes\n"
     ]
    }
   ],
   "source": [
    "# calculating average delivery time for on-time orders\n",
    "on_time_deliveries = delivery_df[delivery_df['delivery_delay'] <= 0]\n",
    "avg_on_time = on_time_deliveries['delivery_delay'].mean()\n",
    "\n",
    "#convert negative value to positive value (numbers less than 0 represent early deliveries in the delivery_delay column)\n",
    "avg_on_time = avg_on_time * -1\n",
    "print(f\"The average delivery time for on-time orders is: {avg_on_time:.2f} minutes\")"
   ]
  },
  {
   "cell_type": "code",
   "execution_count": 100,
   "metadata": {},
   "outputs": [
    {
     "data": {
      "text/plain": [
       "<matplotlib.legend.Legend at 0x14c6d1e20>"
      ]
     },
     "execution_count": 100,
     "metadata": {},
     "output_type": "execute_result"
    },
    {
     "data": {
      "image/png": "[encoded data removed]",
      "text/plain": [
       "<Figure size 800x500 with 1 Axes>"
      ]
     },
     "metadata": {},
     "output_type": "display_data"
    }
   ],
   "source": [
    "# creating visual of delivery time distribution\n",
    "plt.figure(figsize=(8,5))\n",
    "sns.histplot(delivery_df['delivery_delay'], bins=30, color='lightskyblue')\n",
    "plt.axvline(0, color='red', linestyle='dashed', label='On-time Threshold')\n",
    "plt.xlabel(\"Delivery Delay (minutes)\")\n",
    "plt.ylabel(\"Number of Orders\")\n",
    "plt.title(\"Distribution of Delivery Delays\")\n",
    "plt.legend()"
   ]
  },
  {
   "cell_type": "code",
   "execution_count": 99,
   "metadata": {},
   "outputs": [
    {
     "name": "stdout",
     "output_type": "stream",
     "text": [
      "Correlation between order total and delivery delay: -0.00\n"
     ]
    },
    {
     "data": {
      "image/png": "[encoded data removed]",
      "text/plain": [
       "<Figure size 800x500 with 1 Axes>"
      ]
     },
     "metadata": {},
     "output_type": "display_data"
    }
   ],
   "source": [
    "# scatter plot with regression line to explore possible correlation between order total and delay times\n",
    "plt.figure(figsize=(8,5))\n",
    "sns.regplot(x=delivery_df['order_total_usd'], y=delivery_df['delivery_delay'], scatter_kws={'alpha':0.5, 'color':'orange'})\n",
    "plt.xlabel(\"Order Total ($)\")\n",
    "plt.ylabel(\"Delivery Delay (minutes)\")\n",
    "plt.title(\"Order Total vs. Delivery Delay\")\n",
    "\n",
    "# Correlation coefficient\n",
    "correlation = delivery_df[['order_total_usd', 'delivery_delay']].corr().iloc[0,1]\n",
    "print(f\"Correlation between order total and delivery delay: {correlation:.2f}\")"
   ]
  },
  {
   "cell_type": "code",
   "execution_count": 236,
   "metadata": {},
   "outputs": [
    {
     "name": "stdout",
     "output_type": "stream",
     "text": [
      "store_id\n",
      "1       1.0\n",
      "5172    1.0\n",
      "5116    1.0\n",
      "5119    1.0\n",
      "5121    1.0\n",
      "       ... \n",
      "5323    0.0\n",
      "5324    0.0\n",
      "5325    0.0\n",
      "5326    0.0\n",
      "9995    0.0\n",
      "Name: delivery_delay, Length: 5000, dtype: float64\n"
     ]
    }
   ],
   "source": [
    "# calculating rate of on-time deliveries for all stores\n",
    "store_punctuality = delivery_df.groupby('store_id')['delivery_delay'].apply(lambda x: (x <= 0).mean()).sort_values(ascending=False)\n",
    "print(store_punctuality)"
   ]
  },
  {
   "cell_type": "code",
   "execution_count": 43,
   "metadata": {},
   "outputs": [
    {
     "name": "stdout",
     "output_type": "stream",
     "text": [
      "store_id\n",
      "9995    1.0\n",
      "4826    1.0\n",
      "4635    1.0\n",
      "4638    1.0\n",
      "4639    1.0\n",
      "       ... \n",
      "4864    0.0\n",
      "4867    0.0\n",
      "4870    0.0\n",
      "4877    0.0\n",
      "4988    0.0\n",
      "Name: delivery_delay, Length: 5000, dtype: float64\n"
     ]
    }
   ],
   "source": [
    "# calculating rate of late deliveries for all stores\n",
    "store_punctuality = delivery_df.groupby('store_id')['delivery_delay'].apply(lambda x: (x > 0).mean()).sort_values(ascending=False)\n",
    "print(store_punctuality)"
   ]
  },
  {
   "cell_type": "code",
   "execution_count": 44,
   "metadata": {},
   "outputs": [
    {
     "name": "stdout",
     "output_type": "stream",
     "text": [
      "delivery_partner_id\n",
      "43       1\n",
      "65328    1\n",
      "66248    1\n",
      "66274    1\n",
      "66328    1\n",
      "        ..\n",
      "34338    1\n",
      "34344    1\n",
      "34392    1\n",
      "34427    1\n",
      "99968    1\n",
      "Length: 3098, dtype: int64\n"
     ]
    }
   ],
   "source": [
    "# counting late deliveries per partner and sorting to view partners with the most late deliveries\n",
    "late_per_partner = delivery_df[delivery_df['delivery_delay'] > 0].groupby('delivery_partner_id').size().sort_values(ascending=False)\n",
    "print(late_per_partner)"
   ]
  },
  {
   "cell_type": "code",
   "execution_count": 45,
   "metadata": {},
   "outputs": [
    {
     "data": {
      "text/plain": [
       "1"
      ]
     },
     "execution_count": 45,
     "metadata": {},
     "output_type": "execute_result"
    }
   ],
   "source": [
    "# variation in number of late deliveries by partners\n",
    "late_per_partner.nunique()"
   ]
  },
  {
   "cell_type": "code",
   "execution_count": 47,
   "metadata": {},
   "outputs": [
    {
     "name": "stdout",
     "output_type": "stream",
     "text": [
      "count    2172.000000\n",
      "mean       26.312350\n",
      "std        11.986413\n",
      "min         0.265680\n",
      "25%        17.921440\n",
      "50%        26.115380\n",
      "75%        33.591955\n",
      "max        73.937760\n",
      "Name: order_total_usd, dtype: float64\n"
     ]
    }
   ],
   "source": [
    "# calculating average order total for each customer\n",
    "customer_avg_order = delivery_df.groupby('customer_id')['order_total_usd'].mean()\n",
    "print(customer_avg_order.describe())"
   ]
  },
  {
   "cell_type": "code",
   "execution_count": 98,
   "metadata": {},
   "outputs": [
    {
     "data": {
      "text/plain": [
       "Text(0.5, 1.0, 'Distribution of Average Order Total by Customer')"
      ]
     },
     "execution_count": 98,
     "metadata": {},
     "output_type": "execute_result"
    },
    {
     "data": {
      "image/png": "[encoded data removed]",
      "text/plain": [
       "<Figure size 800x500 with 1 Axes>"
      ]
     },
     "metadata": {},
     "output_type": "display_data"
    }
   ],
   "source": [
    "# creating visual of average order total by customer\n",
    "plt.figure(figsize=(8,5))\n",
    "sns.histplot(customer_avg_order, bins=30, kde=True)\n",
    "plt.xlabel(\"Average Order Total ($)\")\n",
    "plt.ylabel(\"Number of Customers\")\n",
    "plt.title(\"Distribution of Average Order Total by Customer\")"
   ]
  },
  {
   "cell_type": "code",
   "execution_count": 53,
   "metadata": {},
   "outputs": [
    {
     "name": "stdout",
     "output_type": "stream",
     "text": [
      "Customers place an average of 2.30 orders\n"
     ]
    }
   ],
   "source": [
    "# calculating the average number or orders placed by each customer\n",
    "avg_customer_orders = delivery_df['customer_id'].value_counts().mean()\n",
    "print(f'Customers place an average of {avg_customer_orders:.2f} orders')"
   ]
  },
  {
   "cell_type": "code",
   "execution_count": 54,
   "metadata": {},
   "outputs": [
    {
     "name": "stdout",
     "output_type": "stream",
     "text": [
      "customer_id\n",
      "77869660    9\n",
      "8791577     8\n",
      "17805991    8\n",
      "13604883    7\n",
      "93018527    7\n",
      "26285589    7\n",
      "21701991    7\n",
      "75213636    7\n",
      "10562528    7\n",
      "25128143    7\n",
      "12832151    7\n",
      "20163931    6\n",
      "31940833    6\n",
      "47625855    6\n",
      "92404798    6\n",
      "80571942    6\n",
      "11478478    6\n",
      "4597433     6\n",
      "80517784    6\n",
      "67708491    6\n",
      "20148223    6\n",
      "65514005    6\n",
      "41640262    6\n",
      "93924203    6\n",
      "84824280    6\n",
      "44410149    6\n",
      "61618079    6\n",
      "30823988    6\n",
      "98444183    6\n",
      "93563435    6\n",
      "61753272    6\n",
      "46623192    6\n",
      "22210238    6\n",
      "90448312    6\n",
      "9274874     6\n",
      "57291761    6\n",
      "54923640    6\n",
      "20956158    6\n",
      "38420886    6\n",
      "28663279    5\n",
      "Name: count, dtype: int64\n"
     ]
    }
   ],
   "source": [
    "# calculating which customers have placed the most orders\n",
    "customer_orders = delivery_df['customer_id'].value_counts().head(40)\n",
    "print(customer_orders)"
   ]
  },
  {
   "cell_type": "code",
   "execution_count": 76,
   "metadata": {},
   "outputs": [
    {
     "name": "stdout",
     "output_type": "stream",
     "text": [
      "payment_method\n",
      "Card      1285\n",
      "Cash      1257\n",
      "Wallet    1244\n",
      "UPI       1214\n",
      "Name: count, dtype: int64\n"
     ]
    }
   ],
   "source": [
    "# calculating frequncy of each payment method used\n",
    "payment_counts = delivery_df['payment_method'].value_counts()\n",
    "\n",
    "print(payment_counts)"
   ]
  },
  {
   "cell_type": "code",
   "execution_count": 77,
   "metadata": {},
   "outputs": [
    {
     "name": "stderr",
     "output_type": "stream",
     "text": [
      "/var/folders/yz/1gr6swr5703b66sbw24282z40000gn/T/ipykernel_67817/528739817.py:3: FutureWarning: \n",
      "\n",
      "Passing `palette` without assigning `hue` is deprecated and will be removed in v0.14.0. Assign the `x` variable to `hue` and set `legend=False` for the same effect.\n",
      "\n",
      "  sns.barplot(x=payment_counts.index, y=payment_counts.values, palette='mako')\n"
     ]
    },
    {
     "data": {
      "text/plain": [
       "Text(0.5, 1.0, 'Order Frequency by Payment Method')"
      ]
     },
     "execution_count": 77,
     "metadata": {},
     "output_type": "execute_result"
    },
    {
     "data": {
      "image/png": "[encoded data removed]",
      "text/plain": [
       "<Figure size 800x600 with 1 Axes>"
      ]
     },
     "metadata": {},
     "output_type": "display_data"
    }
   ],
   "source": [
    "# visual for order frequency across payment methods\n",
    "plt.figure(figsize=(8,6))\n",
    "sns.barplot(x=payment_counts.index, y=payment_counts.values, palette='mako')\n",
    "plt.xlabel('Payment Type')\n",
    "plt.ylabel('Number of Orders')\n",
    "plt.title('Order Frequency by Payment Method')"
   ]
  },
  {
   "cell_type": "code",
   "execution_count": 97,
   "metadata": {},
   "outputs": [
    {
     "data": {
      "text/plain": [
       "Text(0.5, 1.0, 'Distribution of Order Totals Across Payment Methods')"
      ]
     },
     "execution_count": 97,
     "metadata": {},
     "output_type": "execute_result"
    },
    {
     "data": {
      "image/png": "[encoded data removed]",
      "text/plain": [
       "<Figure size 800x500 with 1 Axes>"
      ]
     },
     "metadata": {},
     "output_type": "display_data"
    }
   ],
   "source": [
    "# creating visual to compare order totals across payment methods\n",
    "plt.figure(figsize=(8,5))\n",
    "sns.boxplot(x='payment_method', y='order_total_usd', data=delivery_df)\n",
    "plt.xlabel(\"Payment Method\")\n",
    "plt.ylabel(\"Order Total ($)\")\n",
    "plt.title(\"Distribution of Order Totals Across Payment Methods\")"
   ]
  },
  {
   "cell_type": "code",
   "execution_count": 79,
   "metadata": {},
   "outputs": [
    {
     "name": "stdout",
     "output_type": "stream",
     "text": [
      "store_id\n",
      "4771    1\n",
      "2463    1\n",
      "2741    1\n",
      "3442    1\n",
      "1318    1\n",
      "       ..\n",
      "3458    1\n",
      "7424    1\n",
      "6128    1\n",
      "3078    1\n",
      "5588    1\n",
      "Name: count, Length: 5000, dtype: int64\n"
     ]
    }
   ],
   "source": [
    "# which stores have recieved the most amount of orders\n",
    "store_order_counts = delivery_df['store_id'].value_counts().sort_values(ascending=False)\n",
    "print(store_order_counts)"
   ]
  },
  {
   "cell_type": "code",
   "execution_count": 264,
   "metadata": {},
   "outputs": [
    {
     "name": "stdout",
     "output_type": "stream",
     "text": [
      "delivery_partner_id\n",
      "63230    1\n",
      "53453    1\n",
      "67163    1\n",
      "81625    1\n",
      "48217    1\n",
      "        ..\n",
      "13251    1\n",
      "24901    1\n",
      "75375    1\n",
      "63631    1\n",
      "32851    1\n",
      "Name: count, Length: 5000, dtype: int64\n"
     ]
    }
   ],
   "source": [
    "# which partners have delivered the most orders\n",
    "partner_order_counts = delivery_df['delivery_partner_id'].value_counts()\n",
    "print(partner_order_counts)"
   ]
  },
  {
   "cell_type": "code",
   "execution_count": 266,
   "metadata": {},
   "outputs": [
    {
     "data": {
      "text/plain": [
       "1"
      ]
     },
     "execution_count": 266,
     "metadata": {},
     "output_type": "execute_result"
    }
   ],
   "source": [
    "# no variation in number of deliveries per partner\n",
    "partner_order_counts.nunique()"
   ]
  },
  {
   "cell_type": "code",
   "execution_count": 268,
   "metadata": {},
   "outputs": [
    {
     "name": "stdout",
     "output_type": "stream",
     "text": [
      "count    5000.000000\n",
      "mean        4.443000\n",
      "std         8.063929\n",
      "min        -5.000000\n",
      "25%        -1.000000\n",
      "50%         2.000000\n",
      "75%         8.000000\n",
      "max        30.000000\n",
      "Name: delivery_delay, dtype: float64\n"
     ]
    }
   ],
   "source": [
    "# calculating average delivery delay by store\n",
    "store_avg_delay = delivery_df.groupby('store_id')['delivery_delay'].mean() #get average delay for all stores\n",
    "print(store_avg_delay.describe())"
   ]
  },
  {
   "cell_type": "code",
   "execution_count": 270,
   "metadata": {},
   "outputs": [
    {
     "data": {
      "text/plain": [
       "5000"
      ]
     },
     "execution_count": 270,
     "metadata": {},
     "output_type": "execute_result"
    }
   ],
   "source": [
    "# no variation in delivery delay per store as each store only has one order assigned to it\n",
    "delivery_df['store_id'].nunique()"
   ]
  },
  {
   "cell_type": "markdown",
   "metadata": {},
   "source": [
    "### File 3: Blinket Units"
   ]
  },
  {
   "cell_type": "code",
   "execution_count": 81,
   "metadata": {},
   "outputs": [
    {
     "data": {
      "text/html": [
       "<div>\n",
       "<style scoped>\n",
       "    .dataframe tbody tr th:only-of-type {\n",
       "        vertical-align: middle;\n",
       "    }\n",
       "\n",
       "    .dataframe tbody tr th {\n",
       "        vertical-align: top;\n",
       "    }\n",
       "\n",
       "    .dataframe thead th {\n",
       "        text-align: right;\n",
       "    }\n",
       "</style>\n",
       "<table border=\"1\" class=\"dataframe\">\n",
       "  <thead>\n",
       "    <tr style=\"text-align: right;\">\n",
       "      <th></th>\n",
       "      <th>order_id</th>\n",
       "      <th>product_id</th>\n",
       "      <th>quantity</th>\n",
       "      <th>unit_price</th>\n",
       "    </tr>\n",
       "  </thead>\n",
       "  <tbody>\n",
       "    <tr>\n",
       "      <th>0</th>\n",
       "      <td>1961864118</td>\n",
       "      <td>642612</td>\n",
       "      <td>3</td>\n",
       "      <td>517.03</td>\n",
       "    </tr>\n",
       "    <tr>\n",
       "      <th>1</th>\n",
       "      <td>1549769649</td>\n",
       "      <td>378676</td>\n",
       "      <td>1</td>\n",
       "      <td>881.42</td>\n",
       "    </tr>\n",
       "    <tr>\n",
       "      <th>2</th>\n",
       "      <td>9185164487</td>\n",
       "      <td>741341</td>\n",
       "      <td>2</td>\n",
       "      <td>923.84</td>\n",
       "    </tr>\n",
       "    <tr>\n",
       "      <th>3</th>\n",
       "      <td>9644738826</td>\n",
       "      <td>561860</td>\n",
       "      <td>1</td>\n",
       "      <td>874.78</td>\n",
       "    </tr>\n",
       "    <tr>\n",
       "      <th>4</th>\n",
       "      <td>5427684290</td>\n",
       "      <td>602241</td>\n",
       "      <td>2</td>\n",
       "      <td>976.55</td>\n",
       "    </tr>\n",
       "    <tr>\n",
       "      <th>...</th>\n",
       "      <td>...</td>\n",
       "      <td>...</td>\n",
       "      <td>...</td>\n",
       "      <td>...</td>\n",
       "    </tr>\n",
       "    <tr>\n",
       "      <th>4995</th>\n",
       "      <td>1669690997</td>\n",
       "      <td>925482</td>\n",
       "      <td>3</td>\n",
       "      <td>475.04</td>\n",
       "    </tr>\n",
       "    <tr>\n",
       "      <th>4996</th>\n",
       "      <td>8340761903</td>\n",
       "      <td>124290</td>\n",
       "      <td>2</td>\n",
       "      <td>39.65</td>\n",
       "    </tr>\n",
       "    <tr>\n",
       "      <th>4997</th>\n",
       "      <td>5936301790</td>\n",
       "      <td>491314</td>\n",
       "      <td>3</td>\n",
       "      <td>973.44</td>\n",
       "    </tr>\n",
       "    <tr>\n",
       "      <th>4998</th>\n",
       "      <td>5710579377</td>\n",
       "      <td>319388</td>\n",
       "      <td>2</td>\n",
       "      <td>657.80</td>\n",
       "    </tr>\n",
       "    <tr>\n",
       "      <th>4999</th>\n",
       "      <td>2494813730</td>\n",
       "      <td>136533</td>\n",
       "      <td>1</td>\n",
       "      <td>826.21</td>\n",
       "    </tr>\n",
       "  </tbody>\n",
       "</table>\n",
       "<p>5000 rows × 4 columns</p>\n",
       "</div>"
      ],
      "text/plain": [
       "        order_id  product_id  quantity  unit_price\n",
       "0     1961864118      642612         3      517.03\n",
       "1     1549769649      378676         1      881.42\n",
       "2     9185164487      741341         2      923.84\n",
       "3     9644738826      561860         1      874.78\n",
       "4     5427684290      602241         2      976.55\n",
       "...          ...         ...       ...         ...\n",
       "4995  1669690997      925482         3      475.04\n",
       "4996  8340761903      124290         2       39.65\n",
       "4997  5936301790      491314         3      973.44\n",
       "4998  5710579377      319388         2      657.80\n",
       "4999  2494813730      136533         1      826.21\n",
       "\n",
       "[5000 rows x 4 columns]"
      ]
     },
     "execution_count": 81,
     "metadata": {},
     "output_type": "execute_result"
    }
   ],
   "source": [
    "units_df = pd.read_csv('/Users/tovi/Desktop/Projects/Blinket-Sales/blinkit csvs/blinkit_order_items.csv')\n",
    "units_df"
   ]
  },
  {
   "cell_type": "code",
   "execution_count": 82,
   "metadata": {},
   "outputs": [
    {
     "data": {
      "text/html": [
       "<div>\n",
       "<style scoped>\n",
       "    .dataframe tbody tr th:only-of-type {\n",
       "        vertical-align: middle;\n",
       "    }\n",
       "\n",
       "    .dataframe tbody tr th {\n",
       "        vertical-align: top;\n",
       "    }\n",
       "\n",
       "    .dataframe thead th {\n",
       "        text-align: right;\n",
       "    }\n",
       "</style>\n",
       "<table border=\"1\" class=\"dataframe\">\n",
       "  <thead>\n",
       "    <tr style=\"text-align: right;\">\n",
       "      <th></th>\n",
       "      <th>order_id</th>\n",
       "      <th>product_id</th>\n",
       "      <th>quantity</th>\n",
       "      <th>unit_price</th>\n",
       "    </tr>\n",
       "  </thead>\n",
       "  <tbody>\n",
       "    <tr>\n",
       "      <th>count</th>\n",
       "      <td>5.000000e+03</td>\n",
       "      <td>5000.000000</td>\n",
       "      <td>5000.000000</td>\n",
       "      <td>5000.000000</td>\n",
       "    </tr>\n",
       "    <tr>\n",
       "      <th>mean</th>\n",
       "      <td>5.029129e+09</td>\n",
       "      <td>509974.939600</td>\n",
       "      <td>2.006800</td>\n",
       "      <td>493.157900</td>\n",
       "    </tr>\n",
       "    <tr>\n",
       "      <th>std</th>\n",
       "      <td>2.863533e+09</td>\n",
       "      <td>293678.307475</td>\n",
       "      <td>0.820542</td>\n",
       "      <td>298.075647</td>\n",
       "    </tr>\n",
       "    <tr>\n",
       "      <th>min</th>\n",
       "      <td>6.046500e+04</td>\n",
       "      <td>4452.000000</td>\n",
       "      <td>1.000000</td>\n",
       "      <td>12.320000</td>\n",
       "    </tr>\n",
       "    <tr>\n",
       "      <th>25%</th>\n",
       "      <td>2.531421e+09</td>\n",
       "      <td>257719.000000</td>\n",
       "      <td>1.000000</td>\n",
       "      <td>227.220000</td>\n",
       "    </tr>\n",
       "    <tr>\n",
       "      <th>50%</th>\n",
       "      <td>5.074378e+09</td>\n",
       "      <td>540618.000000</td>\n",
       "      <td>2.000000</td>\n",
       "      <td>448.160000</td>\n",
       "    </tr>\n",
       "    <tr>\n",
       "      <th>75%</th>\n",
       "      <td>7.488579e+09</td>\n",
       "      <td>747801.000000</td>\n",
       "      <td>3.000000</td>\n",
       "      <td>781.080000</td>\n",
       "    </tr>\n",
       "    <tr>\n",
       "      <th>max</th>\n",
       "      <td>9.998298e+09</td>\n",
       "      <td>993331.000000</td>\n",
       "      <td>3.000000</td>\n",
       "      <td>995.980000</td>\n",
       "    </tr>\n",
       "  </tbody>\n",
       "</table>\n",
       "</div>"
      ],
      "text/plain": [
       "           order_id     product_id     quantity   unit_price\n",
       "count  5.000000e+03    5000.000000  5000.000000  5000.000000\n",
       "mean   5.029129e+09  509974.939600     2.006800   493.157900\n",
       "std    2.863533e+09  293678.307475     0.820542   298.075647\n",
       "min    6.046500e+04    4452.000000     1.000000    12.320000\n",
       "25%    2.531421e+09  257719.000000     1.000000   227.220000\n",
       "50%    5.074378e+09  540618.000000     2.000000   448.160000\n",
       "75%    7.488579e+09  747801.000000     3.000000   781.080000\n",
       "max    9.998298e+09  993331.000000     3.000000   995.980000"
      ]
     },
     "execution_count": 82,
     "metadata": {},
     "output_type": "execute_result"
    }
   ],
   "source": [
    "units_df.describe()"
   ]
  },
  {
   "cell_type": "code",
   "execution_count": 83,
   "metadata": {},
   "outputs": [
    {
     "data": {
      "text/plain": [
       "(5000, 4)"
      ]
     },
     "execution_count": 83,
     "metadata": {},
     "output_type": "execute_result"
    }
   ],
   "source": [
    "units_df.shape"
   ]
  },
  {
   "cell_type": "code",
   "execution_count": 84,
   "metadata": {},
   "outputs": [
    {
     "name": "stdout",
     "output_type": "stream",
     "text": [
      "<class 'pandas.core.frame.DataFrame'>\n",
      "RangeIndex: 5000 entries, 0 to 4999\n",
      "Data columns (total 4 columns):\n",
      " #   Column      Non-Null Count  Dtype  \n",
      "---  ------      --------------  -----  \n",
      " 0   order_id    5000 non-null   int64  \n",
      " 1   product_id  5000 non-null   int64  \n",
      " 2   quantity    5000 non-null   int64  \n",
      " 3   unit_price  5000 non-null   float64\n",
      "dtypes: float64(1), int64(3)\n",
      "memory usage: 156.4 KB\n"
     ]
    }
   ],
   "source": [
    "units_df.info()"
   ]
  },
  {
   "cell_type": "code",
   "execution_count": 85,
   "metadata": {},
   "outputs": [
    {
     "data": {
      "text/plain": [
       "0"
      ]
     },
     "execution_count": 85,
     "metadata": {},
     "output_type": "execute_result"
    }
   ],
   "source": [
    "# checking for duplicates\n",
    "units_df.duplicated().sum()"
   ]
  },
  {
   "cell_type": "code",
   "execution_count": 86,
   "metadata": {},
   "outputs": [
    {
     "name": "stdout",
     "output_type": "stream",
     "text": [
      "order_id      0\n",
      "product_id    0\n",
      "quantity      0\n",
      "unit_price    0\n",
      "dtype: int64\n"
     ]
    }
   ],
   "source": [
    "# checking for null values\n",
    "null_check = units_df.isnull().sum()\n",
    "print(null_check)"
   ]
  },
  {
   "cell_type": "code",
   "execution_count": 87,
   "metadata": {},
   "outputs": [
    {
     "name": "stdout",
     "output_type": "stream",
     "text": [
      "     order_id  product_id  quantity  unit_price  total_price\n",
      "0  1961864118      642612         3      517.03      1551.09\n",
      "1  1549769649      378676         1      881.42       881.42\n",
      "2  9185164487      741341         2      923.84      1847.68\n",
      "3  9644738826      561860         1      874.78       874.78\n",
      "4  5427684290      602241         2      976.55      1953.10\n"
     ]
    }
   ],
   "source": [
    "# creating new column that holds total order value\n",
    "units_df['total_price'] = units_df['quantity'] * units_df['unit_price']\n",
    "print(units_df.head())  # Display the first few rows to confirm the new column\n"
   ]
  },
  {
   "cell_type": "code",
   "execution_count": 88,
   "metadata": {},
   "outputs": [
    {
     "data": {
      "text/html": [
       "<div>\n",
       "<style scoped>\n",
       "    .dataframe tbody tr th:only-of-type {\n",
       "        vertical-align: middle;\n",
       "    }\n",
       "\n",
       "    .dataframe tbody tr th {\n",
       "        vertical-align: top;\n",
       "    }\n",
       "\n",
       "    .dataframe thead th {\n",
       "        text-align: right;\n",
       "    }\n",
       "</style>\n",
       "<table border=\"1\" class=\"dataframe\">\n",
       "  <thead>\n",
       "    <tr style=\"text-align: right;\">\n",
       "      <th></th>\n",
       "      <th>order_id</th>\n",
       "      <th>product_id</th>\n",
       "      <th>quantity</th>\n",
       "      <th>unit_price</th>\n",
       "      <th>total_price</th>\n",
       "      <th>unit_price_usd</th>\n",
       "      <th>total_price_usd</th>\n",
       "    </tr>\n",
       "  </thead>\n",
       "  <tbody>\n",
       "    <tr>\n",
       "      <th>0</th>\n",
       "      <td>1961864118</td>\n",
       "      <td>642612</td>\n",
       "      <td>3</td>\n",
       "      <td>517.03</td>\n",
       "      <td>1551.09</td>\n",
       "      <td>6.20436</td>\n",
       "      <td>18.61308</td>\n",
       "    </tr>\n",
       "    <tr>\n",
       "      <th>1</th>\n",
       "      <td>1549769649</td>\n",
       "      <td>378676</td>\n",
       "      <td>1</td>\n",
       "      <td>881.42</td>\n",
       "      <td>881.42</td>\n",
       "      <td>10.57704</td>\n",
       "      <td>10.57704</td>\n",
       "    </tr>\n",
       "    <tr>\n",
       "      <th>2</th>\n",
       "      <td>9185164487</td>\n",
       "      <td>741341</td>\n",
       "      <td>2</td>\n",
       "      <td>923.84</td>\n",
       "      <td>1847.68</td>\n",
       "      <td>11.08608</td>\n",
       "      <td>22.17216</td>\n",
       "    </tr>\n",
       "    <tr>\n",
       "      <th>3</th>\n",
       "      <td>9644738826</td>\n",
       "      <td>561860</td>\n",
       "      <td>1</td>\n",
       "      <td>874.78</td>\n",
       "      <td>874.78</td>\n",
       "      <td>10.49736</td>\n",
       "      <td>10.49736</td>\n",
       "    </tr>\n",
       "    <tr>\n",
       "      <th>4</th>\n",
       "      <td>5427684290</td>\n",
       "      <td>602241</td>\n",
       "      <td>2</td>\n",
       "      <td>976.55</td>\n",
       "      <td>1953.10</td>\n",
       "      <td>11.71860</td>\n",
       "      <td>23.43720</td>\n",
       "    </tr>\n",
       "  </tbody>\n",
       "</table>\n",
       "</div>"
      ],
      "text/plain": [
       "     order_id  product_id  quantity  unit_price  total_price  unit_price_usd  \\\n",
       "0  1961864118      642612         3      517.03      1551.09         6.20436   \n",
       "1  1549769649      378676         1      881.42       881.42        10.57704   \n",
       "2  9185164487      741341         2      923.84      1847.68        11.08608   \n",
       "3  9644738826      561860         1      874.78       874.78        10.49736   \n",
       "4  5427684290      602241         2      976.55      1953.10        11.71860   \n",
       "\n",
       "   total_price_usd  \n",
       "0         18.61308  \n",
       "1         10.57704  \n",
       "2         22.17216  \n",
       "3         10.49736  \n",
       "4         23.43720  "
      ]
     },
     "execution_count": 88,
     "metadata": {},
     "output_type": "execute_result"
    }
   ],
   "source": [
    "# creating new columns to hold unit price and total price in USD\n",
    "units_df['unit_price_usd']= units_df['unit_price'] * exchange_rate\n",
    "units_df['total_price_usd'] = units_df['unit_price_usd'] * units_df['quantity']\n",
    "\n",
    "units_df.head()"
   ]
  },
  {
   "cell_type": "markdown",
   "metadata": {},
   "source": [
    "#### Orders & Products"
   ]
  },
  {
   "cell_type": "code",
   "execution_count": 89,
   "metadata": {},
   "outputs": [
    {
     "name": "stdout",
     "output_type": "stream",
     "text": [
      "product_id\n",
      "51036     70\n",
      "820973    68\n",
      "604184    62\n",
      "34186     61\n",
      "992178    60\n",
      "880510    58\n",
      "673058    56\n",
      "89084     56\n",
      "557908    55\n",
      "123983    55\n",
      "Name: quantity, dtype: int64\n"
     ]
    }
   ],
   "source": [
    "# calculating most frequently ordered products\n",
    "top_products = units_df.groupby('product_id')['quantity'].sum().sort_values(ascending=False).head(10)\n",
    "print(top_products)"
   ]
  },
  {
   "cell_type": "code",
   "execution_count": 96,
   "metadata": {},
   "outputs": [
    {
     "name": "stderr",
     "output_type": "stream",
     "text": [
      "/var/folders/yz/1gr6swr5703b66sbw24282z40000gn/T/ipykernel_67817/2641944024.py:5: FutureWarning: \n",
      "\n",
      "Passing `palette` without assigning `hue` is deprecated and will be removed in v0.14.0. Assign the `x` variable to `hue` and set `legend=False` for the same effect.\n",
      "\n",
      "  sns.barplot(x=top_products.index, y=top_products.values, palette=\"viridis\", order=top_products.index)\n"
     ]
    },
    {
     "data": {
      "text/plain": [
       "([0, 1, 2, 3, 4, 5, 6, 7, 8, 9],\n",
       " [Text(0, 0, '51036'),\n",
       "  Text(1, 0, '820973'),\n",
       "  Text(2, 0, '604184'),\n",
       "  Text(3, 0, '34186'),\n",
       "  Text(4, 0, '992178'),\n",
       "  Text(5, 0, '880510'),\n",
       "  Text(6, 0, '673058'),\n",
       "  Text(7, 0, '89084'),\n",
       "  Text(8, 0, '557908'),\n",
       "  Text(9, 0, '123983')])"
      ]
     },
     "execution_count": 96,
     "metadata": {},
     "output_type": "execute_result"
    },
    {
     "data": {
      "image/png": "[encoded data removed]",
      "text/plain": [
       "<Figure size 1000x500 with 1 Axes>"
      ]
     },
     "metadata": {},
     "output_type": "display_data"
    }
   ],
   "source": [
    "# creating visual for most ordered products\n",
    "top_products = top_products.sort_values(ascending=False)\n",
    "\n",
    "plt.figure(figsize=(10, 5))\n",
    "sns.barplot(x=top_products.index, y=top_products.values, palette=\"viridis\", order=top_products.index)\n",
    "\n",
    "plt.xlabel(\"Product ID\")\n",
    "plt.ylabel(\"Total Quantity Ordered\")\n",
    "plt.title(\"Top 10 Most Frequently Ordered Products\")\n",
    "plt.xticks(rotation=45)"
   ]
  },
  {
   "cell_type": "code",
   "execution_count": 92,
   "metadata": {},
   "outputs": [
    {
     "name": "stdout",
     "output_type": "stream",
     "text": [
      "Average Order Value: $11.93\n"
     ]
    }
   ],
   "source": [
    "# calulating average order value (USD)\n",
    "order_totals = units_df.groupby('order_id')['total_price_usd'].sum()\n",
    "average_order_value = order_totals.mean()\n",
    "print(f\"Average Order Value: ${average_order_value:.2f}\")"
   ]
  },
  {
   "cell_type": "code",
   "execution_count": 106,
   "metadata": {},
   "outputs": [
    {
     "data": {
      "text/plain": [
       "Text(0.5, 1.0, 'Distribution of Order Sizes')"
      ]
     },
     "execution_count": 106,
     "metadata": {},
     "output_type": "execute_result"
    },
    {
     "data": {
      "image/png": "[encoded data removed]",
      "text/plain": [
       "<Figure size 600x500 with 1 Axes>"
      ]
     },
     "metadata": {},
     "output_type": "display_data"
    }
   ],
   "source": [
    "# creating visual for distribution of order values\n",
    "order_sizes = units_df.groupby('order_id')['quantity'].sum()\n",
    "\n",
    "plt.figure(figsize=(6,5))\n",
    "sns.histplot(order_sizes, bins=5)\n",
    "plt.xlabel(\"Number of Items in Order\")\n",
    "plt.ylabel(\"Number of Orders Placed\")\n",
    "plt.title(\"Distribution of Order Sizes\")"
   ]
  },
  {
   "cell_type": "code",
   "execution_count": 303,
   "metadata": {},
   "outputs": [
    {
     "name": "stdout",
     "output_type": "stream",
     "text": [
      "count    5000.000000\n",
      "mean        2.006800\n",
      "std         0.820542\n",
      "min         1.000000\n",
      "25%         1.000000\n",
      "50%         2.000000\n",
      "75%         3.000000\n",
      "max         3.000000\n",
      "Name: quantity, dtype: float64\n"
     ]
    }
   ],
   "source": [
    "# order size general stats\n",
    "print(order_sizes.describe())"
   ]
  },
  {
   "cell_type": "code",
   "execution_count": 107,
   "metadata": {},
   "outputs": [
    {
     "name": "stdout",
     "output_type": "stream",
     "text": [
      "The product ID that generated the most revenue is: 51036.\n"
     ]
    }
   ],
   "source": [
    "# product generating the most revenue\n",
    "product_revenue = units_df.groupby('product_id')['total_price_usd'].sum()\n",
    "\n",
    "max_revenue_prod = product_revenue.idxmax()\n",
    "max_revenue = max_revenue_prod.max()\n",
    "print(f'The product ID that generated the most revenue is: {max_revenue}.')"
   ]
  },
  {
   "cell_type": "code",
   "execution_count": 108,
   "metadata": {},
   "outputs": [
    {
     "name": "stdout",
     "output_type": "stream",
     "text": [
      "product_id\n",
      "51036     782.55240\n",
      "34186     677.57580\n",
      "880510    662.19528\n",
      "557908    621.96420\n",
      "264803    621.49152\n",
      "739534    584.80128\n",
      "18035     558.10944\n",
      "883013    546.41376\n",
      "349294    538.41600\n",
      "112390    526.78800\n",
      "Name: total_price_usd, dtype: float64\n"
     ]
    }
   ],
   "source": [
    "# top 10 products generating the most revenue\n",
    "max_product_revenue = units_df.groupby('product_id')['total_price_usd'].sum().sort_values(ascending=False)\n",
    "\n",
    "print(max_product_revenue.head(10))"
   ]
  },
  {
   "cell_type": "code",
   "execution_count": 110,
   "metadata": {},
   "outputs": [
    {
     "name": "stderr",
     "output_type": "stream",
     "text": [
      "/var/folders/yz/1gr6swr5703b66sbw24282z40000gn/T/ipykernel_67817/3453733306.py:6: FutureWarning: \n",
      "\n",
      "Passing `palette` without assigning `hue` is deprecated and will be removed in v0.14.0. Assign the `x` variable to `hue` and set `legend=False` for the same effect.\n",
      "\n",
      "  sns.barplot(x=top_10_products.index, y=top_10_products.values, palette='viridis', order=top_10_products.index)\n"
     ]
    },
    {
     "data": {
      "image/png": "[encoded data removed]",
      "text/plain": [
       "<Figure size 1200x600 with 1 Axes>"
      ]
     },
     "metadata": {},
     "output_type": "display_data"
    }
   ],
   "source": [
    "# visual for top 10 products generating the most revenue\n",
    "top_10_products = max_product_revenue.nlargest(10)\n",
    "top_10_products = top_10_products.sort_values(ascending=False)\n",
    "\n",
    "plt.figure(figsize=(12, 6))\n",
    "sns.barplot(x=top_10_products.index, y=top_10_products.values, palette='viridis', order=top_10_products.index)\n",
    "\n",
    "plt.xlabel('Product ID')\n",
    "plt.ylabel('Total Revenue ($)')\n",
    "plt.title('Top 10 Revenue-Generating Products')"
   ]
  },
  {
   "cell_type": "code",
   "execution_count": 111,
   "metadata": {},
   "outputs": [
    {
     "name": "stdout",
     "output_type": "stream",
     "text": [
      "The product ID that generated the least revenue is: 118820.\n"
     ]
    }
   ],
   "source": [
    "# product generating the least revenue\n",
    "min_revenue_prod = product_revenue.idxmin()\n",
    "min_revenue = min_revenue_prod.min()\n",
    "print(f'The product ID that generated the least revenue is: {min_revenue}.')"
   ]
  },
  {
   "cell_type": "code",
   "execution_count": 112,
   "metadata": {},
   "outputs": [
    {
     "name": "stdout",
     "output_type": "stream",
     "text": [
      "product_id\n",
      "118820     4.43520\n",
      "654297     5.72400\n",
      "962054     6.06960\n",
      "652118     8.99232\n",
      "767398     9.03312\n",
      "300159    11.17620\n",
      "709916    13.77408\n",
      "133542    13.97196\n",
      "473647    15.49800\n",
      "968887    19.04760\n",
      "Name: total_price_usd, dtype: float64\n"
     ]
    }
   ],
   "source": [
    "# top 10 products generating the least revenue\n",
    "min_product_revenue = units_df.groupby('product_id')['total_price_usd'].sum().sort_values()\n",
    "print(min_product_revenue.head(10))"
   ]
  },
  {
   "cell_type": "code",
   "execution_count": 113,
   "metadata": {},
   "outputs": [
    {
     "name": "stderr",
     "output_type": "stream",
     "text": [
      "/var/folders/yz/1gr6swr5703b66sbw24282z40000gn/T/ipykernel_67817/3140536586.py:6: FutureWarning: \n",
      "\n",
      "Passing `palette` without assigning `hue` is deprecated and will be removed in v0.14.0. Assign the `x` variable to `hue` and set `legend=False` for the same effect.\n",
      "\n",
      "  sns.barplot(x=bottom_10_products.index, y=bottom_10_products.values, palette='viridis', order=bottom_10_products.index)\n"
     ]
    },
    {
     "data": {
      "image/png": "[encoded data removed]",
      "text/plain": [
       "<Figure size 1200x600 with 1 Axes>"
      ]
     },
     "metadata": {},
     "output_type": "display_data"
    }
   ],
   "source": [
    "# visual for top 10 products generating the least revenue\n",
    "bottom_10_products = min_product_revenue.nsmallest(10)\n",
    "bottom_10_products = bottom_10_products.sort_values()\n",
    "\n",
    "plt.figure(figsize=(12, 6))\n",
    "sns.barplot(x=bottom_10_products.index, y=bottom_10_products.values, palette='viridis', order=bottom_10_products.index)\n",
    "\n",
    "plt.xlabel('Product ID')\n",
    "plt.ylabel('Total Revenue ($)')\n",
    "plt.title('10 Products Generating the Least Revenue')"
   ]
  },
  {
   "cell_type": "code",
   "execution_count": 114,
   "metadata": {},
   "outputs": [
    {
     "data": {
      "text/plain": [
       "count    5000.000000\n",
       "mean        5.917895\n",
       "std         3.576908\n",
       "min         0.147840\n",
       "25%         2.726640\n",
       "50%         5.377920\n",
       "75%         9.372960\n",
       "max        11.951760\n",
       "Name: unit_price_usd, dtype: float64"
      ]
     },
     "execution_count": 114,
     "metadata": {},
     "output_type": "execute_result"
    }
   ],
   "source": [
    "# price distribution general stats\n",
    "units_df['unit_price_usd'].describe()"
   ]
  },
  {
   "cell_type": "code",
   "execution_count": 115,
   "metadata": {},
   "outputs": [
    {
     "data": {
      "image/png": "[encoded data removed]",
      "text/plain": [
       "<Figure size 1000x500 with 1 Axes>"
      ]
     },
     "metadata": {},
     "output_type": "display_data"
    }
   ],
   "source": [
    "# creating visual for product pricing distrubution\n",
    "plt.figure(figsize=(10,5))\n",
    "sns.histplot(units_df['unit_price'], bins=30, kde=True)\n",
    "plt.xlabel('Unit Price')\n",
    "plt.ylabel('Frequency')\n",
    "plt.title('Distribution of Product Prices')\n"
   ]
  },
  {
   "cell_type": "markdown",
   "metadata": {},
   "source": [
    "### File 4: Blinkit Marketing Performance"
   ]
  },
  {
   "cell_type": "code",
   "execution_count": 116,
   "metadata": {},
   "outputs": [
    {
     "data": {
      "text/html": [
       "<div>\n",
       "<style scoped>\n",
       "    .dataframe tbody tr th:only-of-type {\n",
       "        vertical-align: middle;\n",
       "    }\n",
       "\n",
       "    .dataframe tbody tr th {\n",
       "        vertical-align: top;\n",
       "    }\n",
       "\n",
       "    .dataframe thead th {\n",
       "        text-align: right;\n",
       "    }\n",
       "</style>\n",
       "<table border=\"1\" class=\"dataframe\">\n",
       "  <thead>\n",
       "    <tr style=\"text-align: right;\">\n",
       "      <th></th>\n",
       "      <th>campaign_id</th>\n",
       "      <th>campaign_name</th>\n",
       "      <th>date</th>\n",
       "      <th>target_audience</th>\n",
       "      <th>channel</th>\n",
       "      <th>impressions</th>\n",
       "      <th>clicks</th>\n",
       "      <th>conversions</th>\n",
       "      <th>spend</th>\n",
       "      <th>revenue_generated</th>\n",
       "      <th>roas</th>\n",
       "    </tr>\n",
       "  </thead>\n",
       "  <tbody>\n",
       "    <tr>\n",
       "      <th>0</th>\n",
       "      <td>548299</td>\n",
       "      <td>New User Discount</td>\n",
       "      <td>2024-11-05</td>\n",
       "      <td>Premium</td>\n",
       "      <td>App</td>\n",
       "      <td>3130</td>\n",
       "      <td>163</td>\n",
       "      <td>78</td>\n",
       "      <td>1431.85</td>\n",
       "      <td>4777.75</td>\n",
       "      <td>3.60</td>\n",
       "    </tr>\n",
       "    <tr>\n",
       "      <th>1</th>\n",
       "      <td>390914</td>\n",
       "      <td>Weekend Special</td>\n",
       "      <td>2024-11-05</td>\n",
       "      <td>Inactive</td>\n",
       "      <td>App</td>\n",
       "      <td>3925</td>\n",
       "      <td>494</td>\n",
       "      <td>45</td>\n",
       "      <td>4506.34</td>\n",
       "      <td>6238.11</td>\n",
       "      <td>2.98</td>\n",
       "    </tr>\n",
       "    <tr>\n",
       "      <th>2</th>\n",
       "      <td>834385</td>\n",
       "      <td>Festival Offer</td>\n",
       "      <td>2024-11-05</td>\n",
       "      <td>Inactive</td>\n",
       "      <td>Email</td>\n",
       "      <td>7012</td>\n",
       "      <td>370</td>\n",
       "      <td>78</td>\n",
       "      <td>4524.23</td>\n",
       "      <td>2621.00</td>\n",
       "      <td>2.95</td>\n",
       "    </tr>\n",
       "    <tr>\n",
       "      <th>3</th>\n",
       "      <td>241523</td>\n",
       "      <td>Flash Sale</td>\n",
       "      <td>2024-11-05</td>\n",
       "      <td>Inactive</td>\n",
       "      <td>SMS</td>\n",
       "      <td>1115</td>\n",
       "      <td>579</td>\n",
       "      <td>86</td>\n",
       "      <td>3622.79</td>\n",
       "      <td>2955.00</td>\n",
       "      <td>2.84</td>\n",
       "    </tr>\n",
       "    <tr>\n",
       "      <th>4</th>\n",
       "      <td>595111</td>\n",
       "      <td>Membership Drive</td>\n",
       "      <td>2024-11-05</td>\n",
       "      <td>New Users</td>\n",
       "      <td>Email</td>\n",
       "      <td>7172</td>\n",
       "      <td>795</td>\n",
       "      <td>54</td>\n",
       "      <td>2888.99</td>\n",
       "      <td>8951.81</td>\n",
       "      <td>2.22</td>\n",
       "    </tr>\n",
       "    <tr>\n",
       "      <th>...</th>\n",
       "      <td>...</td>\n",
       "      <td>...</td>\n",
       "      <td>...</td>\n",
       "      <td>...</td>\n",
       "      <td>...</td>\n",
       "      <td>...</td>\n",
       "      <td>...</td>\n",
       "      <td>...</td>\n",
       "      <td>...</td>\n",
       "      <td>...</td>\n",
       "      <td>...</td>\n",
       "    </tr>\n",
       "    <tr>\n",
       "      <th>5395</th>\n",
       "      <td>381623</td>\n",
       "      <td>Membership Drive</td>\n",
       "      <td>2023-03-17</td>\n",
       "      <td>New Users</td>\n",
       "      <td>Email</td>\n",
       "      <td>8331</td>\n",
       "      <td>809</td>\n",
       "      <td>92</td>\n",
       "      <td>2363.07</td>\n",
       "      <td>3710.79</td>\n",
       "      <td>1.64</td>\n",
       "    </tr>\n",
       "    <tr>\n",
       "      <th>5396</th>\n",
       "      <td>493317</td>\n",
       "      <td>Category Promotion</td>\n",
       "      <td>2023-03-17</td>\n",
       "      <td>Premium</td>\n",
       "      <td>Social Media</td>\n",
       "      <td>5216</td>\n",
       "      <td>860</td>\n",
       "      <td>34</td>\n",
       "      <td>3922.53</td>\n",
       "      <td>7701.25</td>\n",
       "      <td>2.01</td>\n",
       "    </tr>\n",
       "    <tr>\n",
       "      <th>5397</th>\n",
       "      <td>879292</td>\n",
       "      <td>App Push Notification</td>\n",
       "      <td>2023-03-17</td>\n",
       "      <td>All</td>\n",
       "      <td>App</td>\n",
       "      <td>8480</td>\n",
       "      <td>734</td>\n",
       "      <td>20</td>\n",
       "      <td>1990.75</td>\n",
       "      <td>6650.41</td>\n",
       "      <td>3.98</td>\n",
       "    </tr>\n",
       "    <tr>\n",
       "      <th>5398</th>\n",
       "      <td>461129</td>\n",
       "      <td>Email Campaign</td>\n",
       "      <td>2023-03-17</td>\n",
       "      <td>New Users</td>\n",
       "      <td>Email</td>\n",
       "      <td>3569</td>\n",
       "      <td>568</td>\n",
       "      <td>10</td>\n",
       "      <td>4246.47</td>\n",
       "      <td>5880.42</td>\n",
       "      <td>2.50</td>\n",
       "    </tr>\n",
       "    <tr>\n",
       "      <th>5399</th>\n",
       "      <td>282514</td>\n",
       "      <td>Referral Program</td>\n",
       "      <td>2023-03-17</td>\n",
       "      <td>New Users</td>\n",
       "      <td>Social Media</td>\n",
       "      <td>5967</td>\n",
       "      <td>439</td>\n",
       "      <td>78</td>\n",
       "      <td>1511.93</td>\n",
       "      <td>8322.01</td>\n",
       "      <td>3.08</td>\n",
       "    </tr>\n",
       "  </tbody>\n",
       "</table>\n",
       "<p>5400 rows × 11 columns</p>\n",
       "</div>"
      ],
      "text/plain": [
       "      campaign_id          campaign_name        date target_audience  \\\n",
       "0          548299      New User Discount  2024-11-05         Premium   \n",
       "1          390914        Weekend Special  2024-11-05        Inactive   \n",
       "2          834385         Festival Offer  2024-11-05        Inactive   \n",
       "3          241523             Flash Sale  2024-11-05        Inactive   \n",
       "4          595111       Membership Drive  2024-11-05       New Users   \n",
       "...           ...                    ...         ...             ...   \n",
       "5395       381623       Membership Drive  2023-03-17       New Users   \n",
       "5396       493317     Category Promotion  2023-03-17         Premium   \n",
       "5397       879292  App Push Notification  2023-03-17             All   \n",
       "5398       461129         Email Campaign  2023-03-17       New Users   \n",
       "5399       282514       Referral Program  2023-03-17       New Users   \n",
       "\n",
       "           channel  impressions  clicks  conversions    spend  \\\n",
       "0              App         3130     163           78  1431.85   \n",
       "1              App         3925     494           45  4506.34   \n",
       "2            Email         7012     370           78  4524.23   \n",
       "3              SMS         1115     579           86  3622.79   \n",
       "4            Email         7172     795           54  2888.99   \n",
       "...            ...          ...     ...          ...      ...   \n",
       "5395         Email         8331     809           92  2363.07   \n",
       "5396  Social Media         5216     860           34  3922.53   \n",
       "5397           App         8480     734           20  1990.75   \n",
       "5398         Email         3569     568           10  4246.47   \n",
       "5399  Social Media         5967     439           78  1511.93   \n",
       "\n",
       "      revenue_generated  roas  \n",
       "0               4777.75  3.60  \n",
       "1               6238.11  2.98  \n",
       "2               2621.00  2.95  \n",
       "3               2955.00  2.84  \n",
       "4               8951.81  2.22  \n",
       "...                 ...   ...  \n",
       "5395            3710.79  1.64  \n",
       "5396            7701.25  2.01  \n",
       "5397            6650.41  3.98  \n",
       "5398            5880.42  2.50  \n",
       "5399            8322.01  3.08  \n",
       "\n",
       "[5400 rows x 11 columns]"
      ]
     },
     "execution_count": 116,
     "metadata": {},
     "output_type": "execute_result"
    }
   ],
   "source": [
    "mkt_df = pd.read_csv('/Users/tovi/Desktop/Projects/Blinket-Sales/blinkit csvs/blinkit_marketing_performance.csv')\n",
    "mkt_df"
   ]
  },
  {
   "cell_type": "markdown",
   "metadata": {},
   "source": [
    "#### Data Cleaning"
   ]
  },
  {
   "cell_type": "code",
   "execution_count": 117,
   "metadata": {},
   "outputs": [
    {
     "name": "stdout",
     "output_type": "stream",
     "text": [
      "<class 'pandas.core.frame.DataFrame'>\n",
      "RangeIndex: 5400 entries, 0 to 5399\n",
      "Data columns (total 11 columns):\n",
      " #   Column             Non-Null Count  Dtype  \n",
      "---  ------             --------------  -----  \n",
      " 0   campaign_id        5400 non-null   int64  \n",
      " 1   campaign_name      5400 non-null   object \n",
      " 2   date               5400 non-null   object \n",
      " 3   target_audience    5400 non-null   object \n",
      " 4   channel            5400 non-null   object \n",
      " 5   impressions        5400 non-null   int64  \n",
      " 6   clicks             5400 non-null   int64  \n",
      " 7   conversions        5400 non-null   int64  \n",
      " 8   spend              5400 non-null   float64\n",
      " 9   revenue_generated  5400 non-null   float64\n",
      " 10  roas               5400 non-null   float64\n",
      "dtypes: float64(3), int64(4), object(4)\n",
      "memory usage: 464.2+ KB\n"
     ]
    }
   ],
   "source": [
    "mkt_df.info()"
   ]
  },
  {
   "cell_type": "code",
   "execution_count": 118,
   "metadata": {},
   "outputs": [
    {
     "data": {
      "text/plain": [
       "(5400, 11)"
      ]
     },
     "execution_count": 118,
     "metadata": {},
     "output_type": "execute_result"
    }
   ],
   "source": [
    "mkt_df.shape"
   ]
  },
  {
   "cell_type": "code",
   "execution_count": 120,
   "metadata": {},
   "outputs": [
    {
     "data": {
      "text/plain": [
       "campaign_id          0\n",
       "campaign_name        0\n",
       "date                 0\n",
       "target_audience      0\n",
       "channel              0\n",
       "impressions          0\n",
       "clicks               0\n",
       "conversions          0\n",
       "spend                0\n",
       "revenue_generated    0\n",
       "roas                 0\n",
       "dtype: int64"
      ]
     },
     "execution_count": 120,
     "metadata": {},
     "output_type": "execute_result"
    }
   ],
   "source": [
    "mkt_df.isnull().sum()"
   ]
  },
  {
   "cell_type": "code",
   "execution_count": 121,
   "metadata": {},
   "outputs": [
    {
     "data": {
      "text/plain": [
       "0"
      ]
     },
     "execution_count": 121,
     "metadata": {},
     "output_type": "execute_result"
    }
   ],
   "source": [
    "mkt_df.duplicated().sum()"
   ]
  },
  {
   "cell_type": "code",
   "execution_count": 122,
   "metadata": {},
   "outputs": [
    {
     "data": {
      "text/html": [
       "<div>\n",
       "<style scoped>\n",
       "    .dataframe tbody tr th:only-of-type {\n",
       "        vertical-align: middle;\n",
       "    }\n",
       "\n",
       "    .dataframe tbody tr th {\n",
       "        vertical-align: top;\n",
       "    }\n",
       "\n",
       "    .dataframe thead th {\n",
       "        text-align: right;\n",
       "    }\n",
       "</style>\n",
       "<table border=\"1\" class=\"dataframe\">\n",
       "  <thead>\n",
       "    <tr style=\"text-align: right;\">\n",
       "      <th></th>\n",
       "      <th>campaign_id</th>\n",
       "      <th>campaign_name</th>\n",
       "      <th>date</th>\n",
       "      <th>target_audience</th>\n",
       "      <th>channel</th>\n",
       "      <th>impressions</th>\n",
       "      <th>clicks</th>\n",
       "      <th>conversions</th>\n",
       "      <th>spend</th>\n",
       "      <th>revenue_generated</th>\n",
       "      <th>roas</th>\n",
       "      <th>spend_usd</th>\n",
       "      <th>revenue_generated_usd</th>\n",
       "    </tr>\n",
       "  </thead>\n",
       "  <tbody>\n",
       "    <tr>\n",
       "      <th>0</th>\n",
       "      <td>548299</td>\n",
       "      <td>New User Discount</td>\n",
       "      <td>2024-11-05</td>\n",
       "      <td>Premium</td>\n",
       "      <td>App</td>\n",
       "      <td>3130</td>\n",
       "      <td>163</td>\n",
       "      <td>78</td>\n",
       "      <td>1431.85</td>\n",
       "      <td>4777.75</td>\n",
       "      <td>3.60</td>\n",
       "      <td>17.18220</td>\n",
       "      <td>57.33300</td>\n",
       "    </tr>\n",
       "    <tr>\n",
       "      <th>1</th>\n",
       "      <td>390914</td>\n",
       "      <td>Weekend Special</td>\n",
       "      <td>2024-11-05</td>\n",
       "      <td>Inactive</td>\n",
       "      <td>App</td>\n",
       "      <td>3925</td>\n",
       "      <td>494</td>\n",
       "      <td>45</td>\n",
       "      <td>4506.34</td>\n",
       "      <td>6238.11</td>\n",
       "      <td>2.98</td>\n",
       "      <td>54.07608</td>\n",
       "      <td>74.85732</td>\n",
       "    </tr>\n",
       "    <tr>\n",
       "      <th>2</th>\n",
       "      <td>834385</td>\n",
       "      <td>Festival Offer</td>\n",
       "      <td>2024-11-05</td>\n",
       "      <td>Inactive</td>\n",
       "      <td>Email</td>\n",
       "      <td>7012</td>\n",
       "      <td>370</td>\n",
       "      <td>78</td>\n",
       "      <td>4524.23</td>\n",
       "      <td>2621.00</td>\n",
       "      <td>2.95</td>\n",
       "      <td>54.29076</td>\n",
       "      <td>31.45200</td>\n",
       "    </tr>\n",
       "    <tr>\n",
       "      <th>3</th>\n",
       "      <td>241523</td>\n",
       "      <td>Flash Sale</td>\n",
       "      <td>2024-11-05</td>\n",
       "      <td>Inactive</td>\n",
       "      <td>SMS</td>\n",
       "      <td>1115</td>\n",
       "      <td>579</td>\n",
       "      <td>86</td>\n",
       "      <td>3622.79</td>\n",
       "      <td>2955.00</td>\n",
       "      <td>2.84</td>\n",
       "      <td>43.47348</td>\n",
       "      <td>35.46000</td>\n",
       "    </tr>\n",
       "    <tr>\n",
       "      <th>4</th>\n",
       "      <td>595111</td>\n",
       "      <td>Membership Drive</td>\n",
       "      <td>2024-11-05</td>\n",
       "      <td>New Users</td>\n",
       "      <td>Email</td>\n",
       "      <td>7172</td>\n",
       "      <td>795</td>\n",
       "      <td>54</td>\n",
       "      <td>2888.99</td>\n",
       "      <td>8951.81</td>\n",
       "      <td>2.22</td>\n",
       "      <td>34.66788</td>\n",
       "      <td>107.42172</td>\n",
       "    </tr>\n",
       "  </tbody>\n",
       "</table>\n",
       "</div>"
      ],
      "text/plain": [
       "   campaign_id      campaign_name        date target_audience channel  \\\n",
       "0       548299  New User Discount  2024-11-05         Premium     App   \n",
       "1       390914    Weekend Special  2024-11-05        Inactive     App   \n",
       "2       834385     Festival Offer  2024-11-05        Inactive   Email   \n",
       "3       241523         Flash Sale  2024-11-05        Inactive     SMS   \n",
       "4       595111   Membership Drive  2024-11-05       New Users   Email   \n",
       "\n",
       "   impressions  clicks  conversions    spend  revenue_generated  roas  \\\n",
       "0         3130     163           78  1431.85            4777.75  3.60   \n",
       "1         3925     494           45  4506.34            6238.11  2.98   \n",
       "2         7012     370           78  4524.23            2621.00  2.95   \n",
       "3         1115     579           86  3622.79            2955.00  2.84   \n",
       "4         7172     795           54  2888.99            8951.81  2.22   \n",
       "\n",
       "   spend_usd  revenue_generated_usd  \n",
       "0   17.18220               57.33300  \n",
       "1   54.07608               74.85732  \n",
       "2   54.29076               31.45200  \n",
       "3   43.47348               35.46000  \n",
       "4   34.66788              107.42172  "
      ]
     },
     "execution_count": 122,
     "metadata": {},
     "output_type": "execute_result"
    }
   ],
   "source": [
    "# creating new column to contain converted spend amounts\n",
    "mkt_df['spend_usd'] = mkt_df['spend'] * exchange_rate\n",
    "mkt_df['revenue_generated_usd'] = mkt_df['revenue_generated'] * exchange_rate\n",
    "mkt_df.head()"
   ]
  },
  {
   "cell_type": "markdown",
   "metadata": {},
   "source": [
    "### Campaign Breakdown"
   ]
  },
  {
   "cell_type": "code",
   "execution_count": 131,
   "metadata": {},
   "outputs": [
    {
     "name": "stdout",
     "output_type": "stream",
     "text": [
      "campaign_id                      664981\n",
      "campaign_name            Email Campaign\n",
      "date                         2024-10-26\n",
      "target_audience               New Users\n",
      "channel                    Social Media\n",
      "roas                                4.0\n",
      "spend_usd                      43.19748\n",
      "revenue_generated_usd          51.74148\n",
      "Name: 97, dtype: object\n"
     ]
    }
   ],
   "source": [
    "# which campaign has the highest return on ad spend\n",
    "highest_roas_campaign = mkt_df.loc[mkt_df['roas'].idxmax(), ['campaign_id', 'campaign_name', 'date', 'target_audience', 'channel', 'roas', 'spend_usd', 'revenue_generated_usd']]\n",
    "print(highest_roas_campaign)"
   ]
  },
  {
   "cell_type": "code",
   "execution_count": 181,
   "metadata": {},
   "outputs": [],
   "source": [
    "# group by campaign and get average ROAS\n",
    "top_roas_campaigns = (mkt_df.groupby('campaign_name')['roas'].mean().sort_values(ascending=False).reset_index())"
   ]
  },
  {
   "cell_type": "code",
   "execution_count": 183,
   "metadata": {},
   "outputs": [
    {
     "name": "stdout",
     "output_type": "stream",
     "text": [
      "campaign_name\n",
      "Category Promotion       22206.99600\n",
      "New User Discount        22001.45772\n",
      "Flash Sale               21980.25384\n",
      "Referral Program         21816.30612\n",
      "Email Campaign           21728.75604\n",
      "Weekend Special          21595.33548\n",
      "Festival Offer           21560.24568\n",
      "Membership Drive         21480.83760\n",
      "App Push Notification    21467.87040\n",
      "Name: spend_usd, dtype: float64\n"
     ]
    }
   ],
   "source": [
    "# identifying the total spend for each marketing campaign group\n",
    "spend_per_campaign = mkt_df.groupby('campaign_name')['spend_usd'].sum().sort_values(ascending=False)\n",
    "print(spend_per_campaign)"
   ]
  },
  {
   "cell_type": "code",
   "execution_count": 185,
   "metadata": {},
   "outputs": [
    {
     "name": "stderr",
     "output_type": "stream",
     "text": [
      "/var/folders/yz/1gr6swr5703b66sbw24282z40000gn/T/ipykernel_67817/1151341433.py:3: FutureWarning: \n",
      "\n",
      "Passing `palette` without assigning `hue` is deprecated and will be removed in v0.14.0. Assign the `x` variable to `hue` and set `legend=False` for the same effect.\n",
      "\n",
      "  sns.barplot(x='campaign_name', y='roas', data=top_roas_campaigns, palette='viridis', legend=True,)\n"
     ]
    },
    {
     "data": {
      "image/png": "[encoded data removed]",
      "text/plain": [
       "<Figure size 1200x600 with 1 Axes>"
      ]
     },
     "metadata": {},
     "output_type": "display_data"
    }
   ],
   "source": [
    "# visual for ROAS across campaign groups\n",
    "plt.figure(figsize=(12, 6))\n",
    "sns.barplot(x='campaign_name', y='roas', data=top_roas_campaigns, palette='viridis', legend=True,)\n",
    "\n",
    "plt.title('ROAS across Campaigns Groups')\n",
    "plt.xlabel('Campaign Group')\n",
    "plt.ylabel('ROAS')\n",
    "plt.tight_layout\n",
    "plt.xticks(rotation=45);"
   ]
  },
  {
   "cell_type": "markdown",
   "metadata": {},
   "source": [
    "### Channel Breakdown"
   ]
  },
  {
   "cell_type": "code",
   "execution_count": 165,
   "metadata": {},
   "outputs": [
    {
     "name": "stdout",
     "output_type": "stream",
     "text": [
      "channel\n",
      "App             50560.54500\n",
      "Social Media    49324.36692\n",
      "SMS             47983.29048\n",
      "Email           47969.85648\n",
      "Name: spend_usd, dtype: float64\n"
     ]
    }
   ],
   "source": [
    "# identifying the total spend for each marketing channel\n",
    "spend_per_channel = mkt_df.groupby('channel')['spend_usd'].sum().sort_values(ascending=False)\n",
    "print(spend_per_channel)"
   ]
  },
  {
   "cell_type": "code",
   "execution_count": 174,
   "metadata": {},
   "outputs": [
    {
     "name": "stdout",
     "output_type": "stream",
     "text": [
      "        channel      roas\n",
      "0           App  2.754301\n",
      "3  Social Media  2.749188\n",
      "1         Email  2.748861\n",
      "2           SMS  2.710112\n"
     ]
    }
   ],
   "source": [
    "# average ROAS across channels\n",
    "roas_per_channel = mkt_df.groupby('channel')['roas'].mean().reset_index()\n",
    "roas_per_channel = roas_per_channel.sort_values(by='roas', ascending=False)\n",
    "print(roas_per_channel)"
   ]
  },
  {
   "cell_type": "code",
   "execution_count": 192,
   "metadata": {},
   "outputs": [
    {
     "name": "stderr",
     "output_type": "stream",
     "text": [
      "/var/folders/yz/1gr6swr5703b66sbw24282z40000gn/T/ipykernel_67817/3763850581.py:3: FutureWarning: \n",
      "\n",
      "Passing `palette` without assigning `hue` is deprecated and will be removed in v0.14.0. Assign the `x` variable to `hue` and set `legend=False` for the same effect.\n",
      "\n",
      "  sns.barplot(x='channel', y='roas', data=roas_per_channel, palette='viridis')\n"
     ]
    },
    {
     "data": {
      "image/png": "[encoded data removed]",
      "text/plain": [
       "<Figure size 800x400 with 1 Axes>"
      ]
     },
     "metadata": {},
     "output_type": "display_data"
    }
   ],
   "source": [
    "# create visual\n",
    "plt.figure(figsize=(8, 4))\n",
    "sns.barplot(x='channel', y='roas', data=roas_per_channel, palette='viridis')\n",
    "\n",
    "plt.title(\"Average ROAS by Marketing Channel\")\n",
    "plt.xlabel(\"Channel Group\")\n",
    "plt.ylabel(\"Average ROAS\");"
   ]
  },
  {
   "cell_type": "code",
   "execution_count": 201,
   "metadata": {},
   "outputs": [
    {
     "data": {
      "image/png": "[encoded data removed]",
      "text/plain": [
       "<Figure size 800x500 with 1 Axes>"
      ]
     },
     "metadata": {},
     "output_type": "display_data"
    }
   ],
   "source": [
    "# violin plot shows the distribution and density of ROAS across different channels\n",
    "plt.figure(figsize=(8, 5))\n",
    "sns.violinplot(hue='channel', y='roas', data=mkt_df, palette='viridis')\n",
    "plt.title(\"ROAS Distribution by Marketing Channel\")\n",
    "plt.xlabel(\"Channel\")\n",
    "plt.ylabel(\"ROAS\");"
   ]
  },
  {
   "cell_type": "markdown",
   "metadata": {},
   "source": [
    "# SP"
   ]
  },
  {
   "cell_type": "code",
   "execution_count": 202,
   "metadata": {},
   "outputs": [
    {
     "data": {
      "text/plain": [
       "campaign_name        Festival Offer\n",
       "conversion_rate                0.94\n",
       "revenue_generated           3074.89\n",
       "channel                Social Media\n",
       "campaign_id                  236107\n",
       "Name: 3440, dtype: object"
      ]
     },
     "execution_count": 202,
     "metadata": {},
     "output_type": "execute_result"
    }
   ],
   "source": [
    "# creating  new column that holds conversion rates\n",
    "mkt_df['conversion_rate'] = mkt_df['conversions'] / mkt_df['clicks']\n",
    "\n",
    "# getting the campaign that had the highest conversion rate\n",
    "highest_conversion_rate_campaign = mkt_df.loc[mkt_df['conversion_rate'].idxmax(), ['campaign_name', 'conversion_rate', 'revenue_generated','channel', 'campaign_id']]\n",
    "highest_conversion_rate_campaign"
   ]
  },
  {
   "cell_type": "code",
   "execution_count": 199,
   "metadata": {},
   "outputs": [
    {
     "ename": "KeyError",
     "evalue": "'channel'",
     "output_type": "error",
     "traceback": [
      "\u001b[0;31m---------------------------------------------------------------------------\u001b[0m",
      "\u001b[0;31mKeyError\u001b[0m                                  Traceback (most recent call last)",
      "Cell \u001b[0;32mIn[199], line 2\u001b[0m\n\u001b[1;32m      1\u001b[0m \u001b[38;5;66;03m# get average roas by channel\u001b[39;00m\n\u001b[0;32m----> 2\u001b[0m \u001b[38;5;28mprint\u001b[39m(mkt_df[\u001b[38;5;124m'\u001b[39m\u001b[38;5;124mconversion_rate\u001b[39m\u001b[38;5;124m'\u001b[39m]\u001b[38;5;241m.\u001b[39mgroupby(\u001b[38;5;124m'\u001b[39m\u001b[38;5;124mchannel\u001b[39m\u001b[38;5;124m'\u001b[39m)[\u001b[38;5;124m'\u001b[39m\u001b[38;5;124mroas\u001b[39m\u001b[38;5;124m'\u001b[39m]\u001b[38;5;241m.\u001b[39mmean())\n",
      "File \u001b[0;32m/opt/anaconda3/lib/python3.12/site-packages/pandas/core/series.py:2247\u001b[0m, in \u001b[0;36mSeries.groupby\u001b[0;34m(self, by, axis, level, as_index, sort, group_keys, observed, dropna)\u001b[0m\n\u001b[1;32m   2244\u001b[0m     \u001b[38;5;28;01mraise\u001b[39;00m \u001b[38;5;167;01mTypeError\u001b[39;00m(\u001b[38;5;124m\"\u001b[39m\u001b[38;5;124mas_index=False only valid with DataFrame\u001b[39m\u001b[38;5;124m\"\u001b[39m)\n\u001b[1;32m   2245\u001b[0m axis \u001b[38;5;241m=\u001b[39m \u001b[38;5;28mself\u001b[39m\u001b[38;5;241m.\u001b[39m_get_axis_number(axis)\n\u001b[0;32m-> 2247\u001b[0m \u001b[38;5;28;01mreturn\u001b[39;00m SeriesGroupBy(\n\u001b[1;32m   2248\u001b[0m     obj\u001b[38;5;241m=\u001b[39m\u001b[38;5;28mself\u001b[39m,\n\u001b[1;32m   2249\u001b[0m     keys\u001b[38;5;241m=\u001b[39mby,\n\u001b[1;32m   2250\u001b[0m     axis\u001b[38;5;241m=\u001b[39maxis,\n\u001b[1;32m   2251\u001b[0m     level\u001b[38;5;241m=\u001b[39mlevel,\n\u001b[1;32m   2252\u001b[0m     as_index\u001b[38;5;241m=\u001b[39mas_index,\n\u001b[1;32m   2253\u001b[0m     sort\u001b[38;5;241m=\u001b[39msort,\n\u001b[1;32m   2254\u001b[0m     group_keys\u001b[38;5;241m=\u001b[39mgroup_keys,\n\u001b[1;32m   2255\u001b[0m     observed\u001b[38;5;241m=\u001b[39mobserved,\n\u001b[1;32m   2256\u001b[0m     dropna\u001b[38;5;241m=\u001b[39mdropna,\n\u001b[1;32m   2257\u001b[0m )\n",
      "File \u001b[0;32m/opt/anaconda3/lib/python3.12/site-packages/pandas/core/groupby/groupby.py:1329\u001b[0m, in \u001b[0;36mGroupBy.__init__\u001b[0;34m(self, obj, keys, axis, level, grouper, exclusions, selection, as_index, sort, group_keys, observed, dropna)\u001b[0m\n\u001b[1;32m   1326\u001b[0m \u001b[38;5;28mself\u001b[39m\u001b[38;5;241m.\u001b[39mdropna \u001b[38;5;241m=\u001b[39m dropna\n\u001b[1;32m   1328\u001b[0m \u001b[38;5;28;01mif\u001b[39;00m grouper \u001b[38;5;129;01mis\u001b[39;00m \u001b[38;5;28;01mNone\u001b[39;00m:\n\u001b[0;32m-> 1329\u001b[0m     grouper, exclusions, obj \u001b[38;5;241m=\u001b[39m get_grouper(\n\u001b[1;32m   1330\u001b[0m         obj,\n\u001b[1;32m   1331\u001b[0m         keys,\n\u001b[1;32m   1332\u001b[0m         axis\u001b[38;5;241m=\u001b[39maxis,\n\u001b[1;32m   1333\u001b[0m         level\u001b[38;5;241m=\u001b[39mlevel,\n\u001b[1;32m   1334\u001b[0m         sort\u001b[38;5;241m=\u001b[39msort,\n\u001b[1;32m   1335\u001b[0m         observed\u001b[38;5;241m=\u001b[39m\u001b[38;5;28;01mFalse\u001b[39;00m \u001b[38;5;28;01mif\u001b[39;00m observed \u001b[38;5;129;01mis\u001b[39;00m lib\u001b[38;5;241m.\u001b[39mno_default \u001b[38;5;28;01melse\u001b[39;00m observed,\n\u001b[1;32m   1336\u001b[0m         dropna\u001b[38;5;241m=\u001b[39m\u001b[38;5;28mself\u001b[39m\u001b[38;5;241m.\u001b[39mdropna,\n\u001b[1;32m   1337\u001b[0m     )\n\u001b[1;32m   1339\u001b[0m \u001b[38;5;28;01mif\u001b[39;00m observed \u001b[38;5;129;01mis\u001b[39;00m lib\u001b[38;5;241m.\u001b[39mno_default:\n\u001b[1;32m   1340\u001b[0m     \u001b[38;5;28;01mif\u001b[39;00m \u001b[38;5;28many\u001b[39m(ping\u001b[38;5;241m.\u001b[39m_passed_categorical \u001b[38;5;28;01mfor\u001b[39;00m ping \u001b[38;5;129;01min\u001b[39;00m grouper\u001b[38;5;241m.\u001b[39mgroupings):\n",
      "File \u001b[0;32m/opt/anaconda3/lib/python3.12/site-packages/pandas/core/groupby/grouper.py:1043\u001b[0m, in \u001b[0;36mget_grouper\u001b[0;34m(obj, key, axis, level, sort, observed, validate, dropna)\u001b[0m\n\u001b[1;32m   1041\u001b[0m         in_axis, level, gpr \u001b[38;5;241m=\u001b[39m \u001b[38;5;28;01mFalse\u001b[39;00m, gpr, \u001b[38;5;28;01mNone\u001b[39;00m\n\u001b[1;32m   1042\u001b[0m     \u001b[38;5;28;01melse\u001b[39;00m:\n\u001b[0;32m-> 1043\u001b[0m         \u001b[38;5;28;01mraise\u001b[39;00m \u001b[38;5;167;01mKeyError\u001b[39;00m(gpr)\n\u001b[1;32m   1044\u001b[0m \u001b[38;5;28;01melif\u001b[39;00m \u001b[38;5;28misinstance\u001b[39m(gpr, Grouper) \u001b[38;5;129;01mand\u001b[39;00m gpr\u001b[38;5;241m.\u001b[39mkey \u001b[38;5;129;01mis\u001b[39;00m \u001b[38;5;129;01mnot\u001b[39;00m \u001b[38;5;28;01mNone\u001b[39;00m:\n\u001b[1;32m   1045\u001b[0m     \u001b[38;5;66;03m# Add key to exclusions\u001b[39;00m\n\u001b[1;32m   1046\u001b[0m     exclusions\u001b[38;5;241m.\u001b[39madd(gpr\u001b[38;5;241m.\u001b[39mkey)\n",
      "\u001b[0;31mKeyError\u001b[0m: 'channel'"
     ]
    }
   ],
   "source": [
    "# get average roas by channel\n",
    "print(mkt_df['conversion_rate'].groupby('channel')['roas'].mean())\n",
    "#print(roas_by_channel)"
   ]
  },
  {
   "cell_type": "markdown",
   "metadata": {},
   "source": [
    "Track performance fluctuations over time:"
   ]
  },
  {
   "cell_type": "code",
   "execution_count": null,
   "metadata": {},
   "outputs": [],
   "source": [
    "daily_roas = mkt_df.groupby('date')['roas'].mean()\n",
    "\n",
    "plt.figure(figsize=(15, 6))\n",
    "daily_roas.plot(title=\"ROAS Over Time\", marker='o', color='orange')\n",
    "plt.xlabel(\"Date\")\n",
    "plt.ylabel(\"ROAS\")\n",
    "plt.grid(True)\n",
    "plt.show()\n"
   ]
  },
  {
   "cell_type": "code",
   "execution_count": null,
   "metadata": {},
   "outputs": [],
   "source": [
    "# how do these performance metrics correlate to overall roas?\n",
    "correlation_matrix = mkt_df[['impressions', 'clicks', 'conversions', 'roas']].corr()\n",
    "print(correlation_matrix)"
   ]
  },
  {
   "cell_type": "code",
   "execution_count": null,
   "metadata": {},
   "outputs": [],
   "source": [
    "# calculating spend per ad channel\n",
    "spend_by_channel = mkt_df.groupby('channel')['spend_usd'].sum().sort_values(ascending=False)\n",
    "spend_by_channel"
   ]
  },
  {
   "cell_type": "code",
   "execution_count": null,
   "metadata": {},
   "outputs": [],
   "source": [
    "# creating visual to show spend by channel\n",
    "mkt_df.groupby('channel')['spend_usd'].sum().plot(kind='bar', title='Total Spend by Channel')\n",
    "plt.ylabel('Total Spend ($)')\n",
    "plt.show()"
   ]
  },
  {
   "cell_type": "code",
   "execution_count": null,
   "metadata": {},
   "outputs": [],
   "source": [
    "# calculating how much is spent per target audience group\n",
    "audience_spend= mkt_df.groupby('target_audience')['spend_usd'].sum().sort_values(ascending=False)\n",
    "audience_spend"
   ]
  },
  {
   "cell_type": "code",
   "execution_count": null,
   "metadata": {},
   "outputs": [],
   "source": [
    "#audience that generates the most revenue\n",
    "revenue_by_audience = mkt_df.groupby('target_audience')['revenue_generated_usd'].sum().sort_values(ascending=False)\n",
    "print(revenue_by_audience)"
   ]
  },
  {
   "cell_type": "code",
   "execution_count": null,
   "metadata": {},
   "outputs": [],
   "source": [
    "#pie chart"
   ]
  },
  {
   "cell_type": "code",
   "execution_count": null,
   "metadata": {},
   "outputs": [],
   "source": [
    "# calculating conversion rate by audience group\n",
    "conversion_rate_by_audience = mkt_df.groupby('target_audience')['conversion_rate'].mean().sort_values(ascending=False)\n",
    "print(conversion_rate_by_audience)"
   ]
  },
  {
   "cell_type": "code",
   "execution_count": null,
   "metadata": {},
   "outputs": [],
   "source": [
    "# A box plot shows the spread and outliers in conversion rates for different audience segments:\n",
    "plt.figure(figsize=(8, 5))\n",
    "sns.boxplot(hue='target_audience', y='conversion_rate', data=mkt_df, palette='coolwarm')\n",
    "plt.title(\"Conversion Rate by Target Audience\")\n",
    "plt.xlabel(\"Target Audience\")\n",
    "plt.ylabel(\"Conversion Rate\")\n",
    "plt.xticks(rotation=45)\n",
    "plt.show()"
   ]
  },
  {
   "cell_type": "code",
   "execution_count": null,
   "metadata": {},
   "outputs": [],
   "source": [
    "# which channel has the highest engagement\n",
    "mkt_df['engagement_rate'] = mkt_df['clicks'] / mkt_df['impressions']\n",
    "highest_engagement_channel = mkt_df.groupby('channel')['engagement_rate'].mean().sort_values(ascending=False)\n",
    "print(highest_engagement_channel)"
   ]
  },
  {
   "cell_type": "code",
   "execution_count": null,
   "metadata": {},
   "outputs": [],
   "source": [
    "# calculating conversions by day\n",
    "mkt_df['date'] = pd.to_datetime(mkt_df['date'])\n",
    "mkt_df['day_of_week'] = mkt_df['date'].dt.day_name()\n",
    "\n",
    "conversions_by_day = mkt_df.groupby('day_of_week')['conversions'].sum().sort_values(ascending=False)\n",
    "print(conversions_by_day)"
   ]
  },
  {
   "cell_type": "code",
   "execution_count": null,
   "metadata": {},
   "outputs": [],
   "source": [
    "mkt_df['day_of_week'] = mkt_df['date'].dt.day_name()\n",
    "conversions_by_day = mkt_df.groupby('day_of_week')['conversions'].sum()\n",
    "\n",
    "plt.figure(figsize=(8, 5))\n",
    "conversions_by_day.reindex([\"Monday\", \"Tuesday\", \"Wednesday\", \"Thursday\", \"Friday\", \"Saturday\", \"Sunday\"]).plot(kind='bar', color='orange', edgecolor='black')\n",
    "plt.title(\"Total Conversions by Day of the Week\")\n",
    "plt.xlabel(\"Day of the Week\")\n",
    "plt.ylabel(\"Total Conversions\")\n",
    "plt.xticks(rotation=45)\n",
    "plt.grid(axis='y', linestyle='--', alpha=0.7)\n",
    "plt.show()"
   ]
  },
  {
   "cell_type": "code",
   "execution_count": null,
   "metadata": {},
   "outputs": [],
   "source": [
    "# calculating engagement rate by day\n",
    "mkt_df['date'] = pd.to_datetime(mkt_df['date'])\n",
    "mkt_df['day_of_week'] = mkt_df['date'].dt.day_name()\n",
    "\n",
    "conversions_by_day = mkt_df.groupby('day_of_week')['engagement_rate'].sum().sort_values(ascending=False)\n",
    "print(conversions_by_day)"
   ]
  },
  {
   "cell_type": "code",
   "execution_count": null,
   "metadata": {},
   "outputs": [],
   "source": [
    "# calculating revenue generated by day\n",
    "mkt_df['date'] = pd.to_datetime(mkt_df['date'])\n",
    "mkt_df['day_of_week'] = mkt_df['date'].dt.day_name()\n",
    "\n",
    "conversions_by_day = mkt_df.groupby('day_of_week')['revenue_generated_usd'].sum().sort_values(ascending=False)\n",
    "print(conversions_by_day)"
   ]
  },
  {
   "cell_type": "code",
   "execution_count": null,
   "metadata": {},
   "outputs": [],
   "source": [
    "performance_by_day = mkt_df.groupby('day_of_week')[['roas', 'conversion_rate']].mean().sort_values(by='roas', ascending=False)\n",
    "print(performance_by_day)"
   ]
  },
  {
   "cell_type": "code",
   "execution_count": null,
   "metadata": {},
   "outputs": [],
   "source": [
    "plt.figure(figsize=(8, 5))\n",
    "sns.heatmap(mkt_df[['impressions', 'clicks', 'conversions', 'spend', 'revenue_generated', 'roas']].corr(), annot=True, cmap='coolwarm', linewidths=0.5)\n",
    "plt.title(\"Correlation Heatmap of Key Metrics\")\n",
    "plt.show()"
   ]
  },
  {
   "cell_type": "code",
   "execution_count": null,
   "metadata": {},
   "outputs": [],
   "source": [
    "# This helps identify which channel has the highest engagement in terms of clicks per impression:\n",
    "mkt_df['ctr'] = mkt_df['clicks'] / mkt_df['impressions']  # calculate Click-Through Rate (CTR)\n",
    "\n",
    "plt.figure(figsize=(8, 5))\n",
    "sns.barplot(hue='channel', y='ctr', data=mkt_df, palette='muted', errorbar=None)\n",
    "plt.title(\"Click-Through Rate (CTR) by Marketing Channel\")\n",
    "plt.xlabel(\"Channel\")\n",
    "plt.ylabel(\"CTR\")\n",
    "#plt.xticks(rotation=45)\n",
    "plt.show()"
   ]
  },
  {
   "cell_type": "code",
   "execution_count": null,
   "metadata": {},
   "outputs": [],
   "source": [
    "# A heatmap helps identify which target audience and channel combinations yield the best ROAS\n",
    "plt.figure(figsize=(8, 5))\n",
    "sns.heatmap(pivot, annot=True, cmap='Blues', linewidths=0.5)\n",
    "plt.title(\"ROAS Heatmap by Channel and Target Audience\")\n",
    "plt.xlabel(\"Marketing Channel\")\n",
    "plt.ylabel(\"Target Audience\")\n",
    "plt.show()"
   ]
  },
  {
   "cell_type": "code",
   "execution_count": null,
   "metadata": {},
   "outputs": [],
   "source": [
    "# This shows trends in conversions over time, helping to spot seasonal effects or spikes.\n",
    "daily_conversions = mkt_df.groupby('date')['conversions'].sum().reset_index()\n",
    "\n",
    "plt.figure(figsize=(16, 6))\n",
    "sns.lineplot(x='date', y='conversions', data=daily_conversions, marker='o', color='green')\n",
    "plt.title(\"Conversions Over Time\")\n",
    "plt.xlabel(\"Date\")\n",
    "plt.ylabel(\"Total Conversions\")\n",
    "plt.xticks(rotation=45)\n",
    "plt.grid(axis='y', linestyle='--', alpha=0.7)\n",
    "plt.show()"
   ]
  },
  {
   "cell_type": "code",
   "execution_count": null,
   "metadata": {},
   "outputs": [],
   "source": [
    "# A kernel density estimate (KDE) plot helps visualize the distribution of revenue:\n",
    "plt.figure(figsize=(8, 5))\n",
    "sns.kdeplot(mkt_df['revenue_generated_usd'], fill=True, color='green')\n",
    "plt.title(\"Revenue Distribution\")\n",
    "plt.xlabel(\"Revenue Generated\")\n",
    "plt.ylabel(\"Density\")\n",
    "plt.show()"
   ]
  },
  {
   "cell_type": "markdown",
   "metadata": {},
   "source": [
    "Check if high clicks lead to conversions:"
   ]
  },
  {
   "cell_type": "code",
   "execution_count": null,
   "metadata": {},
   "outputs": [],
   "source": [
    "correlation = np.corrcoef(mkt_df['clicks'], mkt_df['conversions'])[0, 1]\n",
    "print(f\"Correlation between Clicks and Conversions: {correlation:.2f}\")"
   ]
  },
  {
   "cell_type": "code",
   "execution_count": null,
   "metadata": {},
   "outputs": [],
   "source": []
  },
  {
   "cell_type": "code",
   "execution_count": null,
   "metadata": {},
   "outputs": [],
   "source": [
    "sns.scatterplot(x='spend', y='roas', data=mkt_df, alpha=0.6)\n",
    "plt.title(\"ROAS vs. Spend\")\n",
    "plt.xlabel(\"Spend\")\n",
    "plt.ylabel(\"ROAS\")\n",
    "plt.grid(True)\n",
    "plt.show()"
   ]
  },
  {
   "cell_type": "markdown",
   "metadata": {},
   "source": [
    "Identify drop-off points in the marketing funnel."
   ]
  },
  {
   "cell_type": "code",
   "execution_count": null,
   "metadata": {},
   "outputs": [],
   "source": [
    "mkt_df['impression_to_click'] = mkt_df['clicks'] / mkt_df['impressions']\n",
    "mkt_df['click_to_conversion'] = mkt_df['conversions'] / mkt_df['clicks']\n",
    "\n",
    "print(mkt_df[['channel', 'impression_to_click', 'click_to_conversion']].groupby('channel').mean())\n"
   ]
  },
  {
   "cell_type": "code",
   "execution_count": null,
   "metadata": {},
   "outputs": [],
   "source": [
    "plt.figure(figsize=(8, 5))\n",
    "sns.scatterplot(x='spend', y='revenue_generated', data=mkt_df, alpha=0.6)\n",
    "sns.regplot(x='spend', y='revenue_generated', data=mkt_df, scatter=False, color='red')\n",
    "plt.title(\"Marketing Spend vs. Revenue Generated\")\n",
    "plt.xlabel(\"Marketing Spend ($)\")\n",
    "plt.ylabel(\"Revenue Generated ($)\")\n",
    "plt.grid(True, linestyle='--', alpha=0.5)\n",
    "plt.show()"
   ]
  },
  {
   "cell_type": "markdown",
   "metadata": {},
   "source": [
    "Which campaigns have the most efficient budget allocation:"
   ]
  },
  {
   "cell_type": "code",
   "execution_count": null,
   "metadata": {},
   "outputs": [],
   "source": [
    "mkt_df['spend_to_revenue_ratio'] = mkt_df['spend'] / mkt_df['revenue_generated']\n",
    "\n",
    "plt.figure(figsize=(10, 5))\n",
    "sns.barplot(x='campaign_name', y='spend_to_revenue_ratio', data=mkt_df.sort_values(by='spend_to_revenue_ratio'), palette='coolwarm')\n",
    "plt.title(\"Spend-to-Revenue Ratio by Campaign\")\n",
    "plt.xlabel(\"Campaign\")\n",
    "plt.ylabel(\"Spend-to-Revenue Ratio\")\n",
    "plt.xticks(rotation=45)\n",
    "plt.show()"
   ]
  },
  {
   "cell_type": "code",
   "execution_count": null,
   "metadata": {},
   "outputs": [],
   "source": [
    "#move this visual up"
   ]
  },
  {
   "cell_type": "code",
   "execution_count": null,
   "metadata": {},
   "outputs": [],
   "source": [
    "plt.figure(figsize=(8, 5))\n",
    "sns.boxplot(x='channel', y='roas', data=mkt_df, palette='pastel')\n",
    "plt.title(\"ROAS Distribution by Marketing Channel\")\n",
    "plt.xlabel(\"Marketing Channel\")\n",
    "plt.ylabel(\"ROAS\")\n",
    "plt.xticks(rotation=45)\n",
    "plt.show()"
   ]
  },
  {
   "cell_type": "markdown",
   "metadata": {},
   "source": [
    "Shows whether higher budget allocation leads to higher conversions:"
   ]
  },
  {
   "cell_type": "code",
   "execution_count": null,
   "metadata": {},
   "outputs": [],
   "source": [
    "plt.figure(figsize=(10, 5))\n",
    "sns.barplot(x='channel', y='spend', data=mkt_df, color='blue', label='Spend')\n",
    "sns.barplot(x='channel', y='conversions', data=mkt_df, color='orange', label='Conversions')\n",
    "plt.title(\"Marketing Budget Allocation vs. Conversions\")\n",
    "plt.xlabel(\"Marketing Channel\")\n",
    "plt.ylabel(\"Amount\")\n",
    "plt.xticks(rotation=45)\n",
    "plt.legend()\n",
    "plt.show()"
   ]
  },
  {
   "cell_type": "markdown",
   "metadata": {},
   "source": [
    "## File 5: Blinkit Inventory- likely to OMIT **NOTE -NEW version, or og version**"
   ]
  },
  {
   "cell_type": "code",
   "execution_count": null,
   "metadata": {},
   "outputs": [],
   "source": [
    "df5 = pd.read_csv('/Users/tovi/Documents/blinkit_inventoryNew.csv')\n",
    "df5"
   ]
  },
  {
   "cell_type": "code",
   "execution_count": null,
   "metadata": {},
   "outputs": [],
   "source": [
    "df5.info()"
   ]
  },
  {
   "cell_type": "code",
   "execution_count": null,
   "metadata": {},
   "outputs": [],
   "source": [
    "df5.shape"
   ]
  },
  {
   "cell_type": "code",
   "execution_count": null,
   "metadata": {},
   "outputs": [],
   "source": [
    "df5.isnull()"
   ]
  },
  {
   "cell_type": "code",
   "execution_count": null,
   "metadata": {},
   "outputs": [],
   "source": [
    "df5['date'] = pd.to_datetime(inventory_df['date'], format=\"%d-%m-%Y\")\n",
    "\n",
    "# Group by date and sum stock received\n",
    "daily_stock = inventory_df.groupby('date')['stock_received'].sum()\n",
    "\n",
    "# Plot the trend\n",
    "plt.figure(figsize=(12, 6))\n",
    "sns.lineplot(x=daily_stock.index, y=daily_stock.values)\n",
    "plt.xlabel(\"Date\")\n",
    "plt.ylabel(\"Total Stock Received\")\n",
    "plt.title(\"Total Stock Received Over Time\")\n",
    "plt.xticks(rotation=45)\n",
    "plt.show()"
   ]
  },
  {
   "cell_type": "code",
   "execution_count": null,
   "metadata": {},
   "outputs": [],
   "source": [
    "# Extract month and weekday\n",
    "df5['month'] = df5['date'].dt.month\n",
    "df5['weekday'] = df5['date'].dt.day_name()\n",
    "\n",
    "# Monthly trend\n",
    "plt.figure(figsize=(10, 5))\n",
    "sns.boxplot(x=inventory_df['month'], y=inventory_df['stock_received'])\n",
    "plt.xlabel(\"Month\")\n",
    "plt.ylabel(\"Stock Received\")\n",
    "plt.title(\"Monthly Stock Received Distribution\")\n",
    "plt.show()\n",
    "\n",
    "# Weekly trend\n",
    "plt.figure(figsize=(10, 5))\n",
    "sns.boxplot(x=inventory_df['weekday'], y=inventory_df['stock_received'], order=[\n",
    "    'Monday', 'Tuesday', 'Wednesday', 'Thursday', 'Friday', 'Saturday', 'Sunday'])\n",
    "plt.xlabel(\"Weekday\")\n",
    "plt.ylabel(\"Stock Received\")\n",
    "plt.title(\"Stock Received by Day of the Week\")\n",
    "plt.show()"
   ]
  },
  {
   "cell_type": "code",
   "execution_count": null,
   "metadata": {},
   "outputs": [],
   "source": [
    "# Total stock received per product\n",
    "product_stock = df5.groupby('product_id')['stock_received'].sum()\n",
    "\n",
    "# Top 10 products with highest stock received\n",
    "top_products = product_stock.nlargest(10)\n",
    "\n",
    "# Plot\n",
    "plt.figure(figsize=(12, 6))\n",
    "sns.barplot(x=top_products.index, y=top_products.values)\n",
    "plt.xlabel(\"Product ID\")\n",
    "plt.ylabel(\"Total Stock Received\")\n",
    "plt.title(\"Top 10 Products with Highest Stock Received\")\n",
    "plt.xticks(rotation=45)\n",
    "plt.show()\n"
   ]
  },
  {
   "cell_type": "code",
   "execution_count": null,
   "metadata": {},
   "outputs": [],
   "source": [
    "# What is the average stock received per product?\n",
    "\n",
    "# Calculate mean stock received per product\n",
    "avg_stock_per_product = df5.groupby('product_id')['stock_received'].mean()\n",
    "\n",
    "# Plot distribution\n",
    "plt.figure(figsize=(10, 5))\n",
    "sns.histplot(avg_stock_per_product, bins=50, kde=True)\n",
    "plt.xlabel(\"Average Stock Received per Product\")\n",
    "plt.ylabel(\"Frequency\")\n",
    "plt.title(\"Distribution of Average Stock Received per Product\")\n",
    "plt.show()"
   ]
  },
  {
   "cell_type": "code",
   "execution_count": null,
   "metadata": {},
   "outputs": [],
   "source": [
    "avg_stock_per_product"
   ]
  },
  {
   "cell_type": "code",
   "execution_count": null,
   "metadata": {},
   "outputs": [],
   "source": [
    "#What percentage of received stock is damaged on average?\n",
    "\n",
    "# Calculate total stock and damaged stock\n",
    "total_stock = df5['stock_received'].sum()\n",
    "total_damaged = df5['damaged_stock'].sum()\n",
    "\n",
    "# Calculate percentage\n",
    "damage_percentage = (total_damaged / total_stock) * 100\n",
    "print(f\"Average percentage of damaged stock: {damage_percentage:.2f}%\")"
   ]
  },
  {
   "cell_type": "code",
   "execution_count": null,
   "metadata": {},
   "outputs": [],
   "source": [
    "#are there certain products that consistently have higher damage rates?\n",
    "\n",
    "# Calculate damage rate per product\n",
    "df5['damage_rate'] = df5['damaged_stock'] / inventory_df['stock_received']\n",
    "product_damage = df5.groupby('product_id')['damage_rate'].mean()\n",
    "\n",
    "# Top 10 products with highest damage rate\n",
    "top_damaged_products = product_damage.nlargest(10)\n",
    "\n",
    "# Plot\n",
    "plt.figure(figsize=(12, 6))\n",
    "sns.barplot(x=top_damaged_products.index, y=top_damaged_products.values)\n",
    "plt.xlabel(\"Product ID\")\n",
    "plt.ylabel(\"Average Damage Rate\")\n",
    "plt.title(\"Top 10 Products with Highest Damage Rate\")\n",
    "plt.xticks(rotation=45)\n",
    "plt.show()\n"
   ]
  },
  {
   "cell_type": "code",
   "execution_count": null,
   "metadata": {},
   "outputs": [],
   "source": [
    "df5['damage_rate'].nlargest(10)"
   ]
  },
  {
   "cell_type": "code",
   "execution_count": null,
   "metadata": {},
   "outputs": [],
   "source": [
    "# how does damage rate change over time\n",
    "\n",
    "# Calculate daily damage rate\n",
    "daily_damage_rate = (df5.groupby('date')['damaged_stock'].sum() /\n",
    "                     df5.groupby('date')['stock_received'].sum()) * 100\n",
    "\n",
    "# Plot trend\n",
    "plt.figure(figsize=(12, 6))\n",
    "sns.lineplot(x=daily_damage_rate.index, y=daily_damage_rate.values)\n",
    "plt.xlabel(\"Date\")\n",
    "plt.ylabel(\"Daily Damage Rate (%)\")\n",
    "plt.title(\"Daily Damage Rate Over Time\")\n",
    "plt.xticks(rotation=45)\n",
    "plt.show()"
   ]
  },
  {
   "cell_type": "code",
   "execution_count": null,
   "metadata": {},
   "outputs": [],
   "source": []
  },
  {
   "cell_type": "code",
   "execution_count": null,
   "metadata": {},
   "outputs": [],
   "source": []
  },
  {
   "cell_type": "markdown",
   "metadata": {},
   "source": [
    "### File 7: Blinkit Delivery Times: **NOTE maybe to be excluded- order_df shows delivery times and stats, only one unique value for reasons_if_delayed which is traffic.**"
   ]
  },
  {
   "cell_type": "code",
   "execution_count": null,
   "metadata": {},
   "outputs": [],
   "source": [
    "df7 = pd.read_csv('/Users/tovi/Documents/blinkit_delivery_performance.csv')\n",
    "df7"
   ]
  },
  {
   "cell_type": "code",
   "execution_count": null,
   "metadata": {},
   "outputs": [],
   "source": [
    "df7['reasons_if_delayed'].nunique()"
   ]
  },
  {
   "cell_type": "markdown",
   "metadata": {},
   "source": [
    "### File 8: Blinkit Customers"
   ]
  },
  {
   "cell_type": "code",
   "execution_count": null,
   "metadata": {},
   "outputs": [],
   "source": [
    "cust_df = pd.read_csv('/Users/tovi/Documents/blinkit_customers.csv')\n",
    "cust_df"
   ]
  },
  {
   "cell_type": "code",
   "execution_count": null,
   "metadata": {},
   "outputs": [],
   "source": [
    "#only keep desired columns\n",
    "columns=['customer_id', 'area', 'registration_date', 'customer_segment', 'total_orders', 'avg_order_value']\n"
   ]
  },
  {
   "cell_type": "code",
   "execution_count": null,
   "metadata": {},
   "outputs": [],
   "source": [
    "# Convert registration_date to datetime\n",
    "cust_df['registration_date'] = pd.to_datetime(cust_df['registration_date'])"
   ]
  },
  {
   "cell_type": "code",
   "execution_count": null,
   "metadata": {},
   "outputs": [],
   "source": [
    "# 1. Distribution of customers across different segments\n",
    "plt.figure(figsize=(8, 5))\n",
    "sns.countplot(x=cust_df['customer_segment'], palette='viridis')\n",
    "plt.title(\"Customer Distribution by Segment\")\n",
    "plt.xlabel(\"Customer Segment\")\n",
    "plt.ylabel(\"Count\")\n",
    "plt.show()"
   ]
  },
  {
   "cell_type": "code",
   "execution_count": null,
   "metadata": {},
   "outputs": [],
   "source": [
    "# 2. Average total orders per customer segment\n",
    "avg_orders = cust_df.groupby('customer_segment')['total_orders'].mean().sort_values()\n",
    "print(\"Average Total Orders per Customer Segment:\\n\", avg_orders)\n"
   ]
  },
  {
   "cell_type": "code",
   "execution_count": null,
   "metadata": {},
   "outputs": [],
   "source": [
    "# 3. Average order value across customer segments\n",
    "avg_order_value = cust_df.groupby('customer_segment')['avg_order_value'].mean()\n",
    "print(\"Average Order Value per Customer Segment:\\n\", avg_order_value)"
   ]
  },
  {
   "cell_type": "code",
   "execution_count": null,
   "metadata": {},
   "outputs": [],
   "source": [
    "# 4. Percentage of customers with fewer than 5 orders\n",
    "low_order_percentage = (cust_df[cust_df['total_orders'] < 5].shape[0] / cust_df.shape[0]) * 100\n",
    "print(f\"Percentage of customers with fewer than 5 orders: {low_order_percentage:.2f}%\")"
   ]
  },
  {
   "cell_type": "code",
   "execution_count": null,
   "metadata": {},
   "outputs": [],
   "source": [
    "# 5. Total revenue generated by each customer segment\n",
    "cust_df['total_revenue'] = cust_df['total_orders'] * cust_df['avg_order_value']\n",
    "total_revenue = cust_df.groupby('customer_segment')['total_revenue'].sum()\n",
    "print(\"Total Revenue by Customer Segment:\\n\", total_revenue)"
   ]
  },
  {
   "cell_type": "code",
   "execution_count": null,
   "metadata": {},
   "outputs": [],
   "source": [
    "# 6. Correlation between total orders and average order value\n",
    "correlation = cust_df[['total_orders', 'avg_order_value']].corr()\n",
    "print(\"Correlation between Total Orders and Average Order Value:\\n\", correlation)\n",
    "sns.heatmap(correlation, annot=True, cmap='coolwarm')\n",
    "plt.title(\"Correlation Heatmap\")\n",
    "plt.show()"
   ]
  },
  {
   "cell_type": "code",
   "execution_count": null,
   "metadata": {},
   "outputs": [],
   "source": [
    "# 7. Highest and lowest average order values\n",
    "max_order_value = cust_df['avg_order_value'].max()\n",
    "min_order_value = cust_df['avg_order_value'].min()\n",
    "print(f\"Highest Average Order Value: {max_order_value}\")\n",
    "print(f\"Lowest Average Order Value: {min_order_value}\")\n"
   ]
  },
  {
   "cell_type": "code",
   "execution_count": null,
   "metadata": {},
   "outputs": [],
   "source": [
    "# 8. Area with the highest number of registered customers\n",
    "top_area = cust_df['area'].value_counts().idxmax()\n",
    "print(f\"Area with the most customers: {top_area}\")"
   ]
  },
  {
   "cell_type": "code",
   "execution_count": null,
   "metadata": {},
   "outputs": [],
   "source": [
    "# 8. Area with the lowest number of registered customers\n",
    "top_area = cust_df['area'].value_counts().idxmin()\n",
    "print(f\"Area with the fewest customers: {top_area}\")"
   ]
  },
  {
   "cell_type": "code",
   "execution_count": null,
   "metadata": {},
   "outputs": [],
   "source": [
    "# 9. Average order value per area\n",
    "area_avg_order_value = cust_df.groupby('area')['avg_order_value'].mean()\n",
    "print(\"Average Order Value per Area:\\n\", area_avg_order_value)"
   ]
  },
  {
   "cell_type": "markdown",
   "metadata": {},
   "source": [
    "## get max of this value as well"
   ]
  },
  {
   "cell_type": "code",
   "execution_count": null,
   "metadata": {},
   "outputs": [],
   "source": [
    "# 10. Areas with the highest percentage of Premium customers\n",
    "premium_distribution = cust_df[cust_df['customer_segment'] == 'Premium']['area'].value_counts()\n",
    "print(\"Areas with highest Premium customer count:\\n\", premium_distribution.head())"
   ]
  },
  {
   "cell_type": "code",
   "execution_count": null,
   "metadata": {},
   "outputs": [],
   "source": [
    "# 11. Monthly customer registrations\n",
    "cust_df['registration_month'] = cust_df['registration_date'].dt.to_period(\"M\")\n",
    "monthly_registrations = cust_df['registration_month'].value_counts().sort_index()\n",
    "monthly_registrations.plot(kind='line', marker='o', figsize=(10, 5))\n",
    "plt.title(\"Monthly Customer Registrations\")\n",
    "plt.xlabel(\"Month\")\n",
    "plt.ylabel(\"Number of Registrations\")\n",
    "plt.show()"
   ]
  },
  {
   "cell_type": "code",
   "execution_count": null,
   "metadata": {},
   "outputs": [],
   "source": [
    "# 12. Trend of new customer registrations over time\n",
    "sns.histplot(cust_df['registration_date'], bins=20, kde=True)\n",
    "plt.title(\"New Customer Registrations Over Time\")\n",
    "plt.xlabel(\"Date\")\n",
    "plt.ylabel(\"Count\")\n",
    "plt.show()"
   ]
  },
  {
   "cell_type": "code",
   "execution_count": null,
   "metadata": {},
   "outputs": [],
   "source": [
    "# 13. Recent customer segment distribution (last 3 months)\n",
    "recent_customers = cust_df[cust_df['registration_date'] >= cust_df['registration_date'].max() - pd.DateOffset(months=3)]\n",
    "sns.countplot(x=recent_customers['customer_segment'], palette='coolwarm', legend=False)\n",
    "plt.title(\"Customer Segments for Recent Registrations\")\n",
    "plt.show()"
   ]
  },
  {
   "cell_type": "code",
   "execution_count": null,
   "metadata": {},
   "outputs": [],
   "source": [
    "# 13. Recent customer segment distribution (last 6 months)\n",
    "recent_customers = cust_df[cust_df['registration_date'] >= cust_df['registration_date'].max() - pd.DateOffset(months=6)]\n",
    "sns.countplot(x=recent_customers['customer_segment'], palette='coolwarm', legend=False)\n",
    "plt.title(\"Customer Segments for Recent Registrations\")\n",
    "plt.show()"
   ]
  },
  {
   "cell_type": "code",
   "execution_count": null,
   "metadata": {},
   "outputs": [],
   "source": []
  },
  {
   "cell_type": "code",
   "execution_count": null,
   "metadata": {},
   "outputs": [],
   "source": []
  },
  {
   "cell_type": "code",
   "execution_count": null,
   "metadata": {},
   "outputs": [],
   "source": []
  },
  {
   "cell_type": "markdown",
   "metadata": {},
   "source": [
    "### File 9: Blinkit Customer Feedback"
   ]
  },
  {
   "cell_type": "code",
   "execution_count": null,
   "metadata": {},
   "outputs": [],
   "source": [
    "feedback_df = pd.read_csv('/Users/tovi/Documents/blinkit_customer_feedback.csv')\n",
    "feedback_df"
   ]
  },
  {
   "cell_type": "markdown",
   "metadata": {},
   "source": [
    "Overall Rating Distribution:"
   ]
  },
  {
   "cell_type": "code",
   "execution_count": null,
   "metadata": {},
   "outputs": [],
   "source": [
    "feedback_df['rating'].plot(kind='hist', bins=5, edgecolor='black')\n",
    "plt.xlabel('Rating')\n",
    "plt.ylabel('Count')\n",
    "plt.title('Distribution of Customer Ratings')\n",
    "plt.show()"
   ]
  },
  {
   "cell_type": "markdown",
   "metadata": {},
   "source": [
    "Sentiment Distribution"
   ]
  },
  {
   "cell_type": "code",
   "execution_count": null,
   "metadata": {},
   "outputs": [],
   "source": [
    "# Count occurrences of each sentiment\n",
    "sentiment_counts = feedback_df['sentiment'].value_counts()\n",
    "\n",
    "# Plot sentiment distribution\n",
    "sentiment_counts.plot(kind='bar', color=['green', 'gray', 'red'])\n",
    "plt.xlabel('Sentiment')\n",
    "plt.ylabel('Count')\n",
    "plt.title('Customer Feedback Sentiment Distribution')\n",
    "plt.show()"
   ]
  },
  {
   "cell_type": "markdown",
   "metadata": {},
   "source": [
    "Average Rating per Feedback Category:"
   ]
  },
  {
   "cell_type": "code",
   "execution_count": null,
   "metadata": {},
   "outputs": [],
   "source": [
    "category_avg_rating = feedback_df.groupby('feedback_category')['rating'].mean().sort_values()\n",
    "\n",
    "# Plot category vs. average rating\n",
    "category_avg_rating.plot(kind='bar', color='skyblue')\n",
    "plt.xlabel('Feedback Category')\n",
    "plt.ylabel('Average Rating')\n",
    "plt.title('Average Rating per Feedback Category')\n",
    "plt.xticks(rotation=45)\n",
    "plt.show()"
   ]
  },
  {
   "cell_type": "code",
   "execution_count": null,
   "metadata": {},
   "outputs": [],
   "source": []
  },
  {
   "cell_type": "code",
   "execution_count": null,
   "metadata": {},
   "outputs": [],
   "source": [
    "feedback_df['feedback_date'] = pd.to_datetime(feedback_df['feedback_date'])\n",
    "\n",
    "# Count sentiment over time\n",
    "sentiment_trend = feedback_df.groupby(feedback_df['feedback_date'].dt.to_period('M'))['sentiment'].value_counts().unstack()\n",
    "\n",
    "# Plot sentiment trend\n",
    "sentiment_trend.plot(kind='line', marker='o')\n",
    "plt.xlabel('Date')\n",
    "plt.ylabel('Count')\n",
    "plt.title('Sentiment Trends Over Time')\n",
    "plt.legend(title='Sentiment')\n",
    "plt.show()"
   ]
  },
  {
   "cell_type": "code",
   "execution_count": null,
   "metadata": {},
   "outputs": [],
   "source": []
  },
  {
   "cell_type": "code",
   "execution_count": null,
   "metadata": {},
   "outputs": [],
   "source": [
    "from collections import Counter\n",
    "import re\n",
    "\n",
    "# Combine all negative feedback\n",
    "negative_feedback = ' '.join(feedback_df[feedback_df['sentiment'] == 'Negative']['feedback_text'])\n",
    "\n",
    "# Tokenize and count words\n",
    "words = re.findall(r'\\b\\w+\\b', negative_feedback.lower())\n",
    "word_counts = Counter(words)\n",
    "\n",
    "# Get 10 most common words\n",
    "common_words = word_counts.most_common(20)\n",
    "print(common_words)"
   ]
  },
  {
   "cell_type": "code",
   "execution_count": null,
   "metadata": {},
   "outputs": [],
   "source": []
  },
  {
   "cell_type": "code",
   "execution_count": null,
   "metadata": {},
   "outputs": [],
   "source": []
  },
  {
   "cell_type": "markdown",
   "metadata": {},
   "source": [
    "**TO DO**\n",
    "- create separate doc for analysis w SQL documentation\n",
    "- upload CSVs to pgadmin\n",
    "- select files for PYTHON EDA, NOT SQL, reduce it, upload, view, and choose- explain in beginning why certain python files were left out of the python analysis\n",
    "- should anything be combined?\n",
    "- choose top 2-3 files for matplot and numpy demo\n",
    "- Tableau dashboard"
   ]
  },
  {
   "cell_type": "markdown",
   "metadata": {},
   "source": [
    "## Exploratory "
   ]
  },
  {
   "cell_type": "code",
   "execution_count": null,
   "metadata": {},
   "outputs": [],
   "source": []
  },
  {
   "cell_type": "code",
   "execution_count": null,
   "metadata": {},
   "outputs": [],
   "source": []
  }
 ],
 "metadata": {
  "kernelspec": {
   "display_name": "base",
   "language": "python",
   "name": "python3"
  },
  "language_info": {
   "codemirror_mode": {
    "name": "ipython",
    "version": 3
   },
   "file_extension": ".py",
   "mimetype": "text/x-python",
   "name": "python",
   "nbconvert_exporter": "python",
   "pygments_lexer": "ipython3",
   "version": "3.12.4"
  }
 },
 "nbformat": 4,
 "nbformat_minor": 4
}
