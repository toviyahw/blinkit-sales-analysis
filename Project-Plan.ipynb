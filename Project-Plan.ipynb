{
 "cells": [
  {
   "cell_type": "markdown",
   "metadata": {},
   "source": [
    "# Blinkit Sales: Exploratory Data Analysis with Python"
   ]
  },
  {
   "cell_type": "markdown",
   "metadata": {},
   "source": [
    "### Purpose:\n",
    "This project aims to analyze sales data to uncover trends, optimize inventory management, and evaluate marketing effectiveness. By leveraging Python libraries such as Pandas, Matplotlib, and NumPy, I will explore patterns in order performance, delivery efficiency, and inventory levels, leading to actionable business insights.\n"
   ]
  },
  {
   "cell_type": "markdown",
   "metadata": {},
   "source": [
    "### Methodology:\n",
    "1. Data Cleaning & Preprocessing:\n",
    "Load and inspect the datasets using Pandas.\n",
    "Handle missing values and inconsistent data entries.\n",
    "Convert categorical data into appropriate formats.\n",
    "Merge relevant datasets to create a unified view for analysis.\n",
    "2. Exploratory Data Analysis (EDA):\n",
    "Generate summary statistics for key numerical and categorical variables.\n",
    "Analyze sales distribution and seasonal trends.\n",
    "Identify top-selling and least-selling products.\n",
    "Investigate correlations between pricing, sales volume, and marketing efforts.\n",
    "3. Data Visualization:\n",
    "Create bar charts and histograms to show sales trends across different categories.\n",
    "Develop time-series plots to analyze seasonal patterns in sales.\n",
    "Use heatmaps to identify relationships between different features (e.g., sales and marketing spend).\n",
    "Visualize inventory turnover and stockout trends.\n",
    "4. Research Questions:\n",
    "What are the top-selling products and categories based on sales revenue and order volume?\n",
    "How does pricing impact sales performance?\n",
    "What is the relationship between marketing spend and sales growth?\n",
    "How efficient is the delivery process, and what factors influence delivery times?\n",
    "Are there seasonal patterns in sales, and how do they affect inventory levels?\n",
    "How can inventory management be optimized to reduce stockouts and overstocking?"
   ]
  },
  {
   "cell_type": "markdown",
   "metadata": {},
   "source": [
    "### Tools & Technologies:\n",
    "- Python Libraries: Pandas, NumPy, and Matplotlib.\n",
    "- Jupyter Notebook: For code execution and analysis"
   ]
  },
  {
   "cell_type": "markdown",
   "metadata": {},
   "source": [
    "### Documentation Overview:"
   ]
  },
  {
   "cell_type": "markdown",
   "metadata": {},
   "source": [
    "This dataset consists of 9 different CSV files containing different categories of information. For this initial analysis using Python, I will keep the files separate. I will leverage SQL to manipulate the tables and produce further insights later on. This document is organized by file, where the EDA process is repeated for each one. I will clean and explore each file individually before laying out all of my findings at the end to produce a report containing key business insights and recommendations. "
   ]
  },
  {
   "cell_type": "markdown",
   "metadata": {},
   "source": [
    "### File 1: Blinket Products\n",
    "This file contains key product information. Upon viewing it, I developed these questions to answer:\n",
    "- What is the average list price and profit margin across all products?\n",
    "- Which products have the highest and lowest profit margin?\n",
    "- fill\n",
    "\n",
    "\\\n",
    "*Note: the 'mrp' column stands for Maximum Retail Price.*"
   ]
  },
  {
   "cell_type": "code",
   "execution_count": 28,
   "metadata": {},
   "outputs": [
    {
     "data": {
      "text/html": [
       "<div>\n",
       "<style scoped>\n",
       "    .dataframe tbody tr th:only-of-type {\n",
       "        vertical-align: middle;\n",
       "    }\n",
       "\n",
       "    .dataframe tbody tr th {\n",
       "        vertical-align: top;\n",
       "    }\n",
       "\n",
       "    .dataframe thead th {\n",
       "        text-align: right;\n",
       "    }\n",
       "</style>\n",
       "<table border=\"1\" class=\"dataframe\">\n",
       "  <thead>\n",
       "    <tr style=\"text-align: right;\">\n",
       "      <th></th>\n",
       "      <th>product_id</th>\n",
       "      <th>product_name</th>\n",
       "      <th>category</th>\n",
       "      <th>brand</th>\n",
       "      <th>price</th>\n",
       "      <th>mrp</th>\n",
       "      <th>margin_percentage</th>\n",
       "      <th>shelf_life_days</th>\n",
       "      <th>min_stock_level</th>\n",
       "      <th>max_stock_level</th>\n",
       "    </tr>\n",
       "  </thead>\n",
       "  <tbody>\n",
       "    <tr>\n",
       "      <th>0</th>\n",
       "      <td>153019</td>\n",
       "      <td>Onions</td>\n",
       "      <td>Fruits &amp; Vegetables</td>\n",
       "      <td>Aurora LLC</td>\n",
       "      <td>947.95</td>\n",
       "      <td>1263.93</td>\n",
       "      <td>25.0</td>\n",
       "      <td>3</td>\n",
       "      <td>13</td>\n",
       "      <td>88</td>\n",
       "    </tr>\n",
       "    <tr>\n",
       "      <th>1</th>\n",
       "      <td>11422</td>\n",
       "      <td>Potatoes</td>\n",
       "      <td>Fruits &amp; Vegetables</td>\n",
       "      <td>Ramaswamy-Tata</td>\n",
       "      <td>127.16</td>\n",
       "      <td>169.55</td>\n",
       "      <td>25.0</td>\n",
       "      <td>3</td>\n",
       "      <td>20</td>\n",
       "      <td>65</td>\n",
       "    </tr>\n",
       "    <tr>\n",
       "      <th>2</th>\n",
       "      <td>669378</td>\n",
       "      <td>Potatoes</td>\n",
       "      <td>Fruits &amp; Vegetables</td>\n",
       "      <td>Chadha and Sons</td>\n",
       "      <td>212.14</td>\n",
       "      <td>282.85</td>\n",
       "      <td>25.0</td>\n",
       "      <td>3</td>\n",
       "      <td>23</td>\n",
       "      <td>70</td>\n",
       "    </tr>\n",
       "    <tr>\n",
       "      <th>3</th>\n",
       "      <td>848226</td>\n",
       "      <td>Tomatoes</td>\n",
       "      <td>Fruits &amp; Vegetables</td>\n",
       "      <td>Barad and Sons</td>\n",
       "      <td>209.59</td>\n",
       "      <td>279.45</td>\n",
       "      <td>25.0</td>\n",
       "      <td>3</td>\n",
       "      <td>10</td>\n",
       "      <td>51</td>\n",
       "    </tr>\n",
       "    <tr>\n",
       "      <th>4</th>\n",
       "      <td>890623</td>\n",
       "      <td>Onions</td>\n",
       "      <td>Fruits &amp; Vegetables</td>\n",
       "      <td>Sangha, Nagar and Varty</td>\n",
       "      <td>354.52</td>\n",
       "      <td>472.69</td>\n",
       "      <td>25.0</td>\n",
       "      <td>3</td>\n",
       "      <td>27</td>\n",
       "      <td>55</td>\n",
       "    </tr>\n",
       "    <tr>\n",
       "      <th>...</th>\n",
       "      <td>...</td>\n",
       "      <td>...</td>\n",
       "      <td>...</td>\n",
       "      <td>...</td>\n",
       "      <td>...</td>\n",
       "      <td>...</td>\n",
       "      <td>...</td>\n",
       "      <td>...</td>\n",
       "      <td>...</td>\n",
       "      <td>...</td>\n",
       "    </tr>\n",
       "    <tr>\n",
       "      <th>263</th>\n",
       "      <td>444361</td>\n",
       "      <td>Pain Reliever</td>\n",
       "      <td>Pharmacy</td>\n",
       "      <td>Prakash, Bawa and Kale</td>\n",
       "      <td>822.63</td>\n",
       "      <td>1028.29</td>\n",
       "      <td>20.0</td>\n",
       "      <td>365</td>\n",
       "      <td>20</td>\n",
       "      <td>71</td>\n",
       "    </tr>\n",
       "    <tr>\n",
       "      <th>264</th>\n",
       "      <td>679284</td>\n",
       "      <td>Cough Syrup</td>\n",
       "      <td>Pharmacy</td>\n",
       "      <td>Pant LLC</td>\n",
       "      <td>877.89</td>\n",
       "      <td>1097.36</td>\n",
       "      <td>20.0</td>\n",
       "      <td>365</td>\n",
       "      <td>28</td>\n",
       "      <td>95</td>\n",
       "    </tr>\n",
       "    <tr>\n",
       "      <th>265</th>\n",
       "      <td>240179</td>\n",
       "      <td>Cough Syrup</td>\n",
       "      <td>Pharmacy</td>\n",
       "      <td>Ram-Suri</td>\n",
       "      <td>90.56</td>\n",
       "      <td>113.20</td>\n",
       "      <td>20.0</td>\n",
       "      <td>365</td>\n",
       "      <td>20</td>\n",
       "      <td>56</td>\n",
       "    </tr>\n",
       "    <tr>\n",
       "      <th>266</th>\n",
       "      <td>673058</td>\n",
       "      <td>Cough Syrup</td>\n",
       "      <td>Pharmacy</td>\n",
       "      <td>Balan-Madan</td>\n",
       "      <td>765.76</td>\n",
       "      <td>957.20</td>\n",
       "      <td>20.0</td>\n",
       "      <td>365</td>\n",
       "      <td>30</td>\n",
       "      <td>94</td>\n",
       "    </tr>\n",
       "    <tr>\n",
       "      <th>267</th>\n",
       "      <td>114414</td>\n",
       "      <td>Vitamins</td>\n",
       "      <td>Pharmacy</td>\n",
       "      <td>Kara-Golla</td>\n",
       "      <td>832.06</td>\n",
       "      <td>1040.07</td>\n",
       "      <td>20.0</td>\n",
       "      <td>365</td>\n",
       "      <td>26</td>\n",
       "      <td>66</td>\n",
       "    </tr>\n",
       "  </tbody>\n",
       "</table>\n",
       "<p>268 rows × 10 columns</p>\n",
       "</div>"
      ],
      "text/plain": [
       "     product_id   product_name             category                    brand  \\\n",
       "0        153019         Onions  Fruits & Vegetables               Aurora LLC   \n",
       "1         11422       Potatoes  Fruits & Vegetables           Ramaswamy-Tata   \n",
       "2        669378       Potatoes  Fruits & Vegetables          Chadha and Sons   \n",
       "3        848226       Tomatoes  Fruits & Vegetables           Barad and Sons   \n",
       "4        890623         Onions  Fruits & Vegetables  Sangha, Nagar and Varty   \n",
       "..          ...            ...                  ...                      ...   \n",
       "263      444361  Pain Reliever             Pharmacy   Prakash, Bawa and Kale   \n",
       "264      679284    Cough Syrup             Pharmacy                 Pant LLC   \n",
       "265      240179    Cough Syrup             Pharmacy                 Ram-Suri   \n",
       "266      673058    Cough Syrup             Pharmacy              Balan-Madan   \n",
       "267      114414       Vitamins             Pharmacy               Kara-Golla   \n",
       "\n",
       "      price      mrp  margin_percentage  shelf_life_days  min_stock_level  \\\n",
       "0    947.95  1263.93               25.0                3               13   \n",
       "1    127.16   169.55               25.0                3               20   \n",
       "2    212.14   282.85               25.0                3               23   \n",
       "3    209.59   279.45               25.0                3               10   \n",
       "4    354.52   472.69               25.0                3               27   \n",
       "..      ...      ...                ...              ...              ...   \n",
       "263  822.63  1028.29               20.0              365               20   \n",
       "264  877.89  1097.36               20.0              365               28   \n",
       "265   90.56   113.20               20.0              365               20   \n",
       "266  765.76   957.20               20.0              365               30   \n",
       "267  832.06  1040.07               20.0              365               26   \n",
       "\n",
       "     max_stock_level  \n",
       "0                 88  \n",
       "1                 65  \n",
       "2                 70  \n",
       "3                 51  \n",
       "4                 55  \n",
       "..               ...  \n",
       "263               71  \n",
       "264               95  \n",
       "265               56  \n",
       "266               94  \n",
       "267               66  \n",
       "\n",
       "[268 rows x 10 columns]"
      ]
     },
     "execution_count": 28,
     "metadata": {},
     "output_type": "execute_result"
    }
   ],
   "source": [
    "# importing libraries\n",
    "import pandas as pd\n",
    "import matplotlib.pyplot as plt\n",
    "import numpy as np\n",
    "\n",
    "# loading csv into a dataframe\n",
    "product_df = pd.read_csv('/Users/tovi/Documents/blinkit_products.csv')\n",
    "product_df"
   ]
  },
  {
   "cell_type": "code",
   "execution_count": 29,
   "metadata": {},
   "outputs": [
    {
     "name": "stdout",
     "output_type": "stream",
     "text": [
      "<class 'pandas.core.frame.DataFrame'>\n",
      "RangeIndex: 268 entries, 0 to 267\n",
      "Data columns (total 10 columns):\n",
      " #   Column             Non-Null Count  Dtype  \n",
      "---  ------             --------------  -----  \n",
      " 0   product_id         268 non-null    int64  \n",
      " 1   product_name       268 non-null    object \n",
      " 2   category           268 non-null    object \n",
      " 3   brand              268 non-null    object \n",
      " 4   price              268 non-null    float64\n",
      " 5   mrp                268 non-null    float64\n",
      " 6   margin_percentage  268 non-null    float64\n",
      " 7   shelf_life_days    268 non-null    int64  \n",
      " 8   min_stock_level    268 non-null    int64  \n",
      " 9   max_stock_level    268 non-null    int64  \n",
      "dtypes: float64(3), int64(4), object(3)\n",
      "memory usage: 21.1+ KB\n"
     ]
    }
   ],
   "source": [
    "# general descriptive stats\n",
    "product_df.info()"
   ]
  },
  {
   "cell_type": "code",
   "execution_count": 30,
   "metadata": {},
   "outputs": [
    {
     "name": "stdout",
     "output_type": "stream",
     "text": [
      "product_id           0\n",
      "product_name         0\n",
      "category             0\n",
      "brand                0\n",
      "price                0\n",
      "mrp                  0\n",
      "margin_percentage    0\n",
      "shelf_life_days      0\n",
      "min_stock_level      0\n",
      "max_stock_level      0\n",
      "dtype: int64\n"
     ]
    }
   ],
   "source": [
    "# checking for null values\n",
    "null_check = product_df.isnull().sum()\n",
    "print(null_check)"
   ]
  },
  {
   "cell_type": "markdown",
   "metadata": {},
   "source": [
    "All good, now this file is ready for analysis! First let's take a look at some averages:"
   ]
  },
  {
   "cell_type": "code",
   "execution_count": 32,
   "metadata": {},
   "outputs": [
    {
     "data": {
      "text/plain": [
       "price                488.356828\n",
       "margin_percentage     27.779851\n",
       "dtype: float64"
      ]
     },
     "execution_count": 32,
     "metadata": {},
     "output_type": "execute_result"
    }
   ],
   "source": [
    "product_df[['price', 'margin_percentage']].mean()"
   ]
  },
  {
   "cell_type": "markdown",
   "metadata": {},
   "source": [
    "The average product list price is $488.36, and the average profit margin across all products is 27.78%. "
   ]
  },
  {
   "cell_type": "code",
   "execution_count": null,
   "metadata": {},
   "outputs": [],
   "source": []
  },
  {
   "cell_type": "code",
   "execution_count": null,
   "metadata": {},
   "outputs": [],
   "source": []
  },
  {
   "cell_type": "markdown",
   "metadata": {},
   "source": [
    "### File 2: Blinket Deliveries\n",
    "This file contains key information on delivery times.\\\n",
    "Research Questions:\n",
    "- How frequently are items not delivered on time?\n",
    "- Are any delivery partners, customers, or stores having repeated issues with delivery?"
   ]
  },
  {
   "cell_type": "code",
   "execution_count": 35,
   "metadata": {},
   "outputs": [
    {
     "data": {
      "text/html": [
       "<div>\n",
       "<style scoped>\n",
       "    .dataframe tbody tr th:only-of-type {\n",
       "        vertical-align: middle;\n",
       "    }\n",
       "\n",
       "    .dataframe tbody tr th {\n",
       "        vertical-align: top;\n",
       "    }\n",
       "\n",
       "    .dataframe thead th {\n",
       "        text-align: right;\n",
       "    }\n",
       "</style>\n",
       "<table border=\"1\" class=\"dataframe\">\n",
       "  <thead>\n",
       "    <tr style=\"text-align: right;\">\n",
       "      <th></th>\n",
       "      <th>order_id</th>\n",
       "      <th>customer_id</th>\n",
       "      <th>order_date</th>\n",
       "      <th>promised_delivery_time</th>\n",
       "      <th>actual_delivery_time</th>\n",
       "      <th>delivery_status</th>\n",
       "      <th>order_total</th>\n",
       "      <th>payment_method</th>\n",
       "      <th>delivery_partner_id</th>\n",
       "      <th>store_id</th>\n",
       "    </tr>\n",
       "  </thead>\n",
       "  <tbody>\n",
       "    <tr>\n",
       "      <th>0</th>\n",
       "      <td>1961864118</td>\n",
       "      <td>30065862</td>\n",
       "      <td>2024-07-17 08:34:01</td>\n",
       "      <td>2024-07-17 08:52:01</td>\n",
       "      <td>2024-07-17 08:47:01</td>\n",
       "      <td>On Time</td>\n",
       "      <td>3197.07</td>\n",
       "      <td>Cash</td>\n",
       "      <td>63230</td>\n",
       "      <td>4771</td>\n",
       "    </tr>\n",
       "    <tr>\n",
       "      <th>1</th>\n",
       "      <td>1549769649</td>\n",
       "      <td>9573071</td>\n",
       "      <td>2024-05-28 13:14:29</td>\n",
       "      <td>2024-05-28 13:25:29</td>\n",
       "      <td>2024-05-28 13:27:29</td>\n",
       "      <td>On Time</td>\n",
       "      <td>976.55</td>\n",
       "      <td>Cash</td>\n",
       "      <td>14983</td>\n",
       "      <td>7534</td>\n",
       "    </tr>\n",
       "    <tr>\n",
       "      <th>2</th>\n",
       "      <td>9185164487</td>\n",
       "      <td>45477575</td>\n",
       "      <td>2024-09-23 13:07:12</td>\n",
       "      <td>2024-09-23 13:25:12</td>\n",
       "      <td>2024-09-23 13:29:12</td>\n",
       "      <td>On Time</td>\n",
       "      <td>839.05</td>\n",
       "      <td>UPI</td>\n",
       "      <td>39859</td>\n",
       "      <td>9886</td>\n",
       "    </tr>\n",
       "    <tr>\n",
       "      <th>3</th>\n",
       "      <td>9644738826</td>\n",
       "      <td>88067569</td>\n",
       "      <td>2023-11-24 16:16:56</td>\n",
       "      <td>2023-11-24 16:34:56</td>\n",
       "      <td>2023-11-24 16:33:56</td>\n",
       "      <td>On Time</td>\n",
       "      <td>440.23</td>\n",
       "      <td>Card</td>\n",
       "      <td>61497</td>\n",
       "      <td>7917</td>\n",
       "    </tr>\n",
       "    <tr>\n",
       "      <th>4</th>\n",
       "      <td>5427684290</td>\n",
       "      <td>83298567</td>\n",
       "      <td>2023-11-20 05:00:39</td>\n",
       "      <td>2023-11-20 05:17:39</td>\n",
       "      <td>2023-11-20 05:18:39</td>\n",
       "      <td>On Time</td>\n",
       "      <td>2526.68</td>\n",
       "      <td>Cash</td>\n",
       "      <td>84315</td>\n",
       "      <td>2741</td>\n",
       "    </tr>\n",
       "  </tbody>\n",
       "</table>\n",
       "</div>"
      ],
      "text/plain": [
       "     order_id  customer_id           order_date promised_delivery_time  \\\n",
       "0  1961864118     30065862  2024-07-17 08:34:01    2024-07-17 08:52:01   \n",
       "1  1549769649      9573071  2024-05-28 13:14:29    2024-05-28 13:25:29   \n",
       "2  9185164487     45477575  2024-09-23 13:07:12    2024-09-23 13:25:12   \n",
       "3  9644738826     88067569  2023-11-24 16:16:56    2023-11-24 16:34:56   \n",
       "4  5427684290     83298567  2023-11-20 05:00:39    2023-11-20 05:17:39   \n",
       "\n",
       "  actual_delivery_time delivery_status  order_total payment_method  \\\n",
       "0  2024-07-17 08:47:01         On Time      3197.07           Cash   \n",
       "1  2024-05-28 13:27:29         On Time       976.55           Cash   \n",
       "2  2024-09-23 13:29:12         On Time       839.05            UPI   \n",
       "3  2023-11-24 16:33:56         On Time       440.23           Card   \n",
       "4  2023-11-20 05:18:39         On Time      2526.68           Cash   \n",
       "\n",
       "   delivery_partner_id  store_id  \n",
       "0                63230      4771  \n",
       "1                14983      7534  \n",
       "2                39859      9886  \n",
       "3                61497      7917  \n",
       "4                84315      2741  "
      ]
     },
     "execution_count": 35,
     "metadata": {},
     "output_type": "execute_result"
    }
   ],
   "source": [
    "# loading csv into a dataframe\n",
    "delivery_df = pd.read_csv('/Users/tovi/Documents/blinkit_orders.csv')\n",
    "delivery_df.head()"
   ]
  },
  {
   "cell_type": "code",
   "execution_count": 36,
   "metadata": {},
   "outputs": [
    {
     "name": "stdout",
     "output_type": "stream",
     "text": [
      "<class 'pandas.core.frame.DataFrame'>\n",
      "RangeIndex: 268 entries, 0 to 267\n",
      "Data columns (total 10 columns):\n",
      " #   Column             Non-Null Count  Dtype  \n",
      "---  ------             --------------  -----  \n",
      " 0   product_id         268 non-null    int64  \n",
      " 1   product_name       268 non-null    object \n",
      " 2   category           268 non-null    object \n",
      " 3   brand              268 non-null    object \n",
      " 4   price              268 non-null    float64\n",
      " 5   mrp                268 non-null    float64\n",
      " 6   margin_percentage  268 non-null    float64\n",
      " 7   shelf_life_days    268 non-null    int64  \n",
      " 8   min_stock_level    268 non-null    int64  \n",
      " 9   max_stock_level    268 non-null    int64  \n",
      "dtypes: float64(3), int64(4), object(3)\n",
      "memory usage: 21.1+ KB\n"
     ]
    }
   ],
   "source": [
    "# general descriptive stats\n",
    "product_df.info()"
   ]
  },
  {
   "cell_type": "code",
   "execution_count": 37,
   "metadata": {},
   "outputs": [
    {
     "name": "stdout",
     "output_type": "stream",
     "text": [
      "order_id                  0\n",
      "customer_id               0\n",
      "order_date                0\n",
      "promised_delivery_time    0\n",
      "actual_delivery_time      0\n",
      "delivery_status           0\n",
      "order_total               0\n",
      "payment_method            0\n",
      "delivery_partner_id       0\n",
      "store_id                  0\n",
      "dtype: int64\n"
     ]
    }
   ],
   "source": [
    "# checking for null values\n",
    "null_check = delivery_df.isnull().sum()\n",
    "print(null_check)"
   ]
  },
  {
   "cell_type": "code",
   "execution_count": null,
   "metadata": {},
   "outputs": [],
   "source": []
  },
  {
   "cell_type": "markdown",
   "metadata": {},
   "source": []
  },
  {
   "cell_type": "markdown",
   "metadata": {},
   "source": [
    "### File 3: Blinket Units\n",
    "The third file contains information on unit sales and pricing:"
   ]
  },
  {
   "cell_type": "code",
   "execution_count": null,
   "metadata": {},
   "outputs": [],
   "source": [
    "df3 = pd.read_csv('/Users/tovi/Documents/blinkit_order_items.csv')\n",
    "df3"
   ]
  },
  {
   "cell_type": "markdown",
   "metadata": {},
   "source": [
    "The fourth file:"
   ]
  },
  {
   "cell_type": "code",
   "execution_count": null,
   "metadata": {},
   "outputs": [],
   "source": [
    "df4 = pd.read_csv('/Users/tovi/Documents/blinkit_marketing_performance.csv')\n",
    "df4"
   ]
  },
  {
   "cell_type": "markdown",
   "metadata": {},
   "source": [
    "The fifth file: **NOTE -NEW version, or og version**"
   ]
  },
  {
   "cell_type": "code",
   "execution_count": null,
   "metadata": {},
   "outputs": [],
   "source": [
    "df5 = pd.read_csv('/Users/tovi/Documents/blinkit_inventoryNew.csv')\n",
    "df5"
   ]
  },
  {
   "cell_type": "markdown",
   "metadata": {},
   "source": [
    "The sixth file: **NOTE**"
   ]
  },
  {
   "cell_type": "code",
   "execution_count": null,
   "metadata": {},
   "outputs": [],
   "source": [
    "df6 = pd.read_csv('/Users/tovi/Documents/blinkit_inventory.csv')\n",
    "df6"
   ]
  },
  {
   "cell_type": "markdown",
   "metadata": {},
   "source": [
    "The seventh file: **NOTE maybe to be excluded**"
   ]
  },
  {
   "cell_type": "code",
   "execution_count": null,
   "metadata": {},
   "outputs": [],
   "source": [
    "df7 = pd.read_csv('/Users/tovi/Documents/blinkit_delivery_performance.csv')\n",
    "df7"
   ]
  },
  {
   "cell_type": "markdown",
   "metadata": {},
   "source": [
    "The eigth file:"
   ]
  },
  {
   "cell_type": "code",
   "execution_count": null,
   "metadata": {},
   "outputs": [],
   "source": [
    "df8 = pd.read_csv('/Users/tovi/Documents/blinkit_customers.csv')\n",
    "df8"
   ]
  },
  {
   "cell_type": "markdown",
   "metadata": {},
   "source": [
    "The ninth file:"
   ]
  },
  {
   "cell_type": "code",
   "execution_count": null,
   "metadata": {},
   "outputs": [],
   "source": [
    "df9 = pd.read_csv('/Users/tovi/Documents/blinkit_customer_feedback.csv')\n",
    "df9"
   ]
  },
  {
   "cell_type": "code",
   "execution_count": null,
   "metadata": {},
   "outputs": [],
   "source": []
  },
  {
   "cell_type": "code",
   "execution_count": null,
   "metadata": {},
   "outputs": [],
   "source": []
  },
  {
   "cell_type": "markdown",
   "metadata": {},
   "source": [
    "**TO DO**\n",
    "- create separate doc for analysis w SQL documentation\n",
    "- upload CSVs to pgadmin\n",
    "- select files for PYTHON EDA, NOT SQL, reduce it, upload, view, and choose- explain in beginning why certain python files were left out of the python analysis\n",
    "- should anything be combined?\n",
    "- choose top 2-3 files for matplot and numpy demo\n",
    "- Tableau dashboard"
   ]
  },
  {
   "cell_type": "markdown",
   "metadata": {},
   "source": [
    "## Exploratory "
   ]
  }
 ],
 "metadata": {
  "kernelspec": {
   "display_name": "Python [conda env:base] *",
   "language": "python",
   "name": "conda-base-py"
  },
  "language_info": {
   "codemirror_mode": {
    "name": "ipython",
    "version": 3
   },
   "file_extension": ".py",
   "mimetype": "text/x-python",
   "name": "python",
   "nbconvert_exporter": "python",
   "pygments_lexer": "ipython3",
   "version": "3.12.7"
  }
 },
 "nbformat": 4,
 "nbformat_minor": 4
}
